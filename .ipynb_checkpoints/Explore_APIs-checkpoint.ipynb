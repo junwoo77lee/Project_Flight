{
 "cells": [
  {
   "cell_type": "code",
   "execution_count": 156,
   "metadata": {},
   "outputs": [],
   "source": [
    "import os\n",
    "api_key = os.environ.get('FLIGHT_API_KEY', '')\n",
    "from typing import List\n",
    "\n",
    "import requests\n",
    "import pandas as pd\n",
    "\n",
    "from pprint import pprint\n",
    "from datetime import datetime"
   ]
  },
  {
   "cell_type": "code",
   "execution_count": 315,
   "metadata": {},
   "outputs": [],
   "source": [
    "import pymongo"
   ]
  },
  {
   "cell_type": "code",
   "execution_count": 360,
   "metadata": {},
   "outputs": [],
   "source": [
    "myclient = pymongo.MongoClient(\"mongodb://localhost:27017/\")\n",
    "mydb = myclient[\"flight_app\"]\n",
    "mycol = mydb[\"timetable\"]"
   ]
  },
  {
   "cell_type": "code",
   "execution_count": 361,
   "metadata": {},
   "outputs": [],
   "source": [
    "cursor = mycol.find()"
   ]
  },
  {
   "cell_type": "code",
   "execution_count": null,
   "metadata": {},
   "outputs": [],
   "source": [
    "for update in cursor:\n",
    "    "
   ]
  },
  {
   "cell_type": "markdown",
   "metadata": {},
   "source": [
    "{ \"departure\" : { \"iataCode\" : \"DEN\", \"icaoCode\" : \"KDEN\", \"terminal\" : null, \"gate\" : \"B46\", \"baggage\" : null, \"delay\" : \"7\", \"scheduledTime\" : \"2019-09-28T22:20:00.000\", \"estimatedTime\" : \"2019-09-28T22:29:00.000\", \"actualTime\" : \"2019-09-28T22:27:00.000\", \"estimatedRunway\" : \"2019-09-28T22:27:00.000\", \"actualRunway\" : \"2019-09-28T22:27:00.000\" },\n",
    " \"arrival\" : { \"iataCode\" : \"PDX\", \"icaoCode\" : \"KPDX\", \"terminal\" : null, \"gate\" : \"E2\", \"baggage\" : null, \"delay\" : null, \"scheduledTime\" : \"2019-09-28T23:59:00.000\", \"estimatedTime\" : \"2019-09-28T23:40:00.000\", \"actualTime\" : null, \"estimatedRunway\" : null, \"actualRunway\" : null },\n",
    " \"airline\" : { \"name\" : \"United Airlines\", \"iataCode\" : \"UA\", \"icaoCode\" : \"UAL\" },\n",
    " \"flight\" : { \"number\" : \"980\", \"iataNumber\" : \"UA980\", \"icaoNumber\" : \"UAL980\" },\n",
    " \"codeshared\" : null }\n",
    "\n"
   ]
  },
  {
   "cell_type": "code",
   "execution_count": 157,
   "metadata": {},
   "outputs": [
    {
     "data": {
      "text/plain": [
       "'9a7cdb-87fe76'"
      ]
     },
     "execution_count": 157,
     "metadata": {},
     "output_type": "execute_result"
    }
   ],
   "source": [
    "\"_id\" : ObjectId(\"5d90446a4a2467b8d5bd180a\")"
   ]
  },
  {
   "cell_type": "markdown",
   "metadata": {},
   "source": [
    "### PLAN:\n",
    "##### 1.\t“ SHOW ME ALL THE FLIGHT SCHEDULE THAT DEPARTS FROM DENVER FOR TODAY ON A MAP (D3.js)”\n",
    "##### 2.\t“AND COMPARE THE SCHEDULE WITH ITS ACTUAL DATA TO DISPLAY PROGRESS ON THE SAME MAP”\n",
    "\n",
    "*\tDisplay the scheduled flight time <code><strong>(/schedule route)</strong></code> and its actual data <strong><code>(/projection route)</code></strong> onto the same map\n",
    "*\tEstimated arrival time using Flight distance API calculation a distance (or time by speed) between flight’s current location and its destination\n",
    "*\tOther possibilities: time skewness (estimated flying time - actual flying time) by airlines as a performance metric\n",
    "\n",
    "### TECHNOLOGIES:\n",
    "* Local development: FLASK + MONGODB\n",
    "* Web deployment: Google Cloud?"
   ]
  },
  {
   "cell_type": "markdown",
   "metadata": {},
   "source": [
    "#### 1. Design for FLIGHT TRACKER API\n",
    "Required fields:\n",
    "* departure - iataCode\n",
    "* arrival - iataCode\n",
    "* flight - iataNumber\n",
    "* aircraft - regNumber, iataCode\n",
    "* geography - altitude, direction, latitude, longitude\n",
    "* speed - horizontal, vertical, isGround\n",
    "* status\n",
    "* system - squawk, updated"
   ]
  },
  {
   "cell_type": "code",
   "execution_count": 195,
   "metadata": {},
   "outputs": [],
   "source": [
    "base_url  = 'http://aviation-edge.com/v2/public/flights'\n",
    "params = { 'key': api_key,\n",
    "           'depIata': 'DEN',\n",
    "#           'depIcao': '',\n",
    "#           'arrIata': '',\n",
    "#           'arrIcao': '',\n",
    "#           'aircraftIcao': '',\n",
    "#           'regNum': '',\n",
    "#           'aircraftIcao24': '',\n",
    "#           'airlineIata': '',\n",
    "#           'airlineIcao': '',\n",
    "#           'flightIata': '',\n",
    "#           'flightIcao': '',\n",
    "#           'flightNum': '',\n",
    "#           'status': '',\n",
    "#           'limit': 100\n",
    "        }\n",
    "\n",
    "resp_flight = requests.get(base_url, params=params).json()"
   ]
  },
  {
   "cell_type": "code",
   "execution_count": 196,
   "metadata": {},
   "outputs": [
    {
     "data": {
      "text/plain": [
       "367"
      ]
     },
     "execution_count": 196,
     "metadata": {},
     "output_type": "execute_result"
    }
   ],
   "source": [
    "len(resp_flight)"
   ]
  },
  {
   "cell_type": "code",
   "execution_count": 197,
   "metadata": {},
   "outputs": [
    {
     "name": "stdout",
     "output_type": "stream",
     "text": [
      "{'aircraft': {'iataCode': 'B738',\n",
      "              'icao24': '',\n",
      "              'icaoCode': 'B738',\n",
      "              'regNumber': 'N76503'},\n",
      " 'airline': {'iataCode': 'UA', 'icaoCode': 'UAL'},\n",
      " 'arrival': {'iataCode': 'LGA', 'icaoCode': 'KLGA'},\n",
      " 'departure': {'iataCode': 'DEN', 'icaoCode': 'KDEN'},\n",
      " 'flight': {'iataNumber': 'UA406', 'icaoNumber': 'UAL406', 'number': '406'},\n",
      " 'geography': {'altitude': 11277.6,\n",
      "               'direction': 88.34,\n",
      "               'latitude': 42.0506,\n",
      "               'longitude': -88.4931},\n",
      " 'speed': {'horizontal': 1024.6, 'isGround': 0, 'vertical': 0},\n",
      " 'status': 'en-route',\n",
      " 'system': {'squawk': '6261', 'updated': '1569454200'}}\n"
     ]
    }
   ],
   "source": [
    "pprint(resp_flight[3])"
   ]
  },
  {
   "cell_type": "markdown",
   "metadata": {},
   "source": [
    "#### 2. Design for AIRPORT DATABASE API\n",
    "Required fields:\n",
    "* codeIataAirport, codeIataCity, codeIso2Country\n",
    "* nameAirport, nameCountry\n",
    "* latitudeAirport, longitudeAirport\n",
    "* timezone(?)"
   ]
  },
  {
   "cell_type": "code",
   "execution_count": 230,
   "metadata": {},
   "outputs": [],
   "source": [
    "base_url = 'https://aviation-edge.com/v2/public/airportDatabase'\n",
    "params = {'key': api_key,\n",
    "          'codeIso2Country': 'US'\n",
    "         }\n",
    "\n",
    "us_airports = requests.get(base_url, params=params).json()"
   ]
  },
  {
   "cell_type": "code",
   "execution_count": 17,
   "metadata": {},
   "outputs": [
    {
     "data": {
      "text/plain": [
       "2336"
      ]
     },
     "execution_count": 17,
     "metadata": {},
     "output_type": "execute_result"
    }
   ],
   "source": [
    "len(us_airports)"
   ]
  },
  {
   "cell_type": "code",
   "execution_count": null,
   "metadata": {},
   "outputs": [],
   "source": [
    "# Display all airport results containing user-defined strings\n",
    "pprint([airport for airport in us_airports if ('denver' in airport.get('timezone').lower()) and ('international' in airport.get('nameAirport').lower())])\n"
   ]
  },
  {
   "cell_type": "code",
   "execution_count": 34,
   "metadata": {},
   "outputs": [],
   "source": [
    "# Sample data\n",
    "\n",
    "# DENVER INTERNATIONAL AIRPORT (DIA)\n",
    "\n",
    "#   'GMT': '-7',\n",
    "#   'airportId': '1746',\n",
    "#   'codeIataAirport': 'DEN',\n",
    "#   'codeIataCity': 'DEN',\n",
    "#   'codeIcaoAirport': 'KDEN',\n",
    "#   'codeIso2Country': 'US',\n",
    "#   'geonameId': '5419401',\n",
    "#   'latitudeAirport': '39.84939',\n",
    "#   'longitudeAirport': '-104.672844',\n",
    "#   'nameAirport': 'Denver International',\n",
    "#   'nameCountry': 'United States',\n",
    "#   'phone': '303-342-2000',\n",
    "#   'timezone': 'America/Denver'},"
   ]
  },
  {
   "cell_type": "markdown",
   "metadata": {},
   "source": [
    "#### 3. Design for TIMETABLE API\n",
    "Required fields ('departure'):\n",
    "* departure - iataCode, scheduledTime, gate, terminal, delay (if delayed)\n",
    "* arrival - iataCode, scheduledTime, gate, terminal, baggage, delay (if delayed)\n",
    "* airline\n",
    "* flight number (iata?)\n",
    "* status"
   ]
  },
  {
   "cell_type": "code",
   "execution_count": 385,
   "metadata": {},
   "outputs": [],
   "source": [
    "base_url = 'http://aviation-edge.com/v2/public/timetable'\n",
    "params = {'key': api_key,\n",
    "          'codeshared': 'Null',\n",
    "#           'iataCode': 'DEN',\n",
    "          'type': 'arrival'\n",
    "         }\n",
    "\n",
    "resp_timetable = requests.get(base_url, params=params).json()"
   ]
  },
  {
   "cell_type": "code",
   "execution_count": 386,
   "metadata": {},
   "outputs": [
    {
     "data": {
      "text/plain": [
       "66671"
      ]
     },
     "execution_count": 386,
     "metadata": {},
     "output_type": "execute_result"
    }
   ],
   "source": [
    "len(resp_timetable)"
   ]
  },
  {
   "cell_type": "code",
   "execution_count": 384,
   "metadata": {},
   "outputs": [
    {
     "data": {
      "text/plain": [
       "12"
      ]
     },
     "execution_count": 384,
     "metadata": {},
     "output_type": "execute_result"
    }
   ],
   "source": [
    "len([schedule for schedule in resp_timetable if schedule.get('arrival').get('iataCode') == \"LAX\"])"
   ]
  },
  {
   "cell_type": "code",
   "execution_count": 339,
   "metadata": {},
   "outputs": [
    {
     "data": {
      "text/plain": [
       "821"
      ]
     },
     "execution_count": 339,
     "metadata": {},
     "output_type": "execute_result"
    }
   ],
   "source": [
    "len(resp_timetable)"
   ]
  },
  {
   "cell_type": "code",
   "execution_count": 340,
   "metadata": {},
   "outputs": [
    {
     "data": {
      "text/plain": [
       "466"
      ]
     },
     "execution_count": 340,
     "metadata": {},
     "output_type": "execute_result"
    }
   ],
   "source": [
    "len([schedule for schedule in resp_timetable if schedule.get('codeshared') is None])"
   ]
  },
  {
   "cell_type": "code",
   "execution_count": 342,
   "metadata": {},
   "outputs": [
    {
     "data": {
      "text/plain": [
       "1767"
      ]
     },
     "execution_count": 342,
     "metadata": {},
     "output_type": "execute_result"
    }
   ],
   "source": [
    "len(resp_timetable)"
   ]
  },
  {
   "cell_type": "code",
   "execution_count": 343,
   "metadata": {},
   "outputs": [
    {
     "data": {
      "text/plain": [
       "1002"
      ]
     },
     "execution_count": 343,
     "metadata": {},
     "output_type": "execute_result"
    }
   ],
   "source": [
    "len([schedule for schedule in resp_timetable if schedule.get('codeshared') is None])"
   ]
  },
  {
   "cell_type": "code",
   "execution_count": 299,
   "metadata": {},
   "outputs": [],
   "source": [
    "c = Counter()\n",
    "a = [1, 2, 2, 3, 4]"
   ]
  },
  {
   "cell_type": "code",
   "execution_count": 306,
   "metadata": {},
   "outputs": [],
   "source": [
    "c.update(a)"
   ]
  },
  {
   "cell_type": "code",
   "execution_count": 307,
   "metadata": {},
   "outputs": [
    {
     "data": {
      "text/plain": [
       "Counter({1: 3, 2: 6, 3: 3, 4: 3})"
      ]
     },
     "execution_count": 307,
     "metadata": {},
     "output_type": "execute_result"
    }
   ],
   "source": [
    "c"
   ]
  },
  {
   "cell_type": "code",
   "execution_count": 425,
   "metadata": {},
   "outputs": [],
   "source": [
    "timetable_url = 'http://aviation-edge.com/v2/public/timetable'\n",
    "tt_params = {'key': api_key,\n",
    "               'iataCode': 'SJU',\n",
    "             'codeshared': 'Null',\n",
    "             'type': 'arrival'\n",
    "             }\n",
    "timetable_json = requests.get(timetable_url, params=tt_params).json()"
   ]
  },
  {
   "cell_type": "code",
   "execution_count": 428,
   "metadata": {},
   "outputs": [],
   "source": [
    "airport_url = 'http://aviation-edge.com/v2/public/airportDatabase'\n",
    "ap_params = {'key': api_key}\n",
    "airport_json = requests.get(airport_url, params=ap_params).json()"
   ]
  },
  {
   "cell_type": "code",
   "execution_count": 430,
   "metadata": {},
   "outputs": [
    {
     "name": "stdout",
     "output_type": "stream",
     "text": [
      "{'GMT': '-4',\n",
      " 'airportId': '7143',\n",
      " 'codeIataAirport': 'SJU',\n",
      " 'codeIataCity': 'SJU',\n",
      " 'codeIcaoAirport': 'TJSJ',\n",
      " 'codeIso2Country': 'PR',\n",
      " 'geonameId': '4568127',\n",
      " 'latitudeAirport': '18.437403',\n",
      " 'longitudeAirport': '-66.004684',\n",
      " 'nameAirport': 'Luis Munoz Marin International',\n",
      " 'nameCountry': 'Puerto Rico',\n",
      " 'phone': '787-791-3840',\n",
      " 'timezone': 'America/Puerto_Rico'}\n"
     ]
    }
   ],
   "source": [
    "for airport in airport_json:\n",
    "    if 'SJU' in airport.get('codeIataAirport'):\n",
    "        pprint(airport)\n",
    "        break"
   ]
  },
  {
   "cell_type": "code",
   "execution_count": null,
   "metadata": {},
   "outputs": [],
   "source": [
    "results = []\n",
    "for schedule in timetable_json:\n",
    "    depart_airport = schedule.get('departure').get('iataCode')\n",
    "    arrival_airport = schedule.get('arrival').get('iataCode')\n",
    "    \n",
    "    for airport in airport_json:\n",
    "        if 'US' in airport.get('codeIso2Country'):\n",
    "            if depart_airport == airport.get('codeIataAirport'):"
   ]
  },
  {
   "cell_type": "code",
   "execution_count": 392,
   "metadata": {},
   "outputs": [],
   "source": [
    "airport_ref = {}\n",
    "for airport in airport_json:\n",
    "    airport_ref[airport.get('codeIataAirport')] = airport.get('codeIso2Country')"
   ]
  },
  {
   "cell_type": "code",
   "execution_count": 421,
   "metadata": {},
   "outputs": [],
   "source": [
    "results = []\n",
    "for schedule in timetable_json:\n",
    "    \n",
    "    depart_airport = schedule.get('departure').get('iataCode')\n",
    "    arrival_airport = schedule.get('arrival').get('iataCode')\n",
    "    \n",
    "    if (airport_ref[depart_airport] == 'US') and (airport_ref[arrival_airport] == 'US'):\n",
    "        \n",
    "        if (depart_airport in major_airports) and (arrival_airport in major_airports):\n",
    "    \n",
    "            for airport in airport_json:\n",
    "                if depart_airport == airport.get('codeIataAirport'):\n",
    "                    schedule['departLat'] = float(airport.get('latitudeAirport'))\n",
    "                    schedule['departLon'] = float(airport.get('longitudeAirport'))\n",
    "                    schedule['departAirportTimezone'] = airport.get('timezone')\n",
    "                    schedule['departCityCode'] = airport.get('codeIataCity')\n",
    "\n",
    "                elif arrival_airport == airport.get('codeIataAirport'):\n",
    "                    schedule['arrivalLat'] = float(airport.get('latitudeAirport'))\n",
    "                    schedule['arrivalLon'] = float(airport.get('longitudeAirport'))\n",
    "                    schedule['arrivalAirportTimezone'] = airport.get('timezone')\n",
    "                    schedule['arrivalCityCode'] = airport.get('codeIataCity')\n",
    "\n",
    "            results.append(schedule)"
   ]
  },
  {
   "cell_type": "code",
   "execution_count": null,
   "metadata": {},
   "outputs": [],
   "source": [
    "results[:10]"
   ]
  },
  {
   "cell_type": "code",
   "execution_count": 404,
   "metadata": {},
   "outputs": [],
   "source": [
    "import pandas as pd"
   ]
  },
  {
   "cell_type": "code",
   "execution_count": 412,
   "metadata": {},
   "outputs": [],
   "source": [
    "major_airports.extend(list(pd.read_html('https://en.wikipedia.org/wiki/List_of_the_busiest_airports_in_the_United_States')[1]['IATACode']))"
   ]
  },
  {
   "cell_type": "code",
   "execution_count": 416,
   "metadata": {},
   "outputs": [],
   "source": [
    "major_airports = set(major_airports)"
   ]
  },
  {
   "cell_type": "code",
   "execution_count": null,
   "metadata": {},
   "outputs": [],
   "source": [
    "major_airports"
   ]
  },
  {
   "cell_type": "markdown",
   "metadata": {},
   "source": [
    "airportInfo.forEach(airport => {\n",
    "        masterObj.forEach(item => {\n",
    "            if (item.departAirportCode === airport.codeIataAirport) {\n",
    "                item['departLat'] = Number(airport.latitudeAirport);\n",
    "                item['departLon'] = Number(airport.longitudeAirport);\n",
    "                item['departAirportTimezone'] = airport.timezone;\n",
    "                item['departCityCode'] = airport.codeIataCity;\n",
    "            } else if (item.arrivalAirportCode === airport.codeIataAirport) {\n",
    "                item['arrivalLat'] = Number(airport.latitudeAirport);\n",
    "                item['arrivalLon'] = Number(airport.longitudeAirport);\n",
    "                item['arrivalAirportTimezone'] = airport.timezone;\n",
    "                item['arrivalCityCode'] = airport.codeIataCity;"
   ]
  },
  {
   "cell_type": "code",
   "execution_count": 285,
   "metadata": {},
   "outputs": [],
   "source": [
    "from collections import defaultdict\n",
    "from collections import Counter"
   ]
  },
  {
   "cell_type": "code",
   "execution_count": 291,
   "metadata": {},
   "outputs": [],
   "source": [
    "depart_DEN_dict = defaultdict(list)"
   ]
  },
  {
   "cell_type": "code",
   "execution_count": 292,
   "metadata": {},
   "outputs": [],
   "source": [
    "for schedule in resp_timetable:\n",
    "    if schedule.get('codeshared') is None:\n",
    "        depart_DEN_dict[schedule.get('departure').get('iataCode')].append(schedule.get('arrival').get('iataCode'))"
   ]
  },
  {
   "cell_type": "code",
   "execution_count": null,
   "metadata": {},
   "outputs": [],
   "source": [
    "depart_DEN_destinations = Counter(depart_DEN_dict['DEN'])\n",
    "depart_DEN_destinations"
   ]
  },
  {
   "cell_type": "code",
   "execution_count": 427,
   "metadata": {},
   "outputs": [
    {
     "data": {
      "text/plain": [
       "[{'type': 'arrival',\n",
       "  'status': 'scheduled',\n",
       "  'departure': {'iataCode': 'STX',\n",
       "   'icaoCode': 'TISX',\n",
       "   'terminal': None,\n",
       "   'gate': None,\n",
       "   'baggage': None,\n",
       "   'delay': None,\n",
       "   'scheduledTime': '2019-10-01T18:00:00.000',\n",
       "   'estimatedTime': None,\n",
       "   'actualTime': None,\n",
       "   'estimatedRunway': None,\n",
       "   'actualRunway': None},\n",
       "  'arrival': {'iataCode': 'SJU',\n",
       "   'icaoCode': 'TJSJ',\n",
       "   'terminal': 'B',\n",
       "   'gate': None,\n",
       "   'baggage': None,\n",
       "   'delay': None,\n",
       "   'scheduledTime': '2019-10-01T18:40:00.000',\n",
       "   'estimatedTime': None,\n",
       "   'actualTime': None,\n",
       "   'estimatedRunway': None,\n",
       "   'actualRunway': None},\n",
       "  'airline': {'name': 'Seaborne Airlines',\n",
       "   'iataCode': 'BB',\n",
       "   'icaoCode': 'SBS'},\n",
       "  'flight': {'number': '3557',\n",
       "   'iataNumber': 'BB3557',\n",
       "   'icaoNumber': 'SBS3557'},\n",
       "  'codeshared': None},\n",
       " {'type': 'arrival',\n",
       "  'status': 'scheduled',\n",
       "  'departure': {'iataCode': 'STX',\n",
       "   'icaoCode': 'TISX',\n",
       "   'terminal': None,\n",
       "   'gate': None,\n",
       "   'baggage': None,\n",
       "   'delay': None,\n",
       "   'scheduledTime': '2019-10-01T18:00:00.000',\n",
       "   'estimatedTime': None,\n",
       "   'actualTime': None,\n",
       "   'estimatedRunway': None,\n",
       "   'actualRunway': None},\n",
       "  'arrival': {'iataCode': 'SJU',\n",
       "   'icaoCode': 'TJSJ',\n",
       "   'terminal': 'B',\n",
       "   'gate': None,\n",
       "   'baggage': None,\n",
       "   'delay': None,\n",
       "   'scheduledTime': '2019-10-01T18:40:00.000',\n",
       "   'estimatedTime': None,\n",
       "   'actualTime': None,\n",
       "   'estimatedRunway': None,\n",
       "   'actualRunway': None},\n",
       "  'airline': {'name': 'Silver Airways', 'iataCode': '3M', 'icaoCode': 'SIL'},\n",
       "  'flight': {'number': '3957',\n",
       "   'iataNumber': '3M3957',\n",
       "   'icaoNumber': 'SIL3957'},\n",
       "  'codeshared': None},\n",
       " {'type': 'arrival',\n",
       "  'status': 'scheduled',\n",
       "  'departure': {'iataCode': 'STX',\n",
       "   'icaoCode': 'TISX',\n",
       "   'terminal': None,\n",
       "   'gate': None,\n",
       "   'baggage': None,\n",
       "   'delay': None,\n",
       "   'scheduledTime': '2019-10-01T15:55:00.000',\n",
       "   'estimatedTime': None,\n",
       "   'actualTime': None,\n",
       "   'estimatedRunway': None,\n",
       "   'actualRunway': None},\n",
       "  'arrival': {'iataCode': 'SJU',\n",
       "   'icaoCode': 'TJSJ',\n",
       "   'terminal': 'D',\n",
       "   'gate': None,\n",
       "   'baggage': None,\n",
       "   'delay': None,\n",
       "   'scheduledTime': '2019-10-01T16:37:00.000',\n",
       "   'estimatedTime': None,\n",
       "   'actualTime': None,\n",
       "   'estimatedRunway': None,\n",
       "   'actualRunway': None},\n",
       "  'airline': {'name': 'Cape Air', 'iataCode': '9K', 'icaoCode': 'KAP'},\n",
       "  'flight': {'number': '2501',\n",
       "   'iataNumber': '9K2501',\n",
       "   'icaoNumber': 'KAP2501'},\n",
       "  'codeshared': None},\n",
       " {'type': 'arrival',\n",
       "  'status': 'cancelled',\n",
       "  'departure': {'iataCode': 'EIS',\n",
       "   'icaoCode': 'TUPJ',\n",
       "   'terminal': None,\n",
       "   'gate': None,\n",
       "   'baggage': None,\n",
       "   'delay': '5',\n",
       "   'scheduledTime': '2019-10-01T16:00:00.000',\n",
       "   'estimatedTime': '2019-10-01T16:05:00.000',\n",
       "   'actualTime': None,\n",
       "   'estimatedRunway': None,\n",
       "   'actualRunway': None},\n",
       "  'arrival': {'iataCode': 'SJU',\n",
       "   'icaoCode': 'TJSJ',\n",
       "   'terminal': 'B',\n",
       "   'gate': None,\n",
       "   'baggage': None,\n",
       "   'delay': None,\n",
       "   'scheduledTime': '2019-10-01T16:40:00.000',\n",
       "   'estimatedTime': None,\n",
       "   'actualTime': None,\n",
       "   'estimatedRunway': None,\n",
       "   'actualRunway': None},\n",
       "  'airline': {'name': 'interCaribbean Airways',\n",
       "   'iataCode': 'JY',\n",
       "   'icaoCode': 'IWY'},\n",
       "  'flight': {'number': '512', 'iataNumber': 'JY512', 'icaoNumber': 'IWY512'},\n",
       "  'codeshared': None},\n",
       " {'type': 'arrival',\n",
       "  'status': 'scheduled',\n",
       "  'departure': {'iataCode': 'EIS',\n",
       "   'icaoCode': 'TUPJ',\n",
       "   'terminal': None,\n",
       "   'gate': None,\n",
       "   'baggage': None,\n",
       "   'delay': None,\n",
       "   'scheduledTime': '2019-10-01T16:00:00.000',\n",
       "   'estimatedTime': None,\n",
       "   'actualTime': None,\n",
       "   'estimatedRunway': None,\n",
       "   'actualRunway': None},\n",
       "  'arrival': {'iataCode': 'SJU',\n",
       "   'icaoCode': 'TJSJ',\n",
       "   'terminal': 'D',\n",
       "   'gate': None,\n",
       "   'baggage': None,\n",
       "   'delay': None,\n",
       "   'scheduledTime': '2019-10-01T16:44:00.000',\n",
       "   'estimatedTime': None,\n",
       "   'actualTime': None,\n",
       "   'estimatedRunway': None,\n",
       "   'actualRunway': None},\n",
       "  'airline': {'name': 'Cape Air', 'iataCode': '9K', 'icaoCode': 'KAP'},\n",
       "  'flight': {'number': '4561',\n",
       "   'iataNumber': '9K4561',\n",
       "   'icaoNumber': 'KAP4561'},\n",
       "  'codeshared': None},\n",
       " {'type': 'arrival',\n",
       "  'status': 'scheduled',\n",
       "  'departure': {'iataCode': 'STT',\n",
       "   'icaoCode': 'TIST',\n",
       "   'terminal': None,\n",
       "   'gate': None,\n",
       "   'baggage': None,\n",
       "   'delay': None,\n",
       "   'scheduledTime': '2019-10-01T16:15:00.000',\n",
       "   'estimatedTime': None,\n",
       "   'actualTime': None,\n",
       "   'estimatedRunway': None,\n",
       "   'actualRunway': None},\n",
       "  'arrival': {'iataCode': 'SJU',\n",
       "   'icaoCode': 'TJSJ',\n",
       "   'terminal': 'B',\n",
       "   'gate': None,\n",
       "   'baggage': None,\n",
       "   'delay': None,\n",
       "   'scheduledTime': '2019-10-01T16:45:00.000',\n",
       "   'estimatedTime': None,\n",
       "   'actualTime': None,\n",
       "   'estimatedRunway': None,\n",
       "   'actualRunway': None},\n",
       "  'airline': {'name': 'Air Sunshine', 'iataCode': 'YI', 'icaoCode': 'RSI'},\n",
       "  'flight': {'number': '215', 'iataNumber': 'YI215', 'icaoNumber': 'RSI215'},\n",
       "  'codeshared': None},\n",
       " {'type': 'arrival',\n",
       "  'status': 'scheduled',\n",
       "  'departure': {'iataCode': 'SXM',\n",
       "   'icaoCode': 'TNCM',\n",
       "   'terminal': None,\n",
       "   'gate': None,\n",
       "   'baggage': None,\n",
       "   'delay': None,\n",
       "   'scheduledTime': '2019-10-01T15:30:00.000',\n",
       "   'estimatedTime': None,\n",
       "   'actualTime': None,\n",
       "   'estimatedRunway': None,\n",
       "   'actualRunway': None},\n",
       "  'arrival': {'iataCode': 'SJU',\n",
       "   'icaoCode': 'TJSJ',\n",
       "   'terminal': 'B',\n",
       "   'gate': None,\n",
       "   'baggage': None,\n",
       "   'delay': None,\n",
       "   'scheduledTime': '2019-10-01T16:45:00.000',\n",
       "   'estimatedTime': None,\n",
       "   'actualTime': None,\n",
       "   'estimatedRunway': None,\n",
       "   'actualRunway': None},\n",
       "  'airline': {'name': 'Air Sunshine', 'iataCode': 'YI', 'icaoCode': 'RSI'},\n",
       "  'flight': {'number': '815', 'iataNumber': 'YI815', 'icaoNumber': 'RSI815'},\n",
       "  'codeshared': None},\n",
       " {'type': 'arrival',\n",
       "  'status': 'scheduled',\n",
       "  'departure': {'iataCode': 'STX',\n",
       "   'icaoCode': 'TISX',\n",
       "   'terminal': None,\n",
       "   'gate': None,\n",
       "   'baggage': None,\n",
       "   'delay': None,\n",
       "   'scheduledTime': '2019-10-01T18:00:00.000',\n",
       "   'estimatedTime': '2019-10-01T18:00:00.000',\n",
       "   'actualTime': None,\n",
       "   'estimatedRunway': None,\n",
       "   'actualRunway': None},\n",
       "  'arrival': {'iataCode': 'SJU',\n",
       "   'icaoCode': 'TJSJ',\n",
       "   'terminal': 'B',\n",
       "   'gate': None,\n",
       "   'baggage': None,\n",
       "   'delay': None,\n",
       "   'scheduledTime': '2019-10-01T18:40:00.000',\n",
       "   'estimatedTime': None,\n",
       "   'actualTime': None,\n",
       "   'estimatedRunway': None,\n",
       "   'actualRunway': None},\n",
       "  'airline': {'name': 'Seaborne Airlines',\n",
       "   'iataCode': 'BB',\n",
       "   'icaoCode': 'SBS'},\n",
       "  'flight': {'number': '3957',\n",
       "   'iataNumber': 'BB3957',\n",
       "   'icaoNumber': 'SBS3957'},\n",
       "  'codeshared': None},\n",
       " {'type': 'arrival',\n",
       "  'status': 'scheduled',\n",
       "  'departure': {'iataCode': 'AXA',\n",
       "   'icaoCode': 'TQPF',\n",
       "   'terminal': None,\n",
       "   'gate': None,\n",
       "   'baggage': None,\n",
       "   'delay': None,\n",
       "   'scheduledTime': '2019-10-01T15:30:00.000',\n",
       "   'estimatedTime': None,\n",
       "   'actualTime': None,\n",
       "   'estimatedRunway': None,\n",
       "   'actualRunway': None},\n",
       "  'arrival': {'iataCode': 'SJU',\n",
       "   'icaoCode': 'TJSJ',\n",
       "   'terminal': 'B',\n",
       "   'gate': None,\n",
       "   'baggage': None,\n",
       "   'delay': None,\n",
       "   'scheduledTime': '2019-10-01T16:45:00.000',\n",
       "   'estimatedTime': None,\n",
       "   'actualTime': None,\n",
       "   'estimatedRunway': None,\n",
       "   'actualRunway': None},\n",
       "  'airline': {'name': 'Air Sunshine', 'iataCode': 'YI', 'icaoCode': 'RSI'},\n",
       "  'flight': {'number': '907', 'iataNumber': 'YI907', 'icaoNumber': 'RSI907'},\n",
       "  'codeshared': None},\n",
       " {'type': 'arrival',\n",
       "  'status': 'scheduled',\n",
       "  'departure': {'iataCode': 'SDF',\n",
       "   'icaoCode': 'KSDF',\n",
       "   'terminal': None,\n",
       "   'gate': None,\n",
       "   'baggage': None,\n",
       "   'delay': '13',\n",
       "   'scheduledTime': '2019-10-01T15:25:00.000',\n",
       "   'estimatedTime': '2019-10-01T15:38:00.000',\n",
       "   'actualTime': None,\n",
       "   'estimatedRunway': None,\n",
       "   'actualRunway': None},\n",
       "  'arrival': {'iataCode': 'SJU',\n",
       "   'icaoCode': 'TJSJ',\n",
       "   'terminal': None,\n",
       "   'gate': None,\n",
       "   'baggage': None,\n",
       "   'delay': None,\n",
       "   'scheduledTime': '2019-10-01T19:16:00.000',\n",
       "   'estimatedTime': None,\n",
       "   'actualTime': None,\n",
       "   'estimatedRunway': None,\n",
       "   'actualRunway': None},\n",
       "  'airline': {'name': 'UPS Airlines', 'iataCode': '5X', 'icaoCode': 'UPS'},\n",
       "  'flight': {'number': '328', 'iataNumber': '5X328', 'icaoNumber': 'UPS328'},\n",
       "  'codeshared': None}]"
      ]
     },
     "execution_count": 427,
     "metadata": {},
     "output_type": "execute_result"
    }
   ],
   "source": [
    "timetable_json[:10]"
   ]
  },
  {
   "cell_type": "code",
   "execution_count": null,
   "metadata": {},
   "outputs": [],
   "source": [
    "pprint([schedule for schedule in resp_timetable if schedule.get('codeshared') is not None])"
   ]
  },
  {
   "cell_type": "code",
   "execution_count": 251,
   "metadata": {},
   "outputs": [
    {
     "name": "stdout",
     "output_type": "stream",
     "text": [
      "[{'aircraft': {'iataCode': 'B752',\n",
      "               'icao24': '4CC268',\n",
      "               'icaoCode': 'B752',\n",
      "               'regNumber': 'TFFIC'},\n",
      "  'airline': {'iataCode': 'FI', 'icaoCode': 'ICE'},\n",
      "  'arrival': {'iataCode': 'KEF', 'icaoCode': 'BIKF'},\n",
      "  'departure': {'iataCode': 'DEN', 'icaoCode': 'KDEN'},\n",
      "  'flight': {'iataNumber': 'FI670', 'icaoNumber': 'ICE670', 'number': '670'},\n",
      "  'geography': {'altitude': 7658.1,\n",
      "                'direction': 44,\n",
      "                'latitude': 40.672,\n",
      "                'longitude': -104.117},\n",
      "  'speed': {'horizontal': 755.616, 'isGround': 1, 'vertical': 8.45312},\n",
      "  'status': 'en-route',\n",
      "  'system': {'squawk': '1445', 'updated': '1569453605'}}]\n"
     ]
    }
   ],
   "source": [
    "pprint([schedule for schedule in resp_flight if schedule.get('speed').get('isGround') != 0])"
   ]
  },
  {
   "cell_type": "code",
   "execution_count": 209,
   "metadata": {},
   "outputs": [],
   "source": [
    "match_count = 0\n",
    "\n",
    "flight_numbers_in_timetable = {flight.get('flight').get('icaoNumber') for flight in resp_timetable}\n",
    "flight_numbers_in_tracker = {flight.get('flight').get('icaoNumber') for flight in resp_flight}\n",
    "\n",
    "for flight in resp_flight:\n",
    "    if flight.get('flight').get('icaoNumber') in flight_numbers_in_timetable:\n",
    "        match_count += 1"
   ]
  },
  {
   "cell_type": "code",
   "execution_count": 210,
   "metadata": {},
   "outputs": [
    {
     "data": {
      "text/plain": [
       "180"
      ]
     },
     "execution_count": 210,
     "metadata": {},
     "output_type": "execute_result"
    }
   ],
   "source": [
    "match_count"
   ]
  },
  {
   "cell_type": "code",
   "execution_count": 206,
   "metadata": {},
   "outputs": [
    {
     "data": {
      "text/plain": [
       "1019"
      ]
     },
     "execution_count": 206,
     "metadata": {},
     "output_type": "execute_result"
    }
   ],
   "source": [
    "len(flight_numbers_in_timetable)"
   ]
  },
  {
   "cell_type": "code",
   "execution_count": 208,
   "metadata": {},
   "outputs": [
    {
     "data": {
      "text/plain": [
       "367"
      ]
     },
     "execution_count": 208,
     "metadata": {},
     "output_type": "execute_result"
    }
   ],
   "source": [
    "len(flight_numbers_in_tracker)"
   ]
  },
  {
   "cell_type": "code",
   "execution_count": 132,
   "metadata": {},
   "outputs": [],
   "source": [
    "def get_info_timetable(airport_code: str ='DEN', airline_code: str =None):\n",
    "    \n",
    "    results = []\n",
    "    \n",
    "    base_url = 'http://aviation-edge.com/v2/public/timetable'\n",
    "    params = {'key': api_key,\n",
    "              'iataCode': airport_code,\n",
    "              'airline_iata': airline_code,\n",
    "              'type': 'departure'\n",
    "             }\n",
    "\n",
    "    if not airline_code: del params['airline_iata']\n",
    "        \n",
    "    schedules = requests.get(base_url, params=params).json()\n",
    "    print(f'Searched data counts: {len(schedules)}')\n",
    "\n",
    "    for schedule in schedules:\n",
    "\n",
    "        # departure info\n",
    "        departure_iatacode = schedule['departure']['iataCode']\n",
    "        departure_scheduledtime = schedule['departure']['scheduledTime']\n",
    "        departure_scheduledtime = datetime.strptime(departure_scheduledtime, '%Y-%m-%dT%H:%M:%S.%f').strftime('%Y-%m-%d %H:%M:%S')\n",
    "        departure_gate = schedule['departure']['gate']\n",
    "        departure_terminal = schedule['departure']['terminal']\n",
    "        departure_delay = schedule['departure']['delay']\n",
    "\n",
    "        # arrival info\n",
    "        arrival_iatacode = schedule['arrival']['iataCode']\n",
    "        arrival_scheduledtime = schedule['arrival']['scheduledTime']\n",
    "        arrival_scheduledtime = datetime.strptime(arrival_scheduledtime, '%Y-%m-%dT%H:%M:%S.%f').strftime('%Y-%m-%d %H:%M:%S')\n",
    "        arrival_gate = schedule['arrival']['gate']\n",
    "        arrival_terminal = schedule['arrival']['terminal']\n",
    "        arrival_baggage = schedule['arrival']['baggage']\n",
    "        arrival_delay = schedule['arrival']['delay']\n",
    "\n",
    "        # airline info\n",
    "        airline_iatacode = schedule['airline']['iataCode']\n",
    "        airline_name = schedule['airline']['name']\n",
    "\n",
    "        # flight info\n",
    "        flight_iatanumber = schedule['flight']['iataNumber']\n",
    "        flight_status = schedule['status']\n",
    "        \n",
    "        results.append(\n",
    "             {\n",
    "              'departure_iatacode': departure_iatacode,\n",
    "              'departure_scheduledtime': departure_scheduledtime,\n",
    "              'departure_gate': departure_gate,\n",
    "              'departure_terminal': departure_terminal,\n",
    "              'departure_delay': departure_delay,\n",
    "              'arrival_iatacode': arrival_iatacode,\n",
    "              'arrival_scheduledtime': arrival_scheduledtime,\n",
    "              'arrival_gate': arrival_gate,\n",
    "              'arrival_terminal': arrival_terminal,\n",
    "              'arrival_baggage': arrival_baggage,\n",
    "              'arrival_delay': arrival_delay,\n",
    "              'airline_iatacode': airline_iatacode,\n",
    "              'airline_name': airline_name,\n",
    "              'flight_iatanumber': flight_iatanumber,\n",
    "              'flight_status': flight_status  \n",
    "            }\n",
    "        )\n",
    "\n",
    "    return results\n"
   ]
  },
  {
   "cell_type": "code",
   "execution_count": 133,
   "metadata": {},
   "outputs": [
    {
     "name": "stdout",
     "output_type": "stream",
     "text": [
      "Searched data counts: 602\n"
     ]
    }
   ],
   "source": [
    "results = get_info_timetable('DEN')"
   ]
  },
  {
   "cell_type": "code",
   "execution_count": 149,
   "metadata": {},
   "outputs": [],
   "source": [
    "schedule_df = pd.DataFrame.from_records(results)"
   ]
  },
  {
   "cell_type": "code",
   "execution_count": 151,
   "metadata": {},
   "outputs": [
    {
     "data": {
      "text/html": [
       "<div>\n",
       "<style scoped>\n",
       "    .dataframe tbody tr th:only-of-type {\n",
       "        vertical-align: middle;\n",
       "    }\n",
       "\n",
       "    .dataframe tbody tr th {\n",
       "        vertical-align: top;\n",
       "    }\n",
       "\n",
       "    .dataframe thead th {\n",
       "        text-align: right;\n",
       "    }\n",
       "</style>\n",
       "<table border=\"1\" class=\"dataframe\">\n",
       "  <thead>\n",
       "    <tr style=\"text-align: right;\">\n",
       "      <th></th>\n",
       "      <th>airline_iatacode</th>\n",
       "      <th>airline_name</th>\n",
       "      <th>arrival_baggage</th>\n",
       "      <th>arrival_delay</th>\n",
       "      <th>arrival_gate</th>\n",
       "      <th>arrival_iatacode</th>\n",
       "      <th>arrival_scheduledtime</th>\n",
       "      <th>arrival_terminal</th>\n",
       "      <th>departure_delay</th>\n",
       "      <th>departure_gate</th>\n",
       "      <th>departure_iatacode</th>\n",
       "      <th>departure_scheduledtime</th>\n",
       "      <th>departure_terminal</th>\n",
       "      <th>flight_iatanumber</th>\n",
       "      <th>flight_status</th>\n",
       "    </tr>\n",
       "  </thead>\n",
       "  <tbody>\n",
       "    <tr>\n",
       "      <th>49</th>\n",
       "      <td>WN</td>\n",
       "      <td>Southwest Airlines</td>\n",
       "      <td>None</td>\n",
       "      <td>None</td>\n",
       "      <td>406</td>\n",
       "      <td>ONT</td>\n",
       "      <td>2019-09-24 22:35:00</td>\n",
       "      <td>4</td>\n",
       "      <td>35</td>\n",
       "      <td>C37</td>\n",
       "      <td>DEN</td>\n",
       "      <td>2019-09-24 21:25:00</td>\n",
       "      <td>None</td>\n",
       "      <td>WN150</td>\n",
       "      <td>active</td>\n",
       "    </tr>\n",
       "  </tbody>\n",
       "</table>\n",
       "</div>"
      ],
      "text/plain": [
       "   airline_iatacode        airline_name arrival_baggage arrival_delay  \\\n",
       "49               WN  Southwest Airlines            None          None   \n",
       "\n",
       "   arrival_gate arrival_iatacode arrival_scheduledtime arrival_terminal  \\\n",
       "49          406              ONT   2019-09-24 22:35:00                4   \n",
       "\n",
       "   departure_delay departure_gate departure_iatacode departure_scheduledtime  \\\n",
       "49              35            C37                DEN     2019-09-24 21:25:00   \n",
       "\n",
       "   departure_terminal flight_iatanumber flight_status  \n",
       "49               None             WN150        active  "
      ]
     },
     "execution_count": 151,
     "metadata": {},
     "output_type": "execute_result"
    }
   ],
   "source": [
    "schedule_df.query(\"flight_iatanumber == 'WN150'\")"
   ]
  },
  {
   "cell_type": "markdown",
   "metadata": {},
   "source": [
    "#### Airport Database\n",
    "Required fields ('departure'):"
   ]
  },
  {
   "cell_type": "code",
   "execution_count": 228,
   "metadata": {},
   "outputs": [],
   "source": [
    "base_url = 'https://aviation-edge.com/v2/public/airportDatabase'\n",
    "params = {'key': api_key}\n",
    "\n",
    "airport_db = requests.get(base_url, params=params).json()"
   ]
  },
  {
   "cell_type": "code",
   "execution_count": 215,
   "metadata": {},
   "outputs": [
    {
     "data": {
      "text/plain": [
       "{'airportId': '5',\n",
       " 'nameAirport': 'Apalachicola Regional',\n",
       " 'codeIataAirport': 'AAF',\n",
       " 'codeIcaoAirport': 'KAAF',\n",
       " 'latitudeAirport': '29.733334',\n",
       " 'longitudeAirport': '-84.98333',\n",
       " 'geonameId': '4146153',\n",
       " 'timezone': 'America/New_York',\n",
       " 'GMT': '-5',\n",
       " 'phone': '',\n",
       " 'nameCountry': 'United States',\n",
       " 'codeIso2Country': 'US',\n",
       " 'codeIataCity': 'AAF'}"
      ]
     },
     "execution_count": 215,
     "metadata": {},
     "output_type": "execute_result"
    }
   ],
   "source": [
    "airport_db[4]"
   ]
  },
  {
   "cell_type": "code",
   "execution_count": 113,
   "metadata": {},
   "outputs": [
    {
     "data": {
      "text/html": [
       "<div>\n",
       "<style scoped>\n",
       "    .dataframe tbody tr th:only-of-type {\n",
       "        vertical-align: middle;\n",
       "    }\n",
       "\n",
       "    .dataframe tbody tr th {\n",
       "        vertical-align: top;\n",
       "    }\n",
       "\n",
       "    .dataframe thead th {\n",
       "        text-align: right;\n",
       "    }\n",
       "</style>\n",
       "<table border=\"1\" class=\"dataframe\">\n",
       "  <thead>\n",
       "    <tr style=\"text-align: right;\">\n",
       "      <th></th>\n",
       "      <th>GMT</th>\n",
       "      <th>airportId</th>\n",
       "      <th>codeIataAirport</th>\n",
       "      <th>codeIataCity</th>\n",
       "      <th>codeIcaoAirport</th>\n",
       "      <th>codeIso2Country</th>\n",
       "      <th>geonameId</th>\n",
       "      <th>latitudeAirport</th>\n",
       "      <th>longitudeAirport</th>\n",
       "      <th>nameAirport</th>\n",
       "      <th>nameCountry</th>\n",
       "      <th>phone</th>\n",
       "      <th>timezone</th>\n",
       "    </tr>\n",
       "  </thead>\n",
       "  <tbody>\n",
       "    <tr>\n",
       "      <th>0</th>\n",
       "      <td>-10</td>\n",
       "      <td>1</td>\n",
       "      <td>AAA</td>\n",
       "      <td>AAA</td>\n",
       "      <td>NTGA</td>\n",
       "      <td>PF</td>\n",
       "      <td>6947726</td>\n",
       "      <td>-17.05</td>\n",
       "      <td>-145.41667</td>\n",
       "      <td>Anaa</td>\n",
       "      <td>French Polynesia</td>\n",
       "      <td></td>\n",
       "      <td>Pacific/Tahiti</td>\n",
       "    </tr>\n",
       "    <tr>\n",
       "      <th>1</th>\n",
       "      <td>10</td>\n",
       "      <td>2</td>\n",
       "      <td>AAB</td>\n",
       "      <td>AAB</td>\n",
       "      <td>YARY</td>\n",
       "      <td>AU</td>\n",
       "      <td>7730796</td>\n",
       "      <td>-26.7</td>\n",
       "      <td>141.04167</td>\n",
       "      <td>Arrabury</td>\n",
       "      <td>Australia</td>\n",
       "      <td></td>\n",
       "      <td>Australia/Brisbane</td>\n",
       "    </tr>\n",
       "    <tr>\n",
       "      <th>2</th>\n",
       "      <td>2</td>\n",
       "      <td>3</td>\n",
       "      <td>AAC</td>\n",
       "      <td>AAC</td>\n",
       "      <td>HEAR</td>\n",
       "      <td>EG</td>\n",
       "      <td>6297289</td>\n",
       "      <td>31.133333</td>\n",
       "      <td>33.75</td>\n",
       "      <td>El Arish International Airport</td>\n",
       "      <td>Egypt</td>\n",
       "      <td></td>\n",
       "      <td>Africa/Cairo</td>\n",
       "    </tr>\n",
       "    <tr>\n",
       "      <th>3</th>\n",
       "      <td>1</td>\n",
       "      <td>4</td>\n",
       "      <td>AAE</td>\n",
       "      <td>AAE</td>\n",
       "      <td>DABB</td>\n",
       "      <td>DZ</td>\n",
       "      <td>2570559</td>\n",
       "      <td>36.821392</td>\n",
       "      <td>7.811857</td>\n",
       "      <td>Les Salines</td>\n",
       "      <td></td>\n",
       "      <td></td>\n",
       "      <td>Africa/Algiers</td>\n",
       "    </tr>\n",
       "    <tr>\n",
       "      <th>4</th>\n",
       "      <td>-5</td>\n",
       "      <td>5</td>\n",
       "      <td>AAF</td>\n",
       "      <td>AAF</td>\n",
       "      <td>KAAF</td>\n",
       "      <td>US</td>\n",
       "      <td>4146153</td>\n",
       "      <td>29.733334</td>\n",
       "      <td>-84.98333</td>\n",
       "      <td>Apalachicola Regional</td>\n",
       "      <td>United States</td>\n",
       "      <td></td>\n",
       "      <td>America/New_York</td>\n",
       "    </tr>\n",
       "  </tbody>\n",
       "</table>\n",
       "</div>"
      ],
      "text/plain": [
       "   GMT airportId codeIataAirport codeIataCity codeIcaoAirport codeIso2Country  \\\n",
       "0  -10         1             AAA          AAA            NTGA              PF   \n",
       "1   10         2             AAB          AAB            YARY              AU   \n",
       "2    2         3             AAC          AAC            HEAR              EG   \n",
       "3    1         4             AAE          AAE            DABB              DZ   \n",
       "4   -5         5             AAF          AAF            KAAF              US   \n",
       "\n",
       "  geonameId latitudeAirport longitudeAirport                     nameAirport  \\\n",
       "0   6947726          -17.05       -145.41667                            Anaa   \n",
       "1   7730796           -26.7        141.04167                        Arrabury   \n",
       "2   6297289       31.133333            33.75  El Arish International Airport   \n",
       "3   2570559       36.821392         7.811857                     Les Salines   \n",
       "4   4146153       29.733334        -84.98333           Apalachicola Regional   \n",
       "\n",
       "        nameCountry phone            timezone  \n",
       "0  French Polynesia            Pacific/Tahiti  \n",
       "1         Australia        Australia/Brisbane  \n",
       "2             Egypt              Africa/Cairo  \n",
       "3                              Africa/Algiers  \n",
       "4     United States          America/New_York  "
      ]
     },
     "execution_count": 113,
     "metadata": {},
     "output_type": "execute_result"
    }
   ],
   "source": [
    "df_airport = pd.DataFrame.from_records(airport_db)\n",
    "df_airport.head()"
   ]
  },
  {
   "cell_type": "code",
   "execution_count": 115,
   "metadata": {},
   "outputs": [],
   "source": [
    "from sqlalchemy import create_engine\n",
    "\n",
    "engine = create_engine('sqlite:///airport.db', echo=True)"
   ]
  },
  {
   "cell_type": "code",
   "execution_count": 116,
   "metadata": {},
   "outputs": [
    {
     "name": "stdout",
     "output_type": "stream",
     "text": [
      "2019-09-21 16:17:17,190 INFO sqlalchemy.engine.base.Engine SELECT CAST('test plain returns' AS VARCHAR(60)) AS anon_1\n",
      "2019-09-21 16:17:17,190 INFO sqlalchemy.engine.base.Engine ()\n",
      "2019-09-21 16:17:17,191 INFO sqlalchemy.engine.base.Engine SELECT CAST('test unicode returns' AS VARCHAR(60)) AS anon_1\n",
      "2019-09-21 16:17:17,192 INFO sqlalchemy.engine.base.Engine ()\n",
      "2019-09-21 16:17:17,193 INFO sqlalchemy.engine.base.Engine PRAGMA table_info(\"airports\")\n",
      "2019-09-21 16:17:17,193 INFO sqlalchemy.engine.base.Engine ()\n",
      "2019-09-21 16:17:17,196 INFO sqlalchemy.engine.base.Engine \n",
      "CREATE TABLE airports (\n",
      "\t\"index\" BIGINT, \n",
      "\t\"GMT\" TEXT, \n",
      "\t\"airportId\" TEXT, \n",
      "\t\"codeIataAirport\" TEXT, \n",
      "\t\"codeIataCity\" TEXT, \n",
      "\t\"codeIcaoAirport\" TEXT, \n",
      "\t\"codeIso2Country\" TEXT, \n",
      "\t\"geonameId\" TEXT, \n",
      "\t\"latitudeAirport\" TEXT, \n",
      "\t\"longitudeAirport\" TEXT, \n",
      "\t\"nameAirport\" TEXT, \n",
      "\t\"nameCountry\" TEXT, \n",
      "\tphone TEXT, \n",
      "\ttimezone TEXT\n",
      ")\n",
      "\n",
      "\n",
      "2019-09-21 16:17:17,197 INFO sqlalchemy.engine.base.Engine ()\n",
      "2019-09-21 16:17:17,199 INFO sqlalchemy.engine.base.Engine COMMIT\n",
      "2019-09-21 16:17:17,199 INFO sqlalchemy.engine.base.Engine CREATE INDEX ix_airports_index ON airports (\"index\")\n",
      "2019-09-21 16:17:17,200 INFO sqlalchemy.engine.base.Engine ()\n",
      "2019-09-21 16:17:17,201 INFO sqlalchemy.engine.base.Engine COMMIT\n",
      "2019-09-21 16:17:17,224 INFO sqlalchemy.engine.base.Engine BEGIN (implicit)\n",
      "2019-09-21 16:17:17,322 INFO sqlalchemy.engine.base.Engine INSERT INTO airports (\"index\", \"GMT\", \"airportId\", \"codeIataAirport\", \"codeIataCity\", \"codeIcaoAirport\", \"codeIso2Country\", \"geonameId\", \"latitudeAirport\", \"longitudeAirport\", \"nameAirport\", \"nameCountry\", phone, timezone) VALUES (?, ?, ?, ?, ?, ?, ?, ?, ?, ?, ?, ?, ?, ?)\n",
      "2019-09-21 16:17:17,322 INFO sqlalchemy.engine.base.Engine ((0, '-10', '1', 'AAA', 'AAA', 'NTGA', 'PF', '6947726', '-17.05', '-145.41667', 'Anaa', 'French Polynesia', '', 'Pacific/Tahiti'), (1, '10', '2', 'AAB', 'AAB', 'YARY', 'AU', '7730796', '-26.7', '141.04167', 'Arrabury', 'Australia', '', 'Australia/Brisbane'), (2, '2', '3', 'AAC', 'AAC', 'HEAR', 'EG', '6297289', '31.133333', '33.75', 'El Arish International Airport', 'Egypt', '', 'Africa/Cairo'), (3, '1', '4', 'AAE', 'AAE', 'DABB', 'DZ', '2570559', '36.821392', '7.811857', 'Les Salines', '', '', 'Africa/Algiers'), (4, '-5', '5', 'AAF', 'AAF', 'KAAF', 'US', '4146153', '29.733334', '-84.98333', 'Apalachicola Regional', 'United States', '', 'America/New_York'), (5, '-3', '6', 'AAG', 'AAG', 'SSYA', 'BR', '3471795', '-24.103611', '-49.79', 'Arapoti', 'Brazil', '', 'America/Sao_Paulo'), (6, '1', '7', 'AAH', 'AAH', 'EDKA', 'DE', '3247449', '50.75', '6.133333', 'Aachen/Merzbruck', 'Germany', '', 'Europe/Berlin'), (7, '-3', '8', 'AAI', 'AAI', 'SWRA', 'BR', '7668483', '-12.916667', '-46.933334', 'Arraias', 'Brazil', '', 'America/Araguaina')  ... displaying 10 of 10051 total bound parameter sets ...  (10049, '2', '10050', 'ZZU', 'ZZU', 'FWUU', 'MW', '6297127', '-11.442778', '34.01278', 'Mzuzu', 'Malawi', '', 'Africa/Blantyre'), (10050, '-5', '10051', 'ZZV', 'ZZV', 'KZZV', 'US', '4528929', '39.933334', '-82.01667', 'Zanesville', 'United States', '', 'America/New_York'))\n",
      "2019-09-21 16:17:17,360 INFO sqlalchemy.engine.base.Engine COMMIT\n"
     ]
    }
   ],
   "source": [
    "df_airport.to_sql('airports', con=engine)"
   ]
  },
  {
   "cell_type": "code",
   "execution_count": 119,
   "metadata": {},
   "outputs": [],
   "source": [
    "%%bash\n",
    "open ."
   ]
  },
  {
   "cell_type": "code",
   "execution_count": null,
   "metadata": {},
   "outputs": [],
   "source": [
    "engine.execute('SELECT * FROM airports').fetchall()"
   ]
  },
  {
   "cell_type": "code",
   "execution_count": 120,
   "metadata": {},
   "outputs": [
    {
     "name": "stdout",
     "output_type": "stream",
     "text": [
      "2019-09-21 23:30:34,822 INFO sqlalchemy.engine.base.Engine SELECT * FROM airports\n",
      "2019-09-21 23:30:34,822 INFO sqlalchemy.engine.base.Engine ()\n"
     ]
    }
   ],
   "source": [
    "df = pd.read_sql_query('SELECT * FROM airports', engine)"
   ]
  },
  {
   "cell_type": "code",
   "execution_count": null,
   "metadata": {},
   "outputs": [],
   "source": [
    "df"
   ]
  },
  {
   "cell_type": "code",
   "execution_count": 218,
   "metadata": {},
   "outputs": [],
   "source": [
    "base_url = \"http://aviation-edge.com/v2/public/routes\"\n",
    "params = {\"key\": api_key}\n",
    "\n",
    "resp_route = requests.get(base_url, params=params).json()"
   ]
  },
  {
   "cell_type": "code",
   "execution_count": 219,
   "metadata": {},
   "outputs": [
    {
     "data": {
      "text/plain": [
       "300"
      ]
     },
     "execution_count": 219,
     "metadata": {},
     "output_type": "execute_result"
    }
   ],
   "source": [
    "len(resp_route)"
   ]
  },
  {
   "cell_type": "code",
   "execution_count": null,
   "metadata": {},
   "outputs": [],
   "source": [
    "den_route = [route for route in resp_route if route.get('departureIata') == \"OTP\" ]\n",
    "den_route"
   ]
  },
  {
   "cell_type": "code",
   "execution_count": 252,
   "metadata": {},
   "outputs": [],
   "source": [
    "base_url = \"http://aviation-edge.com/v2/public/cityDatabase\"\n",
    "params = {\"key\": api_key}\n",
    "\n",
    "resp_cities = requests.get(base_url, params=params).json()"
   ]
  },
  {
   "cell_type": "code",
   "execution_count": 253,
   "metadata": {},
   "outputs": [
    {
     "data": {
      "text/plain": [
       "9368"
      ]
     },
     "execution_count": 253,
     "metadata": {},
     "output_type": "execute_result"
    }
   ],
   "source": [
    "len(resp_cities)"
   ]
  },
  {
   "cell_type": "code",
   "execution_count": 254,
   "metadata": {},
   "outputs": [
    {
     "data": {
      "text/plain": [
       "{'cityId': '1',\n",
       " 'nameCity': 'Anaa',\n",
       " 'codeIataCity': 'AAA',\n",
       " 'codeIso2Country': 'PF',\n",
       " 'latitudeCity': '-17.05',\n",
       " 'longitudeCity': '-145.41667',\n",
       " 'timezone': 'Pacific/Tahiti',\n",
       " 'GMT': '-10',\n",
       " 'geonameId': '0'}"
      ]
     },
     "execution_count": 254,
     "metadata": {},
     "output_type": "execute_result"
    }
   ],
   "source": [
    "resp_cities[0]"
   ]
  },
  {
   "cell_type": "code",
   "execution_count": 433,
   "metadata": {},
   "outputs": [],
   "source": [
    "summary = requests.get(\"http://127.0.0.1:5000/get-storeddata/DEN\").json()"
   ]
  },
  {
   "cell_type": "code",
   "execution_count": 434,
   "metadata": {},
   "outputs": [
    {
     "data": {
      "text/plain": [
       "{'airline': {'iataCode': 'B6', 'icaoCode': 'JBU', 'name': 'JetBlue Airways'},\n",
       " 'arrival': {'actualRunway': None,\n",
       "  'actualTime': None,\n",
       "  'baggage': '2',\n",
       "  'delay': None,\n",
       "  'estimatedRunway': None,\n",
       "  'estimatedTime': '2019-10-01T05:12:00.000',\n",
       "  'gate': '8',\n",
       "  'iataCode': 'JFK',\n",
       "  'icaoCode': 'KJFK',\n",
       "  'scheduledTime': '2019-10-01T05:43:00.000',\n",
       "  'terminal': '5'},\n",
       " 'arrivalAirportTimezone': 'America/New_York',\n",
       " 'arrivalCityCode': 'NYC',\n",
       " 'arrivalLat': 40.642334,\n",
       " 'arrivalLon': -73.78817,\n",
       " 'codeshared': None,\n",
       " 'departAirportTimezone': 'America/Denver',\n",
       " 'departCityCode': 'DEN',\n",
       " 'departLat': 39.84939,\n",
       " 'departLon': -104.672844,\n",
       " 'departure': {'actualRunway': '2019-10-01T00:00:00.000',\n",
       "  'actualTime': '2019-10-01T00:00:00.000',\n",
       "  'baggage': None,\n",
       "  'delay': '1',\n",
       "  'estimatedRunway': '2019-10-01T00:00:00.000',\n",
       "  'estimatedTime': '2019-10-01T00:09:00.000',\n",
       "  'gate': 'A33',\n",
       "  'iataCode': 'DEN',\n",
       "  'icaoCode': 'KDEN',\n",
       "  'scheduledTime': '2019-09-30T23:59:00.000',\n",
       "  'terminal': None},\n",
       " 'flight': {'iataNumber': 'B698', 'icaoNumber': 'JBU98', 'number': '98'},\n",
       " 'status': 'active',\n",
       " 'type': 'arrival'}"
      ]
     },
     "execution_count": 434,
     "metadata": {},
     "output_type": "execute_result"
    }
   ],
   "source": [
    "summary[0]"
   ]
  },
  {
   "cell_type": "code",
   "execution_count": 446,
   "metadata": {},
   "outputs": [],
   "source": [
    "inbounds = []\n",
    "outbounds = []\n",
    "inbound_airlines = []\n",
    "outbound_airlines = []\n",
    "inbound_delays = []\n",
    "outbound_delays = []\n",
    "airport = \"DEN\"\n",
    "\n",
    "for route in summary:\n",
    "    inbound = route.get('arrival').get('iataCode')\n",
    "    outbound = route.get('departure').get('iataCode')\n",
    "\n",
    "    if (airport == inbound):\n",
    "        origin_for_inbound = outbound\n",
    "        inbound_airline = route.get('airline').get('name')\n",
    "\n",
    "        inbounds.append(origin_for_inbound)\n",
    "        inbound_airlines.append(inbound_airline)\n",
    "        delay = route.get('arrival').get('delay')\n",
    "        \n",
    "        if delay:\n",
    "            delay = int(delay)\n",
    "            if (delay > 60):\n",
    "                delay = \"delay > 60\"\n",
    "            elif (30 <= delay <= 60):\n",
    "                delay = \"30 ≥ delay ≥ 60\"\n",
    "            elif (delay < 30):\n",
    "                delay = \"delay ≤ 30\"\n",
    "            else:  # delay is null\n",
    "                pass\n",
    "            inbound_delays.append(delay)\n",
    "        else:\n",
    "            inbound_delays.append(delay)\n",
    "\n",
    "    else: # airport != inbound (== outbound)\n",
    "        destination_for_outbound = inbound\n",
    "        outbound_airline = route.get('airline').get('name')\n",
    "\n",
    "        outbounds.append(destination_for_outbound)\n",
    "        outbound_airlines.append(outbound_airline)\n",
    "        delay = route.get('arrival').get('delay')\n",
    "        \n",
    "        if delay:\n",
    "            delay = int(delay)\n",
    "            if (delay > 60):\n",
    "                delay = \"delay > 60\"\n",
    "            elif (30 <= delay <= 60):\n",
    "                delay = \"30 ≥ delay ≥ 60\"\n",
    "            elif (delay < 30):\n",
    "                delay = \"delay ≤ 30\"\n",
    "            else:  # delay is null\n",
    "                pass\n",
    "            outbound_delays.append(delay)\n",
    "        else:\n",
    "            outbound_delays.append(delay)"
   ]
  },
  {
   "cell_type": "code",
   "execution_count": 533,
   "metadata": {},
   "outputs": [
    {
     "name": "stdout",
     "output_type": "stream",
     "text": [
      "3372 4378 3372 4378 3372 4378 3372 4378\n"
     ]
    }
   ],
   "source": [
    "print(len(inbound_parent), len(outbound_parent), len(inbounds), len(outbounds), len(inbound_airlines), len(outbound_airlines), len(inbound_delays), len(outbound_delays))\n",
    "#  = []\n",
    "# inbound_airlines = []\n",
    "# outbound_airlines = []\n",
    "# inbound_delays = []\n",
    "# outbound_delays = []"
   ]
  },
  {
   "cell_type": "code",
   "execution_count": null,
   "metadata": {},
   "outputs": [],
   "source": [
    "# { \"name\": \"DEN\",\n",
    "# \"children\": [\n",
    "#               { \"name\": \"inbound\", \"children\": [ \n",
    "#                                                   { \"name\": \"STL\", \"children\": [\n",
    "#                                                                                  {\"name\" : \"Frontier\", \"children\" : [\n",
    "#                                                                                                                        { \"None\" : 1 }... ] }, ...] }, ...] }\n",
    "# }"
   ]
  },
  {
   "cell_type": "code",
   "execution_count": null,
   "metadata": {},
   "outputs": [],
   "source": [
    "parent_dict = {\"name\":\"DEN\", \"children\":[]}\n",
    "inbound_dict = {}\n",
    "airline_dict = {}\n",
    "delay = {}\n",
    "\n",
    "for inbound in inbound_parent:   # \"inbound\"\n",
    "    inbound_dict[\"name\"] = inbound\n",
    "    inbound_dict[\"children\"] = []\n",
    "    \n",
    "    if duplicate_checker(inbound_dict, \"name\", inbound) == False:\n",
    "       \n",
    "        \n",
    "    airport_dict = {\"children\" : []}     # \"SJU\"\n",
    "    for airport in inbounds:\n",
    "        if duplicate_checker(airport_dict, category, airport)\n",
    "        airport_dict['name'] = airport\n",
    "        \n",
    "        for airline in inbound_airlines:\n",
    "            for delay in inbound_delays:\n",
    "                \n",
    "                "
   ]
  },
  {
   "cell_type": "code",
   "execution_count": null,
   "metadata": {},
   "outputs": [],
   "source": [
    "def duplicate_checker(obj, category, string):\n",
    "    if category == \"children\":\n",
    "        subcategory = \"name\"\n",
    "        for child in obj[category]:\n",
    "            if child[subcategory] == string:\n",
    "                return true  # duplicate found\n",
    "            else:\n",
    "                return false   \n",
    "    else:\n",
    "        subcategory = \"\"\n",
    "        for child in obj[category]\n",
    "\n",
    "        "
   ]
  },
  {
   "cell_type": "code",
   "execution_count": 531,
   "metadata": {},
   "outputs": [],
   "source": [
    "outbound_parent = [\"outbound\" for _ in range(4378)]    "
   ]
  },
  {
   "cell_type": "code",
   "execution_count": 532,
   "metadata": {},
   "outputs": [
    {
     "data": {
      "text/plain": [
       "4378"
      ]
     },
     "execution_count": 532,
     "metadata": {},
     "output_type": "execute_result"
    }
   ],
   "source": [
    "len(outbound_parent)"
   ]
  },
  {
   "cell_type": "code",
   "execution_count": 479,
   "metadata": {},
   "outputs": [],
   "source": [
    "master = []\n",
    "for a, b, c, d in zip(inbound_parent, inbounds, inbound_airlines, inbound_delays):\n",
    "    master.append({\"parent\" : a,\n",
    "     \"airport\" : b,\n",
    "     \"airline\" : c,\n",
    "     \"delay\" : d})"
   ]
  },
  {
   "cell_type": "code",
   "execution_count": 481,
   "metadata": {},
   "outputs": [],
   "source": [
    "df = pd.DataFrame.from_records(master)"
   ]
  },
  {
   "cell_type": "code",
   "execution_count": 482,
   "metadata": {},
   "outputs": [
    {
     "data": {
      "text/html": [
       "<div>\n",
       "<style scoped>\n",
       "    .dataframe tbody tr th:only-of-type {\n",
       "        vertical-align: middle;\n",
       "    }\n",
       "\n",
       "    .dataframe tbody tr th {\n",
       "        vertical-align: top;\n",
       "    }\n",
       "\n",
       "    .dataframe thead th {\n",
       "        text-align: right;\n",
       "    }\n",
       "</style>\n",
       "<table border=\"1\" class=\"dataframe\">\n",
       "  <thead>\n",
       "    <tr style=\"text-align: right;\">\n",
       "      <th></th>\n",
       "      <th>airline</th>\n",
       "      <th>airport</th>\n",
       "      <th>delay</th>\n",
       "      <th>parent</th>\n",
       "    </tr>\n",
       "  </thead>\n",
       "  <tbody>\n",
       "    <tr>\n",
       "      <th>0</th>\n",
       "      <td>Frontier Airlines</td>\n",
       "      <td>STL</td>\n",
       "      <td>None</td>\n",
       "      <td>inbound</td>\n",
       "    </tr>\n",
       "    <tr>\n",
       "      <th>1</th>\n",
       "      <td>United Airlines</td>\n",
       "      <td>AUS</td>\n",
       "      <td>None</td>\n",
       "      <td>inbound</td>\n",
       "    </tr>\n",
       "    <tr>\n",
       "      <th>2</th>\n",
       "      <td>Frontier Airlines</td>\n",
       "      <td>ORD</td>\n",
       "      <td>None</td>\n",
       "      <td>inbound</td>\n",
       "    </tr>\n",
       "    <tr>\n",
       "      <th>3</th>\n",
       "      <td>United Airlines</td>\n",
       "      <td>STL</td>\n",
       "      <td>None</td>\n",
       "      <td>inbound</td>\n",
       "    </tr>\n",
       "    <tr>\n",
       "      <th>4</th>\n",
       "      <td>Southwest Airlines</td>\n",
       "      <td>ABQ</td>\n",
       "      <td>None</td>\n",
       "      <td>inbound</td>\n",
       "    </tr>\n",
       "  </tbody>\n",
       "</table>\n",
       "</div>"
      ],
      "text/plain": [
       "              airline airport delay   parent\n",
       "0   Frontier Airlines     STL  None  inbound\n",
       "1     United Airlines     AUS  None  inbound\n",
       "2   Frontier Airlines     ORD  None  inbound\n",
       "3     United Airlines     STL  None  inbound\n",
       "4  Southwest Airlines     ABQ  None  inbound"
      ]
     },
     "execution_count": 482,
     "metadata": {},
     "output_type": "execute_result"
    }
   ],
   "source": [
    "df.head()"
   ]
  },
  {
   "cell_type": "code",
   "execution_count": 500,
   "metadata": {},
   "outputs": [],
   "source": [
    "df_mod = df.groupby(['parent', 'airport', 'airline', 'delay']).agg({'delay': 'count'}).sort_values(by=['airport', 'airline'])"
   ]
  },
  {
   "cell_type": "code",
   "execution_count": 508,
   "metadata": {},
   "outputs": [],
   "source": [
    "df_mod = df_mod.rename(columns={\"delay\" : \"count\"})"
   ]
  },
  {
   "cell_type": "code",
   "execution_count": 515,
   "metadata": {},
   "outputs": [],
   "source": [
    "df_mod = df_mod.reset_index()"
   ]
  },
  {
   "cell_type": "code",
   "execution_count": null,
   "metadata": {},
   "outputs": [],
   "source": [
    "# { \"name\": \"DEN\",\n",
    "# \"children\": [\n",
    "#               { \"name\": \"inbound\", \"children\": [ \n",
    "#                                                   { \"name\": \"STL\", \"children\": [\n",
    "#                                                                                  {\"name\" : \"Frontier\", \"children\" : [\n",
    "#                                                                                                                        { \"None\" : 1 }... ] }, ...] }, ...] }\n",
    "# }"
   ]
  },
  {
   "cell_type": "code",
   "execution_count": 536,
   "metadata": {},
   "outputs": [],
   "source": [
    "master_dict = {}\n",
    "\n",
    "for row in df_mod.itertuples():\n",
    "    master_dict[(row[1], row[2], row[3], row[4])] = master_dict.get((row[1], row[2], row[3], row[4]),0) + row[5]\n",
    "    "
   ]
  },
  {
   "cell_type": "code",
   "execution_count": null,
   "metadata": {},
   "outputs": [],
   "source": [
    "from collections import defaultdict"
   ]
  },
  {
   "cell_type": "code",
   "execution_count": 539,
   "metadata": {},
   "outputs": [],
   "source": [
    "temp_dict = defaultdict(list)\n",
    "temp2_dict = defaultdict(list)\n",
    "temp3_dict = defaultdict(list)\n",
    "\n",
    "for key, value in master_dict.items():\n",
    "    print(key[1], key[2])\n",
    "#     temp_dict[key[1]].append(temp2_dict[key[2]].append({key[3] : value}))"
   ]
  },
  {
   "cell_type": "code",
   "execution_count": 540,
   "metadata": {},
   "outputs": [
    {
     "data": {
      "text/plain": [
       "defaultdict(list,\n",
       "            {'ABQ': [None, None, None],\n",
       "             'ANC': [None],\n",
       "             'ATL': [None, None, None, None, None],\n",
       "             'AUS': [None],\n",
       "             'BNA': [None, None, None, None],\n",
       "             'BOS': [None, None, None],\n",
       "             'BUR': [None, None, None],\n",
       "             'BWI': [None, None],\n",
       "             'CLE': [None, None],\n",
       "             'CLT': [None],\n",
       "             'CVG': [None, None, None, None],\n",
       "             'DAL': [None],\n",
       "             'DFW': [None, None, None, None, None, None, None],\n",
       "             'DTW': [None, None],\n",
       "             'EWR': [None, None, None, None],\n",
       "             'FLL': [None],\n",
       "             'HOU': [None],\n",
       "             'IAD': [None],\n",
       "             'IAH': [None],\n",
       "             'IND': [None],\n",
       "             'JFK': [None, None],\n",
       "             'LAS': [None, None, None, None, None, None],\n",
       "             'LAX': [None, None],\n",
       "             'LGA': [None, None, None],\n",
       "             'MCI': [None, None, None],\n",
       "             'MCO': [None],\n",
       "             'MDW': [None, None],\n",
       "             'MKE': [None, None, None],\n",
       "             'MSP': [None, None, None, None, None, None, None, None],\n",
       "             'OAK': [None],\n",
       "             'OMA': [None, None, None],\n",
       "             'ONT': [None],\n",
       "             'ORD': [None, None, None, None, None, None, None],\n",
       "             'PDX': [None, None, None],\n",
       "             'PHL': [None, None, None],\n",
       "             'PHX': [None, None, None, None],\n",
       "             'PIT': [None, None, None],\n",
       "             'SAN': [None, None],\n",
       "             'SAT': [None, None],\n",
       "             'SEA': [None, None, None, None, None, None],\n",
       "             'SFO': [None, None, None, None, None],\n",
       "             'SJC': [None],\n",
       "             'SLC': [None, None],\n",
       "             'SMF': [None, None, None, None],\n",
       "             'SNA': [None, None],\n",
       "             'STL': [None, None]})"
      ]
     },
     "execution_count": 540,
     "metadata": {},
     "output_type": "execute_result"
    }
   ],
   "source": [
    "temp_dict"
   ]
  },
  {
   "cell_type": "code",
   "execution_count": 537,
   "metadata": {},
   "outputs": [
    {
     "data": {
      "text/plain": [
       "{('inbound', 'ABQ', 'Southwest Airlines', '30 ≥ delay ≥ 60'): 1,\n",
       " ('inbound', 'ABQ', 'United Airlines', 'delay > 60'): 1,\n",
       " ('inbound', 'ABQ', 'United Airlines', 'delay ≤ 30'): 3,\n",
       " ('inbound', 'ANC', 'United Airlines', 'delay ≤ 30'): 2,\n",
       " ('inbound', 'ATL', 'Delta Air Lines', 'delay ≤ 30'): 2,\n",
       " ('inbound', 'ATL', 'Frontier Airlines', 'delay ≤ 30'): 2,\n",
       " ('inbound', 'ATL', 'Southwest Airlines', 'delay > 60'): 2,\n",
       " ('inbound', 'ATL', 'Southwest Airlines', 'delay ≤ 30'): 1,\n",
       " ('inbound', 'ATL', 'United Airlines', 'delay ≤ 30'): 3,\n",
       " ('inbound', 'AUS', 'Southwest Airlines', 'delay ≤ 30'): 2,\n",
       " ('inbound', 'BNA', 'Frontier Airlines', 'delay ≤ 30'): 1,\n",
       " ('inbound', 'BNA', 'Southwest Airlines', 'delay ≤ 30'): 1,\n",
       " ('inbound', 'BNA', 'United Airlines', '30 ≥ delay ≥ 60'): 1,\n",
       " ('inbound', 'BNA', 'United Airlines', 'delay ≤ 30'): 4,\n",
       " ('inbound', 'BOS', 'JetBlue Airways', 'delay ≤ 30'): 3,\n",
       " ('inbound', 'BOS', 'Southwest Airlines', 'delay > 60'): 2,\n",
       " ('inbound', 'BOS', 'Southwest Airlines', 'delay ≤ 30'): 1,\n",
       " ('inbound', 'BUR', 'SkyWest Airlines', 'delay > 60'): 1,\n",
       " ('inbound', 'BUR', 'Southwest Airlines', '30 ≥ delay ≥ 60'): 2,\n",
       " ('inbound', 'BUR', 'Southwest Airlines', 'delay ≤ 30'): 2,\n",
       " ('inbound', 'BWI', 'Southwest Airlines', 'delay ≤ 30'): 1,\n",
       " ('inbound', 'BWI', 'United Airlines', 'delay > 60'): 1,\n",
       " ('inbound', 'CLE', 'Southwest Airlines', 'delay ≤ 30'): 1,\n",
       " ('inbound', 'CLE', 'United Airlines', 'delay ≤ 30'): 2,\n",
       " ('inbound', 'CLT', 'American Airlines', 'delay > 60'): 2,\n",
       " ('inbound', 'CVG', 'Atlas Air', 'delay ≤ 30'): 3,\n",
       " ('inbound', 'CVG', 'Frontier Airlines', 'delay ≤ 30'): 3,\n",
       " ('inbound', 'CVG', 'Southwest Airlines', 'delay ≤ 30'): 1,\n",
       " ('inbound', 'CVG', 'United Airlines', 'delay > 60'): 1,\n",
       " ('inbound', 'DAL', 'Southwest Airlines', 'delay ≤ 30'): 2,\n",
       " ('inbound', 'DFW', 'American Airlines', '30 ≥ delay ≥ 60'): 2,\n",
       " ('inbound', 'DFW', 'American Airlines', 'delay ≤ 30'): 5,\n",
       " ('inbound', 'DFW', 'Frontier Airlines', '30 ≥ delay ≥ 60'): 1,\n",
       " ('inbound', 'DFW', 'Frontier Airlines', 'delay ≤ 30'): 1,\n",
       " ('inbound', 'DFW', 'UPS Airlines', 'delay ≤ 30'): 1,\n",
       " ('inbound', 'DFW', 'United Airlines', '30 ≥ delay ≥ 60'): 2,\n",
       " ('inbound', 'DFW', 'United Airlines', 'delay ≤ 30'): 2,\n",
       " ('inbound', 'DTW', 'Delta Air Lines', 'delay ≤ 30'): 1,\n",
       " ('inbound', 'DTW', 'Southwest Airlines', 'delay ≤ 30'): 1,\n",
       " ('inbound', 'EWR', 'Southwest Airlines', '30 ≥ delay ≥ 60'): 1,\n",
       " ('inbound', 'EWR', 'Southwest Airlines', 'delay ≤ 30'): 3,\n",
       " ('inbound', 'EWR', 'United Airlines', '30 ≥ delay ≥ 60'): 1,\n",
       " ('inbound', 'EWR', 'United Airlines', 'delay ≤ 30'): 8,\n",
       " ('inbound', 'FLL', 'Frontier Airlines', 'delay ≤ 30'): 3,\n",
       " ('inbound', 'HOU', 'Southwest Airlines', 'delay ≤ 30'): 1,\n",
       " ('inbound', 'IAD', 'United Airlines', 'delay ≤ 30'): 3,\n",
       " ('inbound', 'IAH', 'United Airlines', 'delay ≤ 30'): 1,\n",
       " ('inbound', 'IND', 'FedEx', 'delay ≤ 30'): 2,\n",
       " ('inbound', 'JFK', 'Delta Air Lines', '30 ≥ delay ≥ 60'): 2,\n",
       " ('inbound', 'JFK', 'Delta Air Lines', 'delay ≤ 30'): 1,\n",
       " ('inbound', 'LAS', 'Frontier Airlines', '30 ≥ delay ≥ 60'): 1,\n",
       " ('inbound', 'LAS', 'Southwest Airlines', '30 ≥ delay ≥ 60'): 4,\n",
       " ('inbound', 'LAS', 'Southwest Airlines', 'delay ≤ 30'): 3,\n",
       " ('inbound', 'LAS', 'United Airlines', '30 ≥ delay ≥ 60'): 2,\n",
       " ('inbound', 'LAS', 'United Airlines', 'delay > 60'): 1,\n",
       " ('inbound', 'LAS', 'United Airlines', 'delay ≤ 30'): 1,\n",
       " ('inbound', 'LAX', 'Delta Air Lines', 'delay ≤ 30'): 1,\n",
       " ('inbound', 'LAX', 'United Airlines', 'delay ≤ 30'): 2,\n",
       " ('inbound', 'LGA', 'Delta Air Lines', '30 ≥ delay ≥ 60'): 2,\n",
       " ('inbound', 'LGA', 'Southwest Airlines', 'delay ≤ 30'): 3,\n",
       " ('inbound', 'LGA', 'United Airlines', 'delay ≤ 30'): 3,\n",
       " ('inbound', 'MCI', 'FedEx', 'delay ≤ 30'): 1,\n",
       " ('inbound', 'MCI', 'Southwest Airlines', 'delay ≤ 30'): 2,\n",
       " ('inbound', 'MCI', 'United Airlines', 'delay ≤ 30'): 2,\n",
       " ('inbound', 'MCO', 'Frontier Airlines', '30 ≥ delay ≥ 60'): 1,\n",
       " ('inbound', 'MDW', 'Southwest Airlines', '30 ≥ delay ≥ 60'): 4,\n",
       " ('inbound', 'MDW', 'Southwest Airlines', 'delay ≤ 30'): 4,\n",
       " ('inbound', 'MKE', 'Frontier Airlines', 'delay ≤ 30'): 1,\n",
       " ('inbound', 'MKE', 'Southwest Airlines', 'delay ≤ 30'): 5,\n",
       " ('inbound', 'MKE', 'United Airlines', 'delay ≤ 30'): 4,\n",
       " ('inbound', 'MSP', 'Delta Air Lines', '30 ≥ delay ≥ 60'): 1,\n",
       " ('inbound', 'MSP', 'Delta Air Lines', 'delay ≤ 30'): 8,\n",
       " ('inbound', 'MSP', 'Frontier Airlines', '30 ≥ delay ≥ 60'): 1,\n",
       " ('inbound', 'MSP', 'Southwest Airlines', '30 ≥ delay ≥ 60'): 1,\n",
       " ('inbound', 'MSP', 'Southwest Airlines', 'delay ≤ 30'): 5,\n",
       " ('inbound', 'MSP', 'Spirit Airlines', 'delay ≤ 30'): 4,\n",
       " ('inbound', 'MSP', 'Sun Country Airlines', 'delay ≤ 30'): 1,\n",
       " ('inbound', 'MSP', 'United Airlines', 'delay ≤ 30'): 7,\n",
       " ('inbound', 'OAK', 'FedEx', 'delay ≤ 30'): 2,\n",
       " ('inbound', 'OMA', 'Frontier Airlines', 'delay ≤ 30'): 1,\n",
       " ('inbound', 'OMA', 'Southwest Airlines', 'delay ≤ 30'): 3,\n",
       " ('inbound', 'OMA', 'United Airlines', 'delay ≤ 30'): 9,\n",
       " ('inbound', 'ONT', 'UPS Airlines', 'delay ≤ 30'): 1,\n",
       " ('inbound', 'ORD', 'American Airlines', '30 ≥ delay ≥ 60'): 1,\n",
       " ('inbound', 'ORD', 'American Airlines', 'delay > 60'): 1,\n",
       " ('inbound', 'ORD', 'American Airlines', 'delay ≤ 30'): 5,\n",
       " ('inbound', 'ORD', 'Frontier Airlines', '30 ≥ delay ≥ 60'): 1,\n",
       " ('inbound', 'ORD', 'Spirit Airlines', 'delay ≤ 30'): 1,\n",
       " ('inbound', 'ORD', 'United Airlines', '30 ≥ delay ≥ 60'): 3,\n",
       " ('inbound', 'ORD', 'United Airlines', 'delay ≤ 30'): 14,\n",
       " ('inbound', 'PDX', 'Frontier Airlines', '30 ≥ delay ≥ 60'): 3,\n",
       " ('inbound', 'PDX', 'Southwest Airlines', 'delay ≤ 30'): 8,\n",
       " ('inbound', 'PDX', 'United Airlines', 'delay ≤ 30'): 1,\n",
       " ('inbound', 'PHL', 'American Airlines', 'delay ≤ 30'): 1,\n",
       " ('inbound', 'PHL', 'Frontier Airlines', '30 ≥ delay ≥ 60'): 2,\n",
       " ('inbound', 'PHL', 'Southwest Airlines', 'delay ≤ 30'): 5,\n",
       " ('inbound', 'PHX', 'American Airlines', 'delay > 60'): 1,\n",
       " ('inbound', 'PHX', 'Southwest Airlines', '30 ≥ delay ≥ 60'): 3,\n",
       " ('inbound', 'PHX', 'Southwest Airlines', 'delay ≤ 30'): 2,\n",
       " ('inbound', 'PHX', 'United Airlines', 'delay ≤ 30'): 1,\n",
       " ('inbound', 'PIT', 'Frontier Airlines', 'delay ≤ 30'): 1,\n",
       " ('inbound', 'PIT', 'United Airlines', 'delay > 60'): 2,\n",
       " ('inbound', 'PIT', 'United Airlines', 'delay ≤ 30'): 2,\n",
       " ('inbound', 'SAN', 'Southwest Airlines', 'delay ≤ 30'): 1,\n",
       " ('inbound', 'SAN', 'United Airlines', '30 ≥ delay ≥ 60'): 3,\n",
       " ('inbound', 'SAT', 'Southwest Airlines', '30 ≥ delay ≥ 60'): 1,\n",
       " ('inbound', 'SAT', 'United Airlines', 'delay ≤ 30'): 1,\n",
       " ('inbound', 'SEA', 'Alaska Airlines', '30 ≥ delay ≥ 60'): 3,\n",
       " ('inbound', 'SEA', 'Alaska Airlines', 'delay ≤ 30'): 4,\n",
       " ('inbound', 'SEA', 'Delta Air Lines', 'delay ≤ 30'): 2,\n",
       " ('inbound', 'SEA', 'Frontier Airlines', 'delay ≤ 30'): 1,\n",
       " ('inbound', 'SEA', 'Southwest Airlines', '30 ≥ delay ≥ 60'): 1,\n",
       " ('inbound', 'SEA', 'Southwest Airlines', 'delay ≤ 30'): 6,\n",
       " ('inbound', 'SFO', 'Frontier Airlines', 'delay ≤ 30'): 2,\n",
       " ('inbound', 'SFO', 'Southwest Airlines', '30 ≥ delay ≥ 60'): 1,\n",
       " ('inbound', 'SFO', 'United Airlines', '30 ≥ delay ≥ 60'): 1,\n",
       " ('inbound', 'SFO', 'United Airlines', 'delay > 60'): 2,\n",
       " ('inbound', 'SFO', 'United Airlines', 'delay ≤ 30'): 4,\n",
       " ('inbound', 'SJC', 'Southwest Airlines', 'delay > 60'): 1,\n",
       " ('inbound', 'SLC', 'Southwest Airlines', 'delay ≤ 30'): 5,\n",
       " ('inbound', 'SLC', 'United Airlines', 'delay ≤ 30'): 6,\n",
       " ('inbound', 'SMF', 'Frontier Airlines', 'delay > 60'): 1,\n",
       " ('inbound', 'SMF', 'Southwest Airlines', 'delay > 60'): 2,\n",
       " ('inbound', 'SMF', 'Southwest Airlines', 'delay ≤ 30'): 4,\n",
       " ('inbound', 'SMF', 'United Airlines', 'delay ≤ 30'): 2,\n",
       " ('inbound', 'SNA', 'Frontier Airlines', 'delay > 60'): 1,\n",
       " ('inbound', 'SNA', 'Southwest Airlines', 'delay ≤ 30'): 1,\n",
       " ('inbound', 'STL', 'Southwest Airlines', 'delay ≤ 30'): 1,\n",
       " ('inbound', 'STL', 'United Airlines', 'delay > 60'): 1}"
      ]
     },
     "execution_count": 537,
     "metadata": {},
     "output_type": "execute_result"
    }
   ],
   "source": [
    "master_dict"
   ]
  },
  {
   "cell_type": "code",
   "execution_count": null,
   "metadata": {},
   "outputs": [],
   "source": [
    "df_mod.to_dict()"
   ]
  },
  {
   "cell_type": "code",
   "execution_count": 525,
   "metadata": {},
   "outputs": [
    {
     "data": {
      "text/plain": [
       "{'a': 1}"
      ]
     },
     "execution_count": 525,
     "metadata": {},
     "output_type": "execute_result"
    }
   ],
   "source": [
    "a = \"a\"\n",
    "b = 1\n",
    "{a : b}"
   ]
  },
  {
   "cell_type": "code",
   "execution_count": 451,
   "metadata": {},
   "outputs": [
    {
     "name": "stdout",
     "output_type": "stream",
     "text": [
      "('STL', 'Frontier Airlines', None)\n"
     ]
    }
   ],
   "source": [
    "inbound_family = zip(inbound_airlines, inbound_delays)\n",
    "children_of_inbound = []\n",
    "\n",
    "for airport in inbounds:\n",
    "    children_of_inbound = {\"name\" : airport, \"children\" : []}\n",
    "    \n",
    "    delay_dict = {}\n",
    "    airline_dict = {\"name\" : \"\", \"children\" : []}\n",
    "    for airline, delay in inbound_family:\n",
    "        delay_dict[delay] = delay_dict.get(delay, 0) + 1\n",
    "        airline_dict['name'] = airline\n",
    "        airline_dict['children'].append(delay_dict)\n",
    "        \n",
    "        \n",
    "       \n",
    "\n",
    "        "
   ]
  },
  {
   "cell_type": "code",
   "execution_count": 452,
   "metadata": {},
   "outputs": [],
   "source": [
    "# { \"name\": \"DEN\",\n",
    "# \"children\": [\n",
    "#               { \"name\": \"inbound\", \"children\": [ \n",
    "#                                                   { \"name\": \"STL\", \"children\": [\n",
    "#                                                                                  {\"name\" : \"Frontier\", \"children\" : [\n",
    "#                                                                                                                        { \"None\" : 1 }... ] }, ...] }, ...] }\n",
    "# }"
   ]
  },
  {
   "cell_type": "code",
   "execution_count": 468,
   "metadata": {},
   "outputs": [
    {
     "data": {
      "text/plain": [
       "[]"
      ]
     },
     "execution_count": 468,
     "metadata": {},
     "output_type": "execute_result"
    }
   ],
   "source": [
    "inbound_starter = {\"name\" : \"inbound\"}\n",
    "inbound_starter.setdefault(\"children\", [])"
   ]
  },
  {
   "cell_type": "code",
   "execution_count": 469,
   "metadata": {},
   "outputs": [
    {
     "data": {
      "text/plain": [
       "{'name': 'inbound', 'children': []}"
      ]
     },
     "execution_count": 469,
     "metadata": {},
     "output_type": "execute_result"
    }
   ],
   "source": [
    "inbound_starter"
   ]
  },
  {
   "cell_type": "code",
   "execution_count": 470,
   "metadata": {},
   "outputs": [],
   "source": [
    "temp = {\"None\" : 5, \">60\" : 6, \"<60\" : 2}"
   ]
  },
  {
   "cell_type": "code",
   "execution_count": null,
   "metadata": {},
   "outputs": [],
   "source": [
    "outbound_parent = [\"outbound\" for _ in range()]"
   ]
  }
 ],
 "metadata": {
  "kernelspec": {
   "display_name": "Python 3",
   "language": "python",
   "name": "python3"
  },
  "language_info": {
   "codemirror_mode": {
    "name": "ipython",
    "version": 3
   },
   "file_extension": ".py",
   "mimetype": "text/x-python",
   "name": "python",
   "nbconvert_exporter": "python",
   "pygments_lexer": "ipython3",
   "version": "3.7.3"
  }
 },
 "nbformat": 4,
 "nbformat_minor": 2
}
