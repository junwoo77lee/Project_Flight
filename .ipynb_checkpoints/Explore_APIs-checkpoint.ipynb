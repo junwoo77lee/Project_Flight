{
 "cells": [
  {
   "cell_type": "code",
   "execution_count": 15,
   "metadata": {},
   "outputs": [],
   "source": [
    "import os\n",
    "api_key = os.environ.get('FLIGHT_API_KEY', '')\n",
    "from typing import List\n",
    "\n",
    "import requests\n",
    "import pandas as pd\n",
    "\n",
    "from pprint import pprint\n",
    "from datetime import datetime"
   ]
  },
  {
   "cell_type": "code",
   "execution_count": 16,
   "metadata": {},
   "outputs": [],
   "source": [
    "import pymongo"
   ]
  },
  {
   "cell_type": "code",
   "execution_count": 17,
   "metadata": {},
   "outputs": [],
   "source": [
    "myclient = pymongo.MongoClient(\"mongodb://localhost:27017/\")\n",
    "mydb = myclient[\"flight_app\"]"
   ]
  },
  {
   "cell_type": "code",
   "execution_count": null,
   "metadata": {},
   "outputs": [],
   "source": [
    "mycol = mydb[\"timetable\"]"
   ]
  },
  {
   "cell_type": "code",
   "execution_count": 996,
   "metadata": {},
   "outputs": [],
   "source": [
    "cursor = mycol.find()"
   ]
  },
  {
   "cell_type": "code",
   "execution_count": 997,
   "metadata": {},
   "outputs": [
    {
     "data": {
      "text/plain": [
       "pymongo.cursor.Cursor"
      ]
     },
     "execution_count": 997,
     "metadata": {},
     "output_type": "execute_result"
    }
   ],
   "source": [
    "type(cursor)"
   ]
  },
  {
   "cell_type": "code",
   "execution_count": 19,
   "metadata": {},
   "outputs": [],
   "source": [
    "data_filtered = mydb['timetable'].find({\"$or\": [{\"departure.iataCode\": \"DEN\"},\n",
    "                                                     {\"arrival.iataCode\": \"DEN\"}\n",
    "                                                     ]\n",
    "                                             }, {\"_id\": 0, \"departure\": 1, \"arrival\": 1})"
   ]
  },
  {
   "cell_type": "code",
   "execution_count": 20,
   "metadata": {},
   "outputs": [
    {
     "name": "stdout",
     "output_type": "stream",
     "text": [
      "{'departure': {'iataCode': 'DEN', 'icaoCode': 'KDEN', 'terminal': None, 'gate': 'A33', 'baggage': None, 'delay': '1', 'scheduledTime': '2019-09-30T23:59:00.000', 'estimatedTime': '2019-10-01T00:09:00.000', 'actualTime': '2019-10-01T00:00:00.000', 'estimatedRunway': '2019-10-01T00:00:00.000', 'actualRunway': '2019-10-01T00:00:00.000'}, 'arrival': {'iataCode': 'JFK', 'icaoCode': 'KJFK', 'terminal': '5', 'gate': '8', 'baggage': '2', 'delay': None, 'scheduledTime': '2019-10-01T05:43:00.000', 'estimatedTime': '2019-10-01T05:12:00.000', 'actualTime': None, 'estimatedRunway': None, 'actualRunway': None}}\n"
     ]
    }
   ],
   "source": [
    "for i in data_filtered:\n",
    "    print(i)\n",
    "    break"
   ]
  },
  {
   "cell_type": "code",
   "execution_count": null,
   "metadata": {},
   "outputs": [],
   "source": [
    "list(cursor)[:2]"
   ]
  },
  {
   "cell_type": "markdown",
   "metadata": {},
   "source": [
    "{ \"departure\" : { \"iataCode\" : \"DEN\", \"icaoCode\" : \"KDEN\", \"terminal\" : null, \"gate\" : \"B46\", \"baggage\" : null, \"delay\" : \"7\", \"scheduledTime\" : \"2019-09-28T22:20:00.000\", \"estimatedTime\" : \"2019-09-28T22:29:00.000\", \"actualTime\" : \"2019-09-28T22:27:00.000\", \"estimatedRunway\" : \"2019-09-28T22:27:00.000\", \"actualRunway\" : \"2019-09-28T22:27:00.000\" },\n",
    " \"arrival\" : { \"iataCode\" : \"PDX\", \"icaoCode\" : \"KPDX\", \"terminal\" : null, \"gate\" : \"E2\", \"baggage\" : null, \"delay\" : null, \"scheduledTime\" : \"2019-09-28T23:59:00.000\", \"estimatedTime\" : \"2019-09-28T23:40:00.000\", \"actualTime\" : null, \"estimatedRunway\" : null, \"actualRunway\" : null },\n",
    " \"airline\" : { \"name\" : \"United Airlines\", \"iataCode\" : \"UA\", \"icaoCode\" : \"UAL\" },\n",
    " \"flight\" : { \"number\" : \"980\", \"iataNumber\" : \"UA980\", \"icaoNumber\" : \"UAL980\" },\n",
    " \"codeshared\" : null }\n",
    "\n"
   ]
  },
  {
   "cell_type": "code",
   "execution_count": 157,
   "metadata": {},
   "outputs": [
    {
     "data": {
      "text/plain": [
       "'9a7cdb-87fe76'"
      ]
     },
     "execution_count": 157,
     "metadata": {},
     "output_type": "execute_result"
    }
   ],
   "source": [
    "\"_id\" : ObjectId(\"5d90446a4a2467b8d5bd180a\")"
   ]
  },
  {
   "cell_type": "markdown",
   "metadata": {},
   "source": [
    "### PLAN:\n",
    "##### 1.\t“ SHOW ME ALL THE FLIGHT SCHEDULE THAT DEPARTS FROM DENVER FOR TODAY ON A MAP (D3.js)”\n",
    "##### 2.\t“AND COMPARE THE SCHEDULE WITH ITS ACTUAL DATA TO DISPLAY PROGRESS ON THE SAME MAP”\n",
    "\n",
    "*\tDisplay the scheduled flight time <code><strong>(/schedule route)</strong></code> and its actual data <strong><code>(/projection route)</code></strong> onto the same map\n",
    "*\tEstimated arrival time using Flight distance API calculation a distance (or time by speed) between flight’s current location and its destination\n",
    "*\tOther possibilities: time skewness (estimated flying time - actual flying time) by airlines as a performance metric\n",
    "\n",
    "### TECHNOLOGIES:\n",
    "* Local development: FLASK + MONGODB\n",
    "* Web deployment: Google Cloud?"
   ]
  },
  {
   "cell_type": "markdown",
   "metadata": {},
   "source": [
    "#### 1. Design for FLIGHT TRACKER API\n",
    "Required fields:\n",
    "* departure - iataCode\n",
    "* arrival - iataCode\n",
    "* flight - iataNumber\n",
    "* aircraft - regNumber, iataCode\n",
    "* geography - altitude, direction, latitude, longitude\n",
    "* speed - horizontal, vertical, isGround\n",
    "* status\n",
    "* system - squawk, updated"
   ]
  },
  {
   "cell_type": "code",
   "execution_count": 8,
   "metadata": {},
   "outputs": [],
   "source": [
    "base_url  = 'http://aviation-edge.com/v2/public/flights'\n",
    "params = { 'key': api_key\n",
    "#            'depIata': 'DEN',\n",
    "#           'depIcao': '',\n",
    "#           'arrIata': '',\n",
    "#           'arrIcao': '',\n",
    "#           'aircraftIcao': '',\n",
    "#           'regNum': '',\n",
    "#           'aircraftIcao24': '',\n",
    "#           'airlineIata': '',\n",
    "#           'airlineIcao': '',\n",
    "#           'flightIata': '',\n",
    "#           'flightIcao': '',\n",
    "#           'flightNum': '',\n",
    "#           'status': '',\n",
    "#           'limit': 100\n",
    "        }\n",
    "\n",
    "resp_flight = requests.get(base_url, params=params).json()"
   ]
  },
  {
   "cell_type": "code",
   "execution_count": 1050,
   "metadata": {},
   "outputs": [],
   "source": [
    "from datetime import datetime"
   ]
  },
  {
   "cell_type": "code",
   "execution_count": 1059,
   "metadata": {},
   "outputs": [
    {
     "data": {
      "text/plain": [
       "'2019-10-07'"
      ]
     },
     "execution_count": 1059,
     "metadata": {},
     "output_type": "execute_result"
    }
   ],
   "source": [
    "str(datetime.now())[:10]"
   ]
  },
  {
   "cell_type": "code",
   "execution_count": 10,
   "metadata": {},
   "outputs": [
    {
     "data": {
      "text/plain": [
       "str"
      ]
     },
     "execution_count": 10,
     "metadata": {},
     "output_type": "execute_result"
    }
   ],
   "source": [
    "type(resp_flight[0].get('system').get('updated'))"
   ]
  },
  {
   "cell_type": "code",
   "execution_count": 13,
   "metadata": {},
   "outputs": [
    {
     "data": {
      "text/plain": [
       "{'geography': {'latitude': 51.2153,\n",
       "  'longitude': 2.0399,\n",
       "  'altitude': 8869.68,\n",
       "  'direction': 98.55},\n",
       " 'speed': {'horizontal': 921.42, 'isGround': 0, 'vertical': 15.228},\n",
       " 'departure': {'iataCode': 'LPL', 'icaoCode': 'EGGP'},\n",
       " 'arrival': {'iataCode': 'SOF', 'icaoCode': 'LBSF'},\n",
       " 'aircraft': {'regNumber': 'HALXN',\n",
       "  'icaoCode': '',\n",
       "  'icao24': '',\n",
       "  'iataCode': ''},\n",
       " 'airline': {'iataCode': 'W6', 'icaoCode': 'WZZ'},\n",
       " 'flight': {'iataNumber': 'W63PK', 'icaoNumber': 'WZZ3PK', 'number': '3PK'},\n",
       " 'system': {'updated': '1570656000', 'squawk': '7321'},\n",
       " 'status': 'started'}"
      ]
     },
     "execution_count": 13,
     "metadata": {},
     "output_type": "execute_result"
    }
   ],
   "source": [
    "resp_flight[0]"
   ]
  },
  {
   "cell_type": "code",
   "execution_count": 12,
   "metadata": {},
   "outputs": [
    {
     "data": {
      "text/plain": [
       "1570656000"
      ]
     },
     "execution_count": 12,
     "metadata": {},
     "output_type": "execute_result"
    }
   ],
   "source": [
    "int(resp_flight[0].get('system').get('updated'))"
   ]
  },
  {
   "cell_type": "code",
   "execution_count": 1041,
   "metadata": {},
   "outputs": [
    {
     "data": {
      "text/plain": [
       "(11463, 19345)"
      ]
     },
     "execution_count": 1041,
     "metadata": {},
     "output_type": "execute_result"
    }
   ],
   "source": [
    "len([flight for flight in resp_flight if (flight.get('flight').get('iataNumber'))]) , len([flight for flight in resp_flight if (flight.get('flight').get('icaoNumber'))])"
   ]
  },
  {
   "cell_type": "markdown",
   "metadata": {},
   "source": [
    "#### 2. Design for AIRPORT DATABASE API\n",
    "Required fields:\n",
    "* codeIataAirport, codeIataCity, codeIso2Country\n",
    "* nameAirport, nameCountry\n",
    "* latitudeAirport, longitudeAirport\n",
    "* timezone(?)"
   ]
  },
  {
   "cell_type": "code",
   "execution_count": 230,
   "metadata": {},
   "outputs": [],
   "source": [
    "base_url = 'https://aviation-edge.com/v2/public/airportDatabase'\n",
    "params = {'key': api_key,\n",
    "          'codeIso2Country': 'US'\n",
    "         }\n",
    "\n",
    "us_airports = requests.get(base_url, params=params).json()"
   ]
  },
  {
   "cell_type": "code",
   "execution_count": 17,
   "metadata": {},
   "outputs": [
    {
     "data": {
      "text/plain": [
       "2336"
      ]
     },
     "execution_count": 17,
     "metadata": {},
     "output_type": "execute_result"
    }
   ],
   "source": [
    "len(us_airports)"
   ]
  },
  {
   "cell_type": "code",
   "execution_count": null,
   "metadata": {},
   "outputs": [],
   "source": [
    "# Display all airport results containing user-defined strings\n",
    "pprint([airport for airport in us_airports if ('denver' in airport.get('timezone').lower()) and ('international' in airport.get('nameAirport').lower())])\n"
   ]
  },
  {
   "cell_type": "code",
   "execution_count": 34,
   "metadata": {},
   "outputs": [],
   "source": [
    "# Sample data\n",
    "\n",
    "# DENVER INTERNATIONAL AIRPORT (DIA)\n",
    "\n",
    "#   'GMT': '-7',\n",
    "#   'airportId': '1746',\n",
    "#   'codeIataAirport': 'DEN',\n",
    "#   'codeIataCity': 'DEN',\n",
    "#   'codeIcaoAirport': 'KDEN',\n",
    "#   'codeIso2Country': 'US',\n",
    "#   'geonameId': '5419401',\n",
    "#   'latitudeAirport': '39.84939',\n",
    "#   'longitudeAirport': '-104.672844',\n",
    "#   'nameAirport': 'Denver International',\n",
    "#   'nameCountry': 'United States',\n",
    "#   'phone': '303-342-2000',\n",
    "#   'timezone': 'America/Denver'},"
   ]
  },
  {
   "cell_type": "markdown",
   "metadata": {},
   "source": [
    "#### 3. Design for TIMETABLE API\n",
    "Required fields ('departure'):\n",
    "* departure - iataCode, scheduledTime, gate, terminal, delay (if delayed)\n",
    "* arrival - iataCode, scheduledTime, gate, terminal, baggage, delay (if delayed)\n",
    "* airline\n",
    "* flight number (iata?)\n",
    "* status"
   ]
  },
  {
   "cell_type": "code",
   "execution_count": 5,
   "metadata": {},
   "outputs": [],
   "source": [
    "base_url = 'http://aviation-edge.com/v2/public/timetable'\n",
    "params = {'key': api_key,\n",
    "          'codeshared': 'Null',\n",
    "#           'iataCode': 'DEN',\n",
    "          'type': 'arrival'\n",
    "         }\n",
    "\n",
    "resp_timetable = requests.get(base_url, params=params).json()"
   ]
  },
  {
   "cell_type": "code",
   "execution_count": 7,
   "metadata": {},
   "outputs": [
    {
     "data": {
      "text/plain": [
       "{'type': 'arrival',\n",
       " 'status': 'landed',\n",
       " 'departure': {'iataCode': 'ABZ',\n",
       "  'icaoCode': 'EGPD',\n",
       "  'terminal': None,\n",
       "  'gate': None,\n",
       "  'baggage': None,\n",
       "  'delay': '12',\n",
       "  'scheduledTime': '2019-10-09T13:45:00.000',\n",
       "  'estimatedTime': '2019-10-09T13:45:00.000',\n",
       "  'actualTime': '2019-10-09T13:56:00.000',\n",
       "  'estimatedRunway': '2019-10-09T13:56:00.000',\n",
       "  'actualRunway': '2019-10-09T13:56:00.000'},\n",
       " 'arrival': {'iataCode': 'EBJ',\n",
       "  'icaoCode': 'EKEB',\n",
       "  'terminal': None,\n",
       "  'gate': None,\n",
       "  'baggage': None,\n",
       "  'delay': '6',\n",
       "  'scheduledTime': '2019-10-09T16:30:00.000',\n",
       "  'estimatedTime': '2019-10-09T16:31:00.000',\n",
       "  'actualTime': '2019-10-09T16:36:00.000',\n",
       "  'estimatedRunway': '2019-10-09T16:36:00.000',\n",
       "  'actualRunway': '2019-10-09T16:36:00.000'},\n",
       " 'airline': {'name': 'Danish Air', 'iataCode': 'DX', 'icaoCode': 'DTR'},\n",
       " 'flight': {'number': '19', 'iataNumber': 'DX19', 'icaoNumber': 'DTR19'},\n",
       " 'codeshared': None}"
      ]
     },
     "execution_count": 7,
     "metadata": {},
     "output_type": "execute_result"
    }
   ],
   "source": [
    "resp_timetable[0]"
   ]
  },
  {
   "cell_type": "code",
   "execution_count": 384,
   "metadata": {},
   "outputs": [
    {
     "data": {
      "text/plain": [
       "12"
      ]
     },
     "execution_count": 384,
     "metadata": {},
     "output_type": "execute_result"
    }
   ],
   "source": [
    "len([schedule for schedule in resp_timetable if schedule.get('arrival').get('iataCode') == \"LAX\"])"
   ]
  },
  {
   "cell_type": "code",
   "execution_count": 339,
   "metadata": {},
   "outputs": [
    {
     "data": {
      "text/plain": [
       "821"
      ]
     },
     "execution_count": 339,
     "metadata": {},
     "output_type": "execute_result"
    }
   ],
   "source": [
    "len(resp_timetable)"
   ]
  },
  {
   "cell_type": "code",
   "execution_count": 340,
   "metadata": {},
   "outputs": [
    {
     "data": {
      "text/plain": [
       "466"
      ]
     },
     "execution_count": 340,
     "metadata": {},
     "output_type": "execute_result"
    }
   ],
   "source": [
    "len([schedule for schedule in resp_timetable if schedule.get('codeshared') is None])"
   ]
  },
  {
   "cell_type": "code",
   "execution_count": 342,
   "metadata": {},
   "outputs": [
    {
     "data": {
      "text/plain": [
       "1767"
      ]
     },
     "execution_count": 342,
     "metadata": {},
     "output_type": "execute_result"
    }
   ],
   "source": [
    "len(resp_timetable)"
   ]
  },
  {
   "cell_type": "code",
   "execution_count": 343,
   "metadata": {},
   "outputs": [
    {
     "data": {
      "text/plain": [
       "1002"
      ]
     },
     "execution_count": 343,
     "metadata": {},
     "output_type": "execute_result"
    }
   ],
   "source": [
    "len([schedule for schedule in resp_timetable if schedule.get('codeshared') is None])"
   ]
  },
  {
   "cell_type": "code",
   "execution_count": 299,
   "metadata": {},
   "outputs": [],
   "source": [
    "c = Counter()\n",
    "a = [1, 2, 2, 3, 4]"
   ]
  },
  {
   "cell_type": "code",
   "execution_count": 306,
   "metadata": {},
   "outputs": [],
   "source": [
    "c.update(a)"
   ]
  },
  {
   "cell_type": "code",
   "execution_count": 307,
   "metadata": {},
   "outputs": [
    {
     "data": {
      "text/plain": [
       "Counter({1: 3, 2: 6, 3: 3, 4: 3})"
      ]
     },
     "execution_count": 307,
     "metadata": {},
     "output_type": "execute_result"
    }
   ],
   "source": [
    "c"
   ]
  },
  {
   "cell_type": "code",
   "execution_count": 425,
   "metadata": {},
   "outputs": [],
   "source": [
    "timetable_url = 'http://aviation-edge.com/v2/public/timetable'\n",
    "tt_params = {'key': api_key,\n",
    "               'iataCode': 'SJU',\n",
    "             'codeshared': 'Null',\n",
    "             'type': 'arrival'\n",
    "             }\n",
    "timetable_json = requests.get(timetable_url, params=tt_params).json()"
   ]
  },
  {
   "cell_type": "code",
   "execution_count": 945,
   "metadata": {},
   "outputs": [],
   "source": [
    "airport_url = 'http://aviation-edge.com/v2/public/airportDatabase'\n",
    "ap_params = {'key': api_key}\n",
    "airport_json = requests.get(airport_url, params=ap_params).json()"
   ]
  },
  {
   "cell_type": "code",
   "execution_count": 946,
   "metadata": {},
   "outputs": [
    {
     "name": "stdout",
     "output_type": "stream",
     "text": [
      "{'GMT': '-5',\n",
      " 'airportId': '5966',\n",
      " 'codeIataAirport': 'PBI',\n",
      " 'codeIataCity': 'PBI',\n",
      " 'codeIcaoAirport': 'KPBI',\n",
      " 'codeIso2Country': 'US',\n",
      " 'geonameId': '6298874',\n",
      " 'latitudeAirport': '26.688885',\n",
      " 'longitudeAirport': '-80.09044',\n",
      " 'nameAirport': 'International',\n",
      " 'nameCountry': 'United States',\n",
      " 'phone': '',\n",
      " 'timezone': 'America/New_York'}\n"
     ]
    }
   ],
   "source": [
    "for airport in airport_json:\n",
    "    if 'PBI' in airport.get('codeIataAirport'):\n",
    "        pprint(airport)\n",
    "        break"
   ]
  },
  {
   "cell_type": "code",
   "execution_count": null,
   "metadata": {},
   "outputs": [],
   "source": [
    "results = []\n",
    "for schedule in timetable_json:\n",
    "    depart_airport = schedule.get('departure').get('iataCode')\n",
    "    arrival_airport = schedule.get('arrival').get('iataCode')\n",
    "    \n",
    "    for airport in airport_json:\n",
    "        if 'US' in airport.get('codeIso2Country'):\n",
    "            if depart_airport == airport.get('codeIataAirport'):"
   ]
  },
  {
   "cell_type": "code",
   "execution_count": 392,
   "metadata": {},
   "outputs": [],
   "source": [
    "airport_ref = {}\n",
    "for airport in airport_json:\n",
    "    airport_ref[airport.get('codeIataAirport')] = airport.get('codeIso2Country')"
   ]
  },
  {
   "cell_type": "code",
   "execution_count": 421,
   "metadata": {},
   "outputs": [],
   "source": [
    "results = []\n",
    "for schedule in timetable_json:\n",
    "    \n",
    "    depart_airport = schedule.get('departure').get('iataCode')\n",
    "    arrival_airport = schedule.get('arrival').get('iataCode')\n",
    "    \n",
    "    if (airport_ref[depart_airport] == 'US') and (airport_ref[arrival_airport] == 'US'):\n",
    "        \n",
    "        if (depart_airport in major_airports) and (arrival_airport in major_airports):\n",
    "    \n",
    "            for airport in airport_json:\n",
    "                if depart_airport == airport.get('codeIataAirport'):\n",
    "                    schedule['departLat'] = float(airport.get('latitudeAirport'))\n",
    "                    schedule['departLon'] = float(airport.get('longitudeAirport'))\n",
    "                    schedule['departAirportTimezone'] = airport.get('timezone')\n",
    "                    schedule['departCityCode'] = airport.get('codeIataCity')\n",
    "\n",
    "                elif arrival_airport == airport.get('codeIataAirport'):\n",
    "                    schedule['arrivalLat'] = float(airport.get('latitudeAirport'))\n",
    "                    schedule['arrivalLon'] = float(airport.get('longitudeAirport'))\n",
    "                    schedule['arrivalAirportTimezone'] = airport.get('timezone')\n",
    "                    schedule['arrivalCityCode'] = airport.get('codeIataCity')\n",
    "\n",
    "            results.append(schedule)"
   ]
  },
  {
   "cell_type": "code",
   "execution_count": null,
   "metadata": {},
   "outputs": [],
   "source": [
    "results[:10]"
   ]
  },
  {
   "cell_type": "code",
   "execution_count": 404,
   "metadata": {},
   "outputs": [],
   "source": [
    "import pandas as pd"
   ]
  },
  {
   "cell_type": "code",
   "execution_count": 412,
   "metadata": {},
   "outputs": [],
   "source": [
    "major_airports.extend(list(pd.read_html('https://en.wikipedia.org/wiki/List_of_the_busiest_airports_in_the_United_States')[1]['IATACode']))"
   ]
  },
  {
   "cell_type": "code",
   "execution_count": 416,
   "metadata": {},
   "outputs": [],
   "source": [
    "major_airports = set(major_airports)"
   ]
  },
  {
   "cell_type": "code",
   "execution_count": null,
   "metadata": {},
   "outputs": [],
   "source": [
    "major_airports"
   ]
  },
  {
   "cell_type": "markdown",
   "metadata": {},
   "source": [
    "airportInfo.forEach(airport => {\n",
    "        masterObj.forEach(item => {\n",
    "            if (item.departAirportCode === airport.codeIataAirport) {\n",
    "                item['departLat'] = Number(airport.latitudeAirport);\n",
    "                item['departLon'] = Number(airport.longitudeAirport);\n",
    "                item['departAirportTimezone'] = airport.timezone;\n",
    "                item['departCityCode'] = airport.codeIataCity;\n",
    "            } else if (item.arrivalAirportCode === airport.codeIataAirport) {\n",
    "                item['arrivalLat'] = Number(airport.latitudeAirport);\n",
    "                item['arrivalLon'] = Number(airport.longitudeAirport);\n",
    "                item['arrivalAirportTimezone'] = airport.timezone;\n",
    "                item['arrivalCityCode'] = airport.codeIataCity;"
   ]
  },
  {
   "cell_type": "code",
   "execution_count": 285,
   "metadata": {},
   "outputs": [],
   "source": [
    "from collections import defaultdict\n",
    "from collections import Counter"
   ]
  },
  {
   "cell_type": "code",
   "execution_count": 291,
   "metadata": {},
   "outputs": [],
   "source": [
    "depart_DEN_dict = defaultdict(list)"
   ]
  },
  {
   "cell_type": "code",
   "execution_count": 292,
   "metadata": {},
   "outputs": [],
   "source": [
    "for schedule in resp_timetable:\n",
    "    if schedule.get('codeshared') is None:\n",
    "        depart_DEN_dict[schedule.get('departure').get('iataCode')].append(schedule.get('arrival').get('iataCode'))"
   ]
  },
  {
   "cell_type": "code",
   "execution_count": null,
   "metadata": {},
   "outputs": [],
   "source": [
    "depart_DEN_destinations = Counter(depart_DEN_dict['DEN'])\n",
    "depart_DEN_destinations"
   ]
  },
  {
   "cell_type": "code",
   "execution_count": null,
   "metadata": {},
   "outputs": [],
   "source": [
    "timetable_json[:10]"
   ]
  },
  {
   "cell_type": "code",
   "execution_count": null,
   "metadata": {},
   "outputs": [],
   "source": [
    "pprint([schedule for schedule in resp_timetable if schedule.get('codeshared') is not None])"
   ]
  },
  {
   "cell_type": "code",
   "execution_count": 251,
   "metadata": {},
   "outputs": [
    {
     "name": "stdout",
     "output_type": "stream",
     "text": [
      "[{'aircraft': {'iataCode': 'B752',\n",
      "               'icao24': '4CC268',\n",
      "               'icaoCode': 'B752',\n",
      "               'regNumber': 'TFFIC'},\n",
      "  'airline': {'iataCode': 'FI', 'icaoCode': 'ICE'},\n",
      "  'arrival': {'iataCode': 'KEF', 'icaoCode': 'BIKF'},\n",
      "  'departure': {'iataCode': 'DEN', 'icaoCode': 'KDEN'},\n",
      "  'flight': {'iataNumber': 'FI670', 'icaoNumber': 'ICE670', 'number': '670'},\n",
      "  'geography': {'altitude': 7658.1,\n",
      "                'direction': 44,\n",
      "                'latitude': 40.672,\n",
      "                'longitude': -104.117},\n",
      "  'speed': {'horizontal': 755.616, 'isGround': 1, 'vertical': 8.45312},\n",
      "  'status': 'en-route',\n",
      "  'system': {'squawk': '1445', 'updated': '1569453605'}}]\n"
     ]
    }
   ],
   "source": [
    "pprint([schedule for schedule in resp_flight if schedule.get('speed').get('isGround') != 0])"
   ]
  },
  {
   "cell_type": "code",
   "execution_count": 209,
   "metadata": {},
   "outputs": [],
   "source": [
    "match_count = 0\n",
    "\n",
    "flight_numbers_in_timetable = {flight.get('flight').get('icaoNumber') for flight in resp_timetable}\n",
    "flight_numbers_in_tracker = {flight.get('flight').get('icaoNumber') for flight in resp_flight}\n",
    "\n",
    "for flight in resp_flight:\n",
    "    if flight.get('flight').get('icaoNumber') in flight_numbers_in_timetable:\n",
    "        match_count += 1"
   ]
  },
  {
   "cell_type": "code",
   "execution_count": 210,
   "metadata": {},
   "outputs": [
    {
     "data": {
      "text/plain": [
       "180"
      ]
     },
     "execution_count": 210,
     "metadata": {},
     "output_type": "execute_result"
    }
   ],
   "source": [
    "match_count"
   ]
  },
  {
   "cell_type": "code",
   "execution_count": 206,
   "metadata": {},
   "outputs": [
    {
     "data": {
      "text/plain": [
       "1019"
      ]
     },
     "execution_count": 206,
     "metadata": {},
     "output_type": "execute_result"
    }
   ],
   "source": [
    "len(flight_numbers_in_timetable)"
   ]
  },
  {
   "cell_type": "code",
   "execution_count": 208,
   "metadata": {},
   "outputs": [
    {
     "data": {
      "text/plain": [
       "367"
      ]
     },
     "execution_count": 208,
     "metadata": {},
     "output_type": "execute_result"
    }
   ],
   "source": [
    "len(flight_numbers_in_tracker)"
   ]
  },
  {
   "cell_type": "code",
   "execution_count": 132,
   "metadata": {},
   "outputs": [],
   "source": [
    "def get_info_timetable(airport_code: str ='DEN', airline_code: str =None):\n",
    "    \n",
    "    results = []\n",
    "    \n",
    "    base_url = 'http://aviation-edge.com/v2/public/timetable'\n",
    "    params = {'key': api_key,\n",
    "              'iataCode': airport_code,\n",
    "              'airline_iata': airline_code,\n",
    "              'type': 'departure'\n",
    "             }\n",
    "\n",
    "    if not airline_code: del params['airline_iata']\n",
    "        \n",
    "    schedules = requests.get(base_url, params=params).json()\n",
    "    print(f'Searched data counts: {len(schedules)}')\n",
    "\n",
    "    for schedule in schedules:\n",
    "\n",
    "        # departure info\n",
    "        departure_iatacode = schedule['departure']['iataCode']\n",
    "        departure_scheduledtime = schedule['departure']['scheduledTime']\n",
    "        departure_scheduledtime = datetime.strptime(departure_scheduledtime, '%Y-%m-%dT%H:%M:%S.%f').strftime('%Y-%m-%d %H:%M:%S')\n",
    "        departure_gate = schedule['departure']['gate']\n",
    "        departure_terminal = schedule['departure']['terminal']\n",
    "        departure_delay = schedule['departure']['delay']\n",
    "\n",
    "        # arrival info\n",
    "        arrival_iatacode = schedule['arrival']['iataCode']\n",
    "        arrival_scheduledtime = schedule['arrival']['scheduledTime']\n",
    "        arrival_scheduledtime = datetime.strptime(arrival_scheduledtime, '%Y-%m-%dT%H:%M:%S.%f').strftime('%Y-%m-%d %H:%M:%S')\n",
    "        arrival_gate = schedule['arrival']['gate']\n",
    "        arrival_terminal = schedule['arrival']['terminal']\n",
    "        arrival_baggage = schedule['arrival']['baggage']\n",
    "        arrival_delay = schedule['arrival']['delay']\n",
    "\n",
    "        # airline info\n",
    "        airline_iatacode = schedule['airline']['iataCode']\n",
    "        airline_name = schedule['airline']['name']\n",
    "\n",
    "        # flight info\n",
    "        flight_iatanumber = schedule['flight']['iataNumber']\n",
    "        flight_status = schedule['status']\n",
    "        \n",
    "        results.append(\n",
    "             {\n",
    "              'departure_iatacode': departure_iatacode,\n",
    "              'departure_scheduledtime': departure_scheduledtime,\n",
    "              'departure_gate': departure_gate,\n",
    "              'departure_terminal': departure_terminal,\n",
    "              'departure_delay': departure_delay,\n",
    "              'arrival_iatacode': arrival_iatacode,\n",
    "              'arrival_scheduledtime': arrival_scheduledtime,\n",
    "              'arrival_gate': arrival_gate,\n",
    "              'arrival_terminal': arrival_terminal,\n",
    "              'arrival_baggage': arrival_baggage,\n",
    "              'arrival_delay': arrival_delay,\n",
    "              'airline_iatacode': airline_iatacode,\n",
    "              'airline_name': airline_name,\n",
    "              'flight_iatanumber': flight_iatanumber,\n",
    "              'flight_status': flight_status  \n",
    "            }\n",
    "        )\n",
    "\n",
    "    return results\n"
   ]
  },
  {
   "cell_type": "code",
   "execution_count": 133,
   "metadata": {},
   "outputs": [
    {
     "name": "stdout",
     "output_type": "stream",
     "text": [
      "Searched data counts: 602\n"
     ]
    }
   ],
   "source": [
    "results = get_info_timetable('DEN')"
   ]
  },
  {
   "cell_type": "code",
   "execution_count": 149,
   "metadata": {},
   "outputs": [],
   "source": [
    "schedule_df = pd.DataFrame.from_records(results)"
   ]
  },
  {
   "cell_type": "code",
   "execution_count": 151,
   "metadata": {},
   "outputs": [
    {
     "data": {
      "text/html": [
       "<div>\n",
       "<style scoped>\n",
       "    .dataframe tbody tr th:only-of-type {\n",
       "        vertical-align: middle;\n",
       "    }\n",
       "\n",
       "    .dataframe tbody tr th {\n",
       "        vertical-align: top;\n",
       "    }\n",
       "\n",
       "    .dataframe thead th {\n",
       "        text-align: right;\n",
       "    }\n",
       "</style>\n",
       "<table border=\"1\" class=\"dataframe\">\n",
       "  <thead>\n",
       "    <tr style=\"text-align: right;\">\n",
       "      <th></th>\n",
       "      <th>airline_iatacode</th>\n",
       "      <th>airline_name</th>\n",
       "      <th>arrival_baggage</th>\n",
       "      <th>arrival_delay</th>\n",
       "      <th>arrival_gate</th>\n",
       "      <th>arrival_iatacode</th>\n",
       "      <th>arrival_scheduledtime</th>\n",
       "      <th>arrival_terminal</th>\n",
       "      <th>departure_delay</th>\n",
       "      <th>departure_gate</th>\n",
       "      <th>departure_iatacode</th>\n",
       "      <th>departure_scheduledtime</th>\n",
       "      <th>departure_terminal</th>\n",
       "      <th>flight_iatanumber</th>\n",
       "      <th>flight_status</th>\n",
       "    </tr>\n",
       "  </thead>\n",
       "  <tbody>\n",
       "    <tr>\n",
       "      <th>49</th>\n",
       "      <td>WN</td>\n",
       "      <td>Southwest Airlines</td>\n",
       "      <td>None</td>\n",
       "      <td>None</td>\n",
       "      <td>406</td>\n",
       "      <td>ONT</td>\n",
       "      <td>2019-09-24 22:35:00</td>\n",
       "      <td>4</td>\n",
       "      <td>35</td>\n",
       "      <td>C37</td>\n",
       "      <td>DEN</td>\n",
       "      <td>2019-09-24 21:25:00</td>\n",
       "      <td>None</td>\n",
       "      <td>WN150</td>\n",
       "      <td>active</td>\n",
       "    </tr>\n",
       "  </tbody>\n",
       "</table>\n",
       "</div>"
      ],
      "text/plain": [
       "   airline_iatacode        airline_name arrival_baggage arrival_delay  \\\n",
       "49               WN  Southwest Airlines            None          None   \n",
       "\n",
       "   arrival_gate arrival_iatacode arrival_scheduledtime arrival_terminal  \\\n",
       "49          406              ONT   2019-09-24 22:35:00                4   \n",
       "\n",
       "   departure_delay departure_gate departure_iatacode departure_scheduledtime  \\\n",
       "49              35            C37                DEN     2019-09-24 21:25:00   \n",
       "\n",
       "   departure_terminal flight_iatanumber flight_status  \n",
       "49               None             WN150        active  "
      ]
     },
     "execution_count": 151,
     "metadata": {},
     "output_type": "execute_result"
    }
   ],
   "source": [
    "schedule_df.query(\"flight_iatanumber == 'WN150'\")"
   ]
  },
  {
   "cell_type": "markdown",
   "metadata": {},
   "source": [
    "#### Airport Database\n",
    "Required fields ('departure'):"
   ]
  },
  {
   "cell_type": "code",
   "execution_count": 228,
   "metadata": {},
   "outputs": [],
   "source": [
    "base_url = 'https://aviation-edge.com/v2/public/airportDatabase'\n",
    "params = {'key': api_key}\n",
    "\n",
    "airport_db = requests.get(base_url, params=params).json()"
   ]
  },
  {
   "cell_type": "code",
   "execution_count": 215,
   "metadata": {},
   "outputs": [
    {
     "data": {
      "text/plain": [
       "{'airportId': '5',\n",
       " 'nameAirport': 'Apalachicola Regional',\n",
       " 'codeIataAirport': 'AAF',\n",
       " 'codeIcaoAirport': 'KAAF',\n",
       " 'latitudeAirport': '29.733334',\n",
       " 'longitudeAirport': '-84.98333',\n",
       " 'geonameId': '4146153',\n",
       " 'timezone': 'America/New_York',\n",
       " 'GMT': '-5',\n",
       " 'phone': '',\n",
       " 'nameCountry': 'United States',\n",
       " 'codeIso2Country': 'US',\n",
       " 'codeIataCity': 'AAF'}"
      ]
     },
     "execution_count": 215,
     "metadata": {},
     "output_type": "execute_result"
    }
   ],
   "source": [
    "airport_db[4]"
   ]
  },
  {
   "cell_type": "code",
   "execution_count": 113,
   "metadata": {},
   "outputs": [
    {
     "data": {
      "text/html": [
       "<div>\n",
       "<style scoped>\n",
       "    .dataframe tbody tr th:only-of-type {\n",
       "        vertical-align: middle;\n",
       "    }\n",
       "\n",
       "    .dataframe tbody tr th {\n",
       "        vertical-align: top;\n",
       "    }\n",
       "\n",
       "    .dataframe thead th {\n",
       "        text-align: right;\n",
       "    }\n",
       "</style>\n",
       "<table border=\"1\" class=\"dataframe\">\n",
       "  <thead>\n",
       "    <tr style=\"text-align: right;\">\n",
       "      <th></th>\n",
       "      <th>GMT</th>\n",
       "      <th>airportId</th>\n",
       "      <th>codeIataAirport</th>\n",
       "      <th>codeIataCity</th>\n",
       "      <th>codeIcaoAirport</th>\n",
       "      <th>codeIso2Country</th>\n",
       "      <th>geonameId</th>\n",
       "      <th>latitudeAirport</th>\n",
       "      <th>longitudeAirport</th>\n",
       "      <th>nameAirport</th>\n",
       "      <th>nameCountry</th>\n",
       "      <th>phone</th>\n",
       "      <th>timezone</th>\n",
       "    </tr>\n",
       "  </thead>\n",
       "  <tbody>\n",
       "    <tr>\n",
       "      <th>0</th>\n",
       "      <td>-10</td>\n",
       "      <td>1</td>\n",
       "      <td>AAA</td>\n",
       "      <td>AAA</td>\n",
       "      <td>NTGA</td>\n",
       "      <td>PF</td>\n",
       "      <td>6947726</td>\n",
       "      <td>-17.05</td>\n",
       "      <td>-145.41667</td>\n",
       "      <td>Anaa</td>\n",
       "      <td>French Polynesia</td>\n",
       "      <td></td>\n",
       "      <td>Pacific/Tahiti</td>\n",
       "    </tr>\n",
       "    <tr>\n",
       "      <th>1</th>\n",
       "      <td>10</td>\n",
       "      <td>2</td>\n",
       "      <td>AAB</td>\n",
       "      <td>AAB</td>\n",
       "      <td>YARY</td>\n",
       "      <td>AU</td>\n",
       "      <td>7730796</td>\n",
       "      <td>-26.7</td>\n",
       "      <td>141.04167</td>\n",
       "      <td>Arrabury</td>\n",
       "      <td>Australia</td>\n",
       "      <td></td>\n",
       "      <td>Australia/Brisbane</td>\n",
       "    </tr>\n",
       "    <tr>\n",
       "      <th>2</th>\n",
       "      <td>2</td>\n",
       "      <td>3</td>\n",
       "      <td>AAC</td>\n",
       "      <td>AAC</td>\n",
       "      <td>HEAR</td>\n",
       "      <td>EG</td>\n",
       "      <td>6297289</td>\n",
       "      <td>31.133333</td>\n",
       "      <td>33.75</td>\n",
       "      <td>El Arish International Airport</td>\n",
       "      <td>Egypt</td>\n",
       "      <td></td>\n",
       "      <td>Africa/Cairo</td>\n",
       "    </tr>\n",
       "    <tr>\n",
       "      <th>3</th>\n",
       "      <td>1</td>\n",
       "      <td>4</td>\n",
       "      <td>AAE</td>\n",
       "      <td>AAE</td>\n",
       "      <td>DABB</td>\n",
       "      <td>DZ</td>\n",
       "      <td>2570559</td>\n",
       "      <td>36.821392</td>\n",
       "      <td>7.811857</td>\n",
       "      <td>Les Salines</td>\n",
       "      <td></td>\n",
       "      <td></td>\n",
       "      <td>Africa/Algiers</td>\n",
       "    </tr>\n",
       "    <tr>\n",
       "      <th>4</th>\n",
       "      <td>-5</td>\n",
       "      <td>5</td>\n",
       "      <td>AAF</td>\n",
       "      <td>AAF</td>\n",
       "      <td>KAAF</td>\n",
       "      <td>US</td>\n",
       "      <td>4146153</td>\n",
       "      <td>29.733334</td>\n",
       "      <td>-84.98333</td>\n",
       "      <td>Apalachicola Regional</td>\n",
       "      <td>United States</td>\n",
       "      <td></td>\n",
       "      <td>America/New_York</td>\n",
       "    </tr>\n",
       "  </tbody>\n",
       "</table>\n",
       "</div>"
      ],
      "text/plain": [
       "   GMT airportId codeIataAirport codeIataCity codeIcaoAirport codeIso2Country  \\\n",
       "0  -10         1             AAA          AAA            NTGA              PF   \n",
       "1   10         2             AAB          AAB            YARY              AU   \n",
       "2    2         3             AAC          AAC            HEAR              EG   \n",
       "3    1         4             AAE          AAE            DABB              DZ   \n",
       "4   -5         5             AAF          AAF            KAAF              US   \n",
       "\n",
       "  geonameId latitudeAirport longitudeAirport                     nameAirport  \\\n",
       "0   6947726          -17.05       -145.41667                            Anaa   \n",
       "1   7730796           -26.7        141.04167                        Arrabury   \n",
       "2   6297289       31.133333            33.75  El Arish International Airport   \n",
       "3   2570559       36.821392         7.811857                     Les Salines   \n",
       "4   4146153       29.733334        -84.98333           Apalachicola Regional   \n",
       "\n",
       "        nameCountry phone            timezone  \n",
       "0  French Polynesia            Pacific/Tahiti  \n",
       "1         Australia        Australia/Brisbane  \n",
       "2             Egypt              Africa/Cairo  \n",
       "3                              Africa/Algiers  \n",
       "4     United States          America/New_York  "
      ]
     },
     "execution_count": 113,
     "metadata": {},
     "output_type": "execute_result"
    }
   ],
   "source": [
    "df_airport = pd.DataFrame.from_records(airport_db)\n",
    "df_airport.head()"
   ]
  },
  {
   "cell_type": "code",
   "execution_count": 115,
   "metadata": {},
   "outputs": [],
   "source": [
    "from sqlalchemy import create_engine\n",
    "\n",
    "engine = create_engine('sqlite:///airport.db', echo=True)"
   ]
  },
  {
   "cell_type": "code",
   "execution_count": 116,
   "metadata": {},
   "outputs": [
    {
     "name": "stdout",
     "output_type": "stream",
     "text": [
      "2019-09-21 16:17:17,190 INFO sqlalchemy.engine.base.Engine SELECT CAST('test plain returns' AS VARCHAR(60)) AS anon_1\n",
      "2019-09-21 16:17:17,190 INFO sqlalchemy.engine.base.Engine ()\n",
      "2019-09-21 16:17:17,191 INFO sqlalchemy.engine.base.Engine SELECT CAST('test unicode returns' AS VARCHAR(60)) AS anon_1\n",
      "2019-09-21 16:17:17,192 INFO sqlalchemy.engine.base.Engine ()\n",
      "2019-09-21 16:17:17,193 INFO sqlalchemy.engine.base.Engine PRAGMA table_info(\"airports\")\n",
      "2019-09-21 16:17:17,193 INFO sqlalchemy.engine.base.Engine ()\n",
      "2019-09-21 16:17:17,196 INFO sqlalchemy.engine.base.Engine \n",
      "CREATE TABLE airports (\n",
      "\t\"index\" BIGINT, \n",
      "\t\"GMT\" TEXT, \n",
      "\t\"airportId\" TEXT, \n",
      "\t\"codeIataAirport\" TEXT, \n",
      "\t\"codeIataCity\" TEXT, \n",
      "\t\"codeIcaoAirport\" TEXT, \n",
      "\t\"codeIso2Country\" TEXT, \n",
      "\t\"geonameId\" TEXT, \n",
      "\t\"latitudeAirport\" TEXT, \n",
      "\t\"longitudeAirport\" TEXT, \n",
      "\t\"nameAirport\" TEXT, \n",
      "\t\"nameCountry\" TEXT, \n",
      "\tphone TEXT, \n",
      "\ttimezone TEXT\n",
      ")\n",
      "\n",
      "\n",
      "2019-09-21 16:17:17,197 INFO sqlalchemy.engine.base.Engine ()\n",
      "2019-09-21 16:17:17,199 INFO sqlalchemy.engine.base.Engine COMMIT\n",
      "2019-09-21 16:17:17,199 INFO sqlalchemy.engine.base.Engine CREATE INDEX ix_airports_index ON airports (\"index\")\n",
      "2019-09-21 16:17:17,200 INFO sqlalchemy.engine.base.Engine ()\n",
      "2019-09-21 16:17:17,201 INFO sqlalchemy.engine.base.Engine COMMIT\n",
      "2019-09-21 16:17:17,224 INFO sqlalchemy.engine.base.Engine BEGIN (implicit)\n",
      "2019-09-21 16:17:17,322 INFO sqlalchemy.engine.base.Engine INSERT INTO airports (\"index\", \"GMT\", \"airportId\", \"codeIataAirport\", \"codeIataCity\", \"codeIcaoAirport\", \"codeIso2Country\", \"geonameId\", \"latitudeAirport\", \"longitudeAirport\", \"nameAirport\", \"nameCountry\", phone, timezone) VALUES (?, ?, ?, ?, ?, ?, ?, ?, ?, ?, ?, ?, ?, ?)\n",
      "2019-09-21 16:17:17,322 INFO sqlalchemy.engine.base.Engine ((0, '-10', '1', 'AAA', 'AAA', 'NTGA', 'PF', '6947726', '-17.05', '-145.41667', 'Anaa', 'French Polynesia', '', 'Pacific/Tahiti'), (1, '10', '2', 'AAB', 'AAB', 'YARY', 'AU', '7730796', '-26.7', '141.04167', 'Arrabury', 'Australia', '', 'Australia/Brisbane'), (2, '2', '3', 'AAC', 'AAC', 'HEAR', 'EG', '6297289', '31.133333', '33.75', 'El Arish International Airport', 'Egypt', '', 'Africa/Cairo'), (3, '1', '4', 'AAE', 'AAE', 'DABB', 'DZ', '2570559', '36.821392', '7.811857', 'Les Salines', '', '', 'Africa/Algiers'), (4, '-5', '5', 'AAF', 'AAF', 'KAAF', 'US', '4146153', '29.733334', '-84.98333', 'Apalachicola Regional', 'United States', '', 'America/New_York'), (5, '-3', '6', 'AAG', 'AAG', 'SSYA', 'BR', '3471795', '-24.103611', '-49.79', 'Arapoti', 'Brazil', '', 'America/Sao_Paulo'), (6, '1', '7', 'AAH', 'AAH', 'EDKA', 'DE', '3247449', '50.75', '6.133333', 'Aachen/Merzbruck', 'Germany', '', 'Europe/Berlin'), (7, '-3', '8', 'AAI', 'AAI', 'SWRA', 'BR', '7668483', '-12.916667', '-46.933334', 'Arraias', 'Brazil', '', 'America/Araguaina')  ... displaying 10 of 10051 total bound parameter sets ...  (10049, '2', '10050', 'ZZU', 'ZZU', 'FWUU', 'MW', '6297127', '-11.442778', '34.01278', 'Mzuzu', 'Malawi', '', 'Africa/Blantyre'), (10050, '-5', '10051', 'ZZV', 'ZZV', 'KZZV', 'US', '4528929', '39.933334', '-82.01667', 'Zanesville', 'United States', '', 'America/New_York'))\n",
      "2019-09-21 16:17:17,360 INFO sqlalchemy.engine.base.Engine COMMIT\n"
     ]
    }
   ],
   "source": [
    "df_airport.to_sql('airports', con=engine)"
   ]
  },
  {
   "cell_type": "code",
   "execution_count": 119,
   "metadata": {},
   "outputs": [],
   "source": [
    "%%bash\n",
    "open ."
   ]
  },
  {
   "cell_type": "code",
   "execution_count": null,
   "metadata": {},
   "outputs": [],
   "source": [
    "engine.execute('SELECT * FROM airports').fetchall()"
   ]
  },
  {
   "cell_type": "code",
   "execution_count": 120,
   "metadata": {},
   "outputs": [
    {
     "name": "stdout",
     "output_type": "stream",
     "text": [
      "2019-09-21 23:30:34,822 INFO sqlalchemy.engine.base.Engine SELECT * FROM airports\n",
      "2019-09-21 23:30:34,822 INFO sqlalchemy.engine.base.Engine ()\n"
     ]
    }
   ],
   "source": [
    "df = pd.read_sql_query('SELECT * FROM airports', engine)"
   ]
  },
  {
   "cell_type": "code",
   "execution_count": null,
   "metadata": {},
   "outputs": [],
   "source": [
    "df"
   ]
  },
  {
   "cell_type": "code",
   "execution_count": 218,
   "metadata": {},
   "outputs": [],
   "source": [
    "base_url = \"http://aviation-edge.com/v2/public/routes\"\n",
    "params = {\"key\": api_key}\n",
    "\n",
    "resp_route = requests.get(base_url, params=params).json()"
   ]
  },
  {
   "cell_type": "code",
   "execution_count": 219,
   "metadata": {},
   "outputs": [
    {
     "data": {
      "text/plain": [
       "300"
      ]
     },
     "execution_count": 219,
     "metadata": {},
     "output_type": "execute_result"
    }
   ],
   "source": [
    "len(resp_route)"
   ]
  },
  {
   "cell_type": "code",
   "execution_count": null,
   "metadata": {},
   "outputs": [],
   "source": [
    "den_route = [route for route in resp_route if route.get('departureIata') == \"OTP\" ]\n",
    "den_route"
   ]
  },
  {
   "cell_type": "code",
   "execution_count": 947,
   "metadata": {},
   "outputs": [],
   "source": [
    "base_url = \"https://aviation-edge.com/v2/public/countryDatabase\"\n",
    "params = {\"key\": api_key}\n",
    "resp_country = requests.get(base_url, params=params).json()"
   ]
  },
  {
   "cell_type": "code",
   "execution_count": 956,
   "metadata": {},
   "outputs": [],
   "source": [
    "import re"
   ]
  },
  {
   "cell_type": "code",
   "execution_count": 988,
   "metadata": {},
   "outputs": [],
   "source": [
    "df_city_state_pair = pd.read_html(\"https://en.wikipedia.org/wiki/List_of_United_States_cities_by_population\")[4]\n",
    "df_city_state_pair['City'] = df_city_state_pair['City'].map(lambda x: re.sub(r'\\[.+]', '', x)).map(lambda x: x.lower()).map(lambda x: x.replace('.', ''))"
   ]
  },
  {
   "cell_type": "code",
   "execution_count": 989,
   "metadata": {},
   "outputs": [],
   "source": [
    "df = df_city_state_pair[['City','State[c]']].rename(columns={'State[c]' : 'State'})"
   ]
  },
  {
   "cell_type": "code",
   "execution_count": 990,
   "metadata": {},
   "outputs": [],
   "source": [
    "city_state_dict = df.set_index('City').to_dict()"
   ]
  },
  {
   "cell_type": "code",
   "execution_count": 991,
   "metadata": {},
   "outputs": [],
   "source": [
    "city_state_dict['State'].update({'Windsor Locks' : 'Conneticut', 'Covington' : 'Kentucky', 'Maui' : 'Hawaii', 'Fort Myers' : 'Florida'})"
   ]
  },
  {
   "cell_type": "code",
   "execution_count": 992,
   "metadata": {},
   "outputs": [
    {
     "data": {
      "text/plain": [
       "'Kentucky'"
      ]
     },
     "execution_count": 992,
     "metadata": {},
     "output_type": "execute_result"
    }
   ],
   "source": [
    "city_state_dict['State'].get('Covington')"
   ]
  },
  {
   "cell_type": "code",
   "execution_count": null,
   "metadata": {},
   "outputs": [],
   "source": [
    "city_state_dict"
   ]
  },
  {
   "cell_type": "code",
   "execution_count": 949,
   "metadata": {},
   "outputs": [
    {
     "data": {
      "text/plain": [
       "[{'countryId': '234',\n",
       "  'nameCountry': 'United States Minor Outlying Islands',\n",
       "  'codeIso2Country': 'UM',\n",
       "  'codeIso3Country': 'UMI',\n",
       "  'numericIso': '581',\n",
       "  'population': '0',\n",
       "  'capital': '',\n",
       "  'continent': 'OC',\n",
       "  'nameCurrency': 'Dollar',\n",
       "  'codeCurrency': 'USD',\n",
       "  'codeFips': '',\n",
       "  'phonePrefix': '1'},\n",
       " {'countryId': '235',\n",
       "  'nameCountry': 'United States',\n",
       "  'codeIso2Country': 'US',\n",
       "  'codeIso3Country': 'USA',\n",
       "  'numericIso': '840',\n",
       "  'population': '310232863',\n",
       "  'capital': 'Washington',\n",
       "  'continent': 'NA',\n",
       "  'nameCurrency': 'Dollar',\n",
       "  'codeCurrency': 'USD',\n",
       "  'codeFips': 'US',\n",
       "  'phonePrefix': '1'}]"
      ]
     },
     "execution_count": 949,
     "metadata": {},
     "output_type": "execute_result"
    }
   ],
   "source": [
    "[country for country in resp_country if \"States\" in country.get('nameCountry')]"
   ]
  },
  {
   "cell_type": "code",
   "execution_count": 1030,
   "metadata": {},
   "outputs": [],
   "source": [
    "reference_dict = mydb['references'].find({}, { \"_id\" : 0 })"
   ]
  },
  {
   "cell_type": "code",
   "execution_count": 1031,
   "metadata": {},
   "outputs": [],
   "source": [
    "for d in reference_dict:\n",
    "    a = d"
   ]
  },
  {
   "cell_type": "code",
   "execution_count": 1034,
   "metadata": {},
   "outputs": [
    {
     "data": {
      "text/plain": [
       "'Albuquerque International Airport'"
      ]
     },
     "execution_count": 1034,
     "metadata": {},
     "output_type": "execute_result"
    }
   ],
   "source": [
    "a['airport_names']['ABQ']"
   ]
  },
  {
   "cell_type": "code",
   "execution_count": 1022,
   "metadata": {},
   "outputs": [],
   "source": [
    "airport_data = mydb['airport'].find( {\"nameCountry\": \"United States\"}, {\"_id\": 0, \"airportId\": 0, \"codeIcaoAirport\": 0, \"geonameId\": 0, \"GMT\": 0, \"phone\": 0, \"codeIso2Country\": 0, \"nameCountry\": 0})\n"
   ]
  },
  {
   "cell_type": "code",
   "execution_count": 1023,
   "metadata": {},
   "outputs": [
    {
     "ename": "ValueError",
     "evalue": "dictionary update sequence element #0 has length 6; 2 is required",
     "output_type": "error",
     "traceback": [
      "\u001b[0;31m---------------------------------------------------------------------------\u001b[0m",
      "\u001b[0;31mValueError\u001b[0m                                Traceback (most recent call last)",
      "\u001b[0;32m<ipython-input-1023-f937735f5888>\u001b[0m in \u001b[0;36m<module>\u001b[0;34m\u001b[0m\n\u001b[0;32m----> 1\u001b[0;31m \u001b[0mdict\u001b[0m\u001b[0;34m(\u001b[0m\u001b[0mairport_data\u001b[0m\u001b[0;34m)\u001b[0m\u001b[0;34m\u001b[0m\u001b[0;34m\u001b[0m\u001b[0m\n\u001b[0m",
      "\u001b[0;31mValueError\u001b[0m: dictionary update sequence element #0 has length 6; 2 is required"
     ]
    }
   ],
   "source": [
    "dict(airport_data)"
   ]
  },
  {
   "cell_type": "code",
   "execution_count": 1020,
   "metadata": {},
   "outputs": [
    {
     "data": {
      "text/plain": [
       "2335"
      ]
     },
     "execution_count": 1020,
     "metadata": {},
     "output_type": "execute_result"
    }
   ],
   "source": [
    "len(list(airport_data))"
   ]
  },
  {
   "cell_type": "code",
   "execution_count": 1018,
   "metadata": {},
   "outputs": [
    {
     "name": "stdout",
     "output_type": "stream",
     "text": [
      "{'nameAirport': 'Apalachicola Regional', 'codeIataAirport': 'AAF', 'latitudeAirport': '29.733334', 'longitudeAirport': '-84.98333', 'timezone': 'America/New_York', 'codeIataCity': 'AAF'}\n"
     ]
    }
   ],
   "source": [
    "for airport in airport_data:\n",
    "    print(airport)\n",
    "    break"
   ]
  },
  {
   "cell_type": "code",
   "execution_count": 1000,
   "metadata": {},
   "outputs": [],
   "source": [
    "base_url = \"http://aviation-edge.com/v2/public/cityDatabase\"\n",
    "params = {\"key\": api_key}\n",
    "\n",
    "resp_cities = requests.get(base_url, params=params).json()"
   ]
  },
  {
   "cell_type": "code",
   "execution_count": 1004,
   "metadata": {},
   "outputs": [
    {
     "data": {
      "text/plain": [
       "9368"
      ]
     },
     "execution_count": 1004,
     "metadata": {},
     "output_type": "execute_result"
    }
   ],
   "source": [
    "pd.Series([city['cityId'] for city in resp_cities]).nunique()"
   ]
  },
  {
   "cell_type": "code",
   "execution_count": 1005,
   "metadata": {},
   "outputs": [
    {
     "data": {
      "text/plain": [
       "9368"
      ]
     },
     "execution_count": 1005,
     "metadata": {},
     "output_type": "execute_result"
    }
   ],
   "source": [
    "len(resp_cities)"
   ]
  },
  {
   "cell_type": "code",
   "execution_count": 433,
   "metadata": {},
   "outputs": [],
   "source": [
    "summary = requests.get(\"http://127.0.0.1:5000/get-storeddata/DEN\").json()"
   ]
  },
  {
   "cell_type": "code",
   "execution_count": null,
   "metadata": {},
   "outputs": [],
   "source": [
    "summary[0]"
   ]
  },
  {
   "cell_type": "code",
   "execution_count": 446,
   "metadata": {},
   "outputs": [],
   "source": [
    "inbounds = []\n",
    "outbounds = []\n",
    "inbound_airlines = []\n",
    "outbound_airlines = []\n",
    "inbound_delays = []\n",
    "outbound_delays = []\n",
    "airport = \"DEN\"\n",
    "\n",
    "for route in summary:\n",
    "    inbound = route.get('arrival').get('iataCode')\n",
    "    outbound = route.get('departure').get('iataCode')\n",
    "\n",
    "    if (airport == inbound):\n",
    "        origin_for_inbound = outbound\n",
    "        inbound_airline = route.get('airline').get('name')\n",
    "\n",
    "        inbounds.append(origin_for_inbound)\n",
    "        inbound_airlines.append(inbound_airline)\n",
    "        delay = route.get('arrival').get('delay')\n",
    "        \n",
    "        if delay:\n",
    "            delay = int(delay)\n",
    "            if (delay > 60):\n",
    "                delay = \"delay > 60\"\n",
    "            elif (30 <= delay <= 60):\n",
    "                delay = \"30 ≥ delay ≥ 60\"\n",
    "            elif (delay < 30):\n",
    "                delay = \"delay ≤ 30\"\n",
    "            else:  # delay is null\n",
    "                pass\n",
    "            inbound_delays.append(delay)\n",
    "        else:\n",
    "            inbound_delays.append(delay)\n",
    "\n",
    "    else: # airport != inbound (== outbound)\n",
    "        destination_for_outbound = inbound\n",
    "        outbound_airline = route.get('airline').get('name')\n",
    "\n",
    "        outbounds.append(destination_for_outbound)\n",
    "        outbound_airlines.append(outbound_airline)\n",
    "        delay = route.get('arrival').get('delay')\n",
    "        \n",
    "        if delay:\n",
    "            delay = int(delay)\n",
    "            if (delay > 60):\n",
    "                delay = \"delay > 60\"\n",
    "            elif (30 <= delay <= 60):\n",
    "                delay = \"30 ≥ delay ≥ 60\"\n",
    "            elif (delay < 30):\n",
    "                delay = \"delay ≤ 30\"\n",
    "            else:  # delay is null\n",
    "                pass\n",
    "            outbound_delays.append(delay)\n",
    "        else:\n",
    "            outbound_delays.append(delay)"
   ]
  },
  {
   "cell_type": "code",
   "execution_count": 533,
   "metadata": {},
   "outputs": [
    {
     "name": "stdout",
     "output_type": "stream",
     "text": [
      "3372 4378 3372 4378 3372 4378 3372 4378\n"
     ]
    }
   ],
   "source": [
    "print(len(inbound_parent), len(outbound_parent), len(inbounds), len(outbounds), len(inbound_airlines), len(outbound_airlines), len(inbound_delays), len(outbound_delays))\n",
    "#  = []\n",
    "# inbound_airlines = []\n",
    "# outbound_airlines = []\n",
    "# inbound_delays = []\n",
    "# outbound_delays = []"
   ]
  },
  {
   "cell_type": "code",
   "execution_count": null,
   "metadata": {},
   "outputs": [],
   "source": [
    "# { \"name\": \"DEN\",\n",
    "# \"children\": [\n",
    "#               { \"name\": \"inbound\", \"children\": [ \n",
    "#                                                   { \"name\": \"STL\", \"children\": [\n",
    "#                                                                                  {\"name\" : \"Frontier\", \"children\" : [\n",
    "#                                                                                                                        { \"None\" : 1 }... ] }, ...] }, ...] }\n",
    "# }"
   ]
  },
  {
   "cell_type": "code",
   "execution_count": null,
   "metadata": {},
   "outputs": [],
   "source": [
    "parent_dict = {\"name\":\"DEN\", \"children\":[]}\n",
    "inbound_dict = {}\n",
    "airline_dict = {}\n",
    "delay = {}\n",
    "\n",
    "for inbound in inbound_parent:   # \"inbound\"\n",
    "    inbound_dict[\"name\"] = inbound\n",
    "    inbound_dict[\"children\"] = []\n",
    "    \n",
    "    if duplicate_checker(inbound_dict, \"name\", inbound) == False:\n",
    "       \n",
    "        \n",
    "    airport_dict = {\"children\" : []}     # \"SJU\"\n",
    "    for airport in inbounds:\n",
    "        if duplicate_checker(airport_dict, category, airport)\n",
    "        airport_dict['name'] = airport\n",
    "        \n",
    "        for airline in inbound_airlines:\n",
    "            for delay in inbound_delays:\n",
    "                \n",
    "                "
   ]
  },
  {
   "cell_type": "code",
   "execution_count": null,
   "metadata": {},
   "outputs": [],
   "source": [
    "def duplicate_checker(obj, category, string):\n",
    "    if category == \"children\":\n",
    "        subcategory = \"name\"\n",
    "        for child in obj[category]:\n",
    "            if child[subcategory] == string:\n",
    "                return true  # duplicate found\n",
    "            else:\n",
    "                return false   \n",
    "    else:\n",
    "        subcategory = \"\"\n",
    "        for child in obj[category]\n",
    "\n",
    "        "
   ]
  },
  {
   "cell_type": "code",
   "execution_count": 531,
   "metadata": {},
   "outputs": [],
   "source": [
    "outbound_parent = [\"outbound\" for _ in range(4378)]    "
   ]
  },
  {
   "cell_type": "code",
   "execution_count": 532,
   "metadata": {},
   "outputs": [
    {
     "data": {
      "text/plain": [
       "4378"
      ]
     },
     "execution_count": 532,
     "metadata": {},
     "output_type": "execute_result"
    }
   ],
   "source": [
    "len(outbound_parent)"
   ]
  },
  {
   "cell_type": "code",
   "execution_count": 665,
   "metadata": {},
   "outputs": [],
   "source": [
    "master = []\n",
    "for a, b, c, d in zip(inbound_parent, inbounds, inbound_airlines, inbound_delays):\n",
    "    master.append({\"parent\" : a,\n",
    "     \"airport\" : b,\n",
    "     \"airline\" : c,\n",
    "     \"delay\" : d})"
   ]
  },
  {
   "cell_type": "code",
   "execution_count": 802,
   "metadata": {},
   "outputs": [],
   "source": [
    "df = pd.DataFrame.from_records(master)"
   ]
  },
  {
   "cell_type": "code",
   "execution_count": 803,
   "metadata": {},
   "outputs": [],
   "source": [
    "df['delay'] = df['delay'].map(lambda x: x if x is not None else \"N/A\")"
   ]
  },
  {
   "cell_type": "code",
   "execution_count": 804,
   "metadata": {},
   "outputs": [],
   "source": [
    "df_mod = df.groupby(['parent', 'airport', 'airline', 'delay']).agg({'delay': 'count'}).sort_values(by=['airport', 'airline'])"
   ]
  },
  {
   "cell_type": "code",
   "execution_count": 805,
   "metadata": {},
   "outputs": [],
   "source": [
    "df_mod = df_mod.rename(columns={\"delay\" : \"count\"}).reset_index()"
   ]
  },
  {
   "cell_type": "code",
   "execution_count": 806,
   "metadata": {},
   "outputs": [
    {
     "data": {
      "text/html": [
       "<div>\n",
       "<style scoped>\n",
       "    .dataframe tbody tr th:only-of-type {\n",
       "        vertical-align: middle;\n",
       "    }\n",
       "\n",
       "    .dataframe tbody tr th {\n",
       "        vertical-align: top;\n",
       "    }\n",
       "\n",
       "    .dataframe thead th {\n",
       "        text-align: right;\n",
       "    }\n",
       "</style>\n",
       "<table border=\"1\" class=\"dataframe\">\n",
       "  <thead>\n",
       "    <tr style=\"text-align: right;\">\n",
       "      <th></th>\n",
       "      <th>parent</th>\n",
       "      <th>airport</th>\n",
       "      <th>airline</th>\n",
       "      <th>delay</th>\n",
       "      <th>count</th>\n",
       "    </tr>\n",
       "  </thead>\n",
       "  <tbody>\n",
       "    <tr>\n",
       "      <th>0</th>\n",
       "      <td>inbound</td>\n",
       "      <td>ABQ</td>\n",
       "      <td>Flexjet</td>\n",
       "      <td>N/A</td>\n",
       "      <td>2</td>\n",
       "    </tr>\n",
       "    <tr>\n",
       "      <th>1</th>\n",
       "      <td>inbound</td>\n",
       "      <td>ABQ</td>\n",
       "      <td>Frontier Airlines</td>\n",
       "      <td>N/A</td>\n",
       "      <td>3</td>\n",
       "    </tr>\n",
       "    <tr>\n",
       "      <th>2</th>\n",
       "      <td>inbound</td>\n",
       "      <td>ABQ</td>\n",
       "      <td>Southwest Airlines</td>\n",
       "      <td>30 ≥ delay ≥ 60</td>\n",
       "      <td>1</td>\n",
       "    </tr>\n",
       "    <tr>\n",
       "      <th>3</th>\n",
       "      <td>inbound</td>\n",
       "      <td>ABQ</td>\n",
       "      <td>Southwest Airlines</td>\n",
       "      <td>N/A</td>\n",
       "      <td>14</td>\n",
       "    </tr>\n",
       "    <tr>\n",
       "      <th>4</th>\n",
       "      <td>inbound</td>\n",
       "      <td>ABQ</td>\n",
       "      <td>United Airlines</td>\n",
       "      <td>N/A</td>\n",
       "      <td>24</td>\n",
       "    </tr>\n",
       "  </tbody>\n",
       "</table>\n",
       "</div>"
      ],
      "text/plain": [
       "    parent airport             airline            delay  count\n",
       "0  inbound     ABQ             Flexjet              N/A      2\n",
       "1  inbound     ABQ   Frontier Airlines              N/A      3\n",
       "2  inbound     ABQ  Southwest Airlines  30 ≥ delay ≥ 60      1\n",
       "3  inbound     ABQ  Southwest Airlines              N/A     14\n",
       "4  inbound     ABQ     United Airlines              N/A     24"
      ]
     },
     "execution_count": 806,
     "metadata": {},
     "output_type": "execute_result"
    }
   ],
   "source": [
    "df_mod.head()"
   ]
  },
  {
   "cell_type": "code",
   "execution_count": null,
   "metadata": {},
   "outputs": [],
   "source": [
    "# { \"name\": \"DEN\",\n",
    "# \"children\": [\n",
    "#               { \"name\": \"inbound\", \"children\": [ \n",
    "#                                                   { \"name\": \"STL\", \"children\": [\n",
    "#                                                                                  {\"name\" : \"Frontier\", \"children\" : [\n",
    "#                                                                                                                        { \"None\" : 1 }... ] }, ...] }, ...] }\n",
    "# }"
   ]
  },
  {
   "cell_type": "code",
   "execution_count": 678,
   "metadata": {},
   "outputs": [],
   "source": [
    "master_dict = {}\n",
    "\n",
    "for row in df_mod.itertuples():\n",
    "    master_dict[(row[1], row[2], row[3], row[4])] = master_dict.get((row[1], row[2], row[3], row[4]),0) + row[5]\n",
    "    "
   ]
  },
  {
   "cell_type": "code",
   "execution_count": 679,
   "metadata": {},
   "outputs": [
    {
     "data": {
      "text/html": [
       "<div>\n",
       "<style scoped>\n",
       "    .dataframe tbody tr th:only-of-type {\n",
       "        vertical-align: middle;\n",
       "    }\n",
       "\n",
       "    .dataframe tbody tr th {\n",
       "        vertical-align: top;\n",
       "    }\n",
       "\n",
       "    .dataframe thead th {\n",
       "        text-align: right;\n",
       "    }\n",
       "</style>\n",
       "<table border=\"1\" class=\"dataframe\">\n",
       "  <thead>\n",
       "    <tr style=\"text-align: right;\">\n",
       "      <th></th>\n",
       "      <th>parent</th>\n",
       "      <th>airport</th>\n",
       "      <th>airline</th>\n",
       "      <th>delay</th>\n",
       "      <th>count</th>\n",
       "    </tr>\n",
       "  </thead>\n",
       "  <tbody>\n",
       "    <tr>\n",
       "      <th>0</th>\n",
       "      <td>inbound</td>\n",
       "      <td>ABQ</td>\n",
       "      <td>Flexjet</td>\n",
       "      <td>N/A</td>\n",
       "      <td>2</td>\n",
       "    </tr>\n",
       "    <tr>\n",
       "      <th>1</th>\n",
       "      <td>inbound</td>\n",
       "      <td>ABQ</td>\n",
       "      <td>Frontier Airlines</td>\n",
       "      <td>N/A</td>\n",
       "      <td>3</td>\n",
       "    </tr>\n",
       "    <tr>\n",
       "      <th>2</th>\n",
       "      <td>inbound</td>\n",
       "      <td>ABQ</td>\n",
       "      <td>Southwest Airlines</td>\n",
       "      <td>30 ≥ delay ≥ 60</td>\n",
       "      <td>1</td>\n",
       "    </tr>\n",
       "    <tr>\n",
       "      <th>3</th>\n",
       "      <td>inbound</td>\n",
       "      <td>ABQ</td>\n",
       "      <td>Southwest Airlines</td>\n",
       "      <td>N/A</td>\n",
       "      <td>14</td>\n",
       "    </tr>\n",
       "    <tr>\n",
       "      <th>4</th>\n",
       "      <td>inbound</td>\n",
       "      <td>ABQ</td>\n",
       "      <td>United Airlines</td>\n",
       "      <td>N/A</td>\n",
       "      <td>24</td>\n",
       "    </tr>\n",
       "    <tr>\n",
       "      <th>5</th>\n",
       "      <td>inbound</td>\n",
       "      <td>ABQ</td>\n",
       "      <td>United Airlines</td>\n",
       "      <td>delay &gt; 60</td>\n",
       "      <td>1</td>\n",
       "    </tr>\n",
       "    <tr>\n",
       "      <th>6</th>\n",
       "      <td>inbound</td>\n",
       "      <td>ABQ</td>\n",
       "      <td>United Airlines</td>\n",
       "      <td>delay ≤ 30</td>\n",
       "      <td>3</td>\n",
       "    </tr>\n",
       "    <tr>\n",
       "      <th>7</th>\n",
       "      <td>inbound</td>\n",
       "      <td>ANC</td>\n",
       "      <td>United Airlines</td>\n",
       "      <td>N/A</td>\n",
       "      <td>8</td>\n",
       "    </tr>\n",
       "    <tr>\n",
       "      <th>8</th>\n",
       "      <td>inbound</td>\n",
       "      <td>ANC</td>\n",
       "      <td>United Airlines</td>\n",
       "      <td>delay ≤ 30</td>\n",
       "      <td>2</td>\n",
       "    </tr>\n",
       "    <tr>\n",
       "      <th>9</th>\n",
       "      <td>inbound</td>\n",
       "      <td>ATL</td>\n",
       "      <td>Delta Air Lines</td>\n",
       "      <td>N/A</td>\n",
       "      <td>47</td>\n",
       "    </tr>\n",
       "  </tbody>\n",
       "</table>\n",
       "</div>"
      ],
      "text/plain": [
       "    parent airport             airline            delay  count\n",
       "0  inbound     ABQ             Flexjet              N/A      2\n",
       "1  inbound     ABQ   Frontier Airlines              N/A      3\n",
       "2  inbound     ABQ  Southwest Airlines  30 ≥ delay ≥ 60      1\n",
       "3  inbound     ABQ  Southwest Airlines              N/A     14\n",
       "4  inbound     ABQ     United Airlines              N/A     24\n",
       "5  inbound     ABQ     United Airlines       delay > 60      1\n",
       "6  inbound     ABQ     United Airlines       delay ≤ 30      3\n",
       "7  inbound     ANC     United Airlines              N/A      8\n",
       "8  inbound     ANC     United Airlines       delay ≤ 30      2\n",
       "9  inbound     ATL     Delta Air Lines              N/A     47"
      ]
     },
     "execution_count": 679,
     "metadata": {},
     "output_type": "execute_result"
    }
   ],
   "source": [
    "df_mod.head(10)"
   ]
  },
  {
   "cell_type": "code",
   "execution_count": 809,
   "metadata": {},
   "outputs": [],
   "source": [
    "a = (1, 2, 3)"
   ]
  },
  {
   "cell_type": "code",
   "execution_count": 811,
   "metadata": {},
   "outputs": [
    {
     "data": {
      "text/plain": [
       "1"
      ]
     },
     "execution_count": 811,
     "metadata": {},
     "output_type": "execute_result"
    }
   ],
   "source": [
    "a.index(2)"
   ]
  },
  {
   "cell_type": "code",
   "execution_count": 812,
   "metadata": {},
   "outputs": [],
   "source": [
    "k = ('a', 'b', 'c', 'd')"
   ]
  },
  {
   "cell_type": "code",
   "execution_count": 813,
   "metadata": {},
   "outputs": [],
   "source": [
    "key = tuple(x for x in k if k.index(x) < (len(k) - 1))"
   ]
  },
  {
   "cell_type": "code",
   "execution_count": 687,
   "metadata": {},
   "outputs": [],
   "source": [
    "from collections import defaultdict"
   ]
  },
  {
   "cell_type": "code",
   "execution_count": 808,
   "metadata": {},
   "outputs": [
    {
     "name": "stdout",
     "output_type": "stream",
     "text": [
      "4 2\n"
     ]
    }
   ],
   "source": [
    "for key, value in master_dict.items():\n",
    "    print(len(key), value)\n",
    "    break"
   ]
  },
  {
   "cell_type": "code",
   "execution_count": 941,
   "metadata": {},
   "outputs": [],
   "source": [
    "def recursive(input_dict):\n",
    "    \n",
    "    temp_dict = defaultdict(list)\n",
    "    for key, value in input_dict.items():\n",
    "        last_index = len(key) - 1\n",
    "        \n",
    "        if last_index > 0:\n",
    "            k = tuple(x for x in key if key.index(x) < last_index)\n",
    "            temp_dict[k].append({ key[last_index] : value })\n",
    "        else:\n",
    "            return input_dict\n",
    "#     print(key, temp_dict)\n",
    "    return recursive(temp_dict)"
   ]
  },
  {
   "cell_type": "code",
   "execution_count": 943,
   "metadata": {},
   "outputs": [],
   "source": [
    "a = recursive(master_dict)"
   ]
  },
  {
   "cell_type": "code",
   "execution_count": 828,
   "metadata": {},
   "outputs": [],
   "source": [
    "temp1_dict = defaultdict(list)"
   ]
  },
  {
   "cell_type": "code",
   "execution_count": 829,
   "metadata": {},
   "outputs": [],
   "source": [
    "for key, value in master_dict.items():\n",
    "    temp1_dict[(key[0], key[1], key[2])].append({ key[3] : value })\n",
    "#     temp2_dict[key[2]].append(temp3_dict)\n",
    "#     temp3_dict[key[3]] = temp3_dict.get(key[3], 0) + value"
   ]
  },
  {
   "cell_type": "code",
   "execution_count": 819,
   "metadata": {},
   "outputs": [],
   "source": [
    "temp2_dict = defaultdict(list)"
   ]
  },
  {
   "cell_type": "code",
   "execution_count": 820,
   "metadata": {},
   "outputs": [],
   "source": [
    "for key, value in temp1_dict.items():\n",
    "    temp2_dict[(key[0], key[1])].append({ key[2] : value })"
   ]
  },
  {
   "cell_type": "code",
   "execution_count": 821,
   "metadata": {},
   "outputs": [],
   "source": [
    "temp3_dict = defaultdict(list)"
   ]
  },
  {
   "cell_type": "code",
   "execution_count": 822,
   "metadata": {},
   "outputs": [],
   "source": [
    "for key, value in temp2_dict.items():\n",
    "    temp3_dict[key[0]].append({ key[1] : value })"
   ]
  },
  {
   "cell_type": "code",
   "execution_count": null,
   "metadata": {},
   "outputs": [],
   "source": [
    "temp3_dict"
   ]
  },
  {
   "cell_type": "code",
   "execution_count": null,
   "metadata": {},
   "outputs": [],
   "source": [
    "# { \"name\": \"DEN\",\n",
    "# \"children\": [\n",
    "#               { \"name\": \"inbound\", \"children\": [ \n",
    "#                                                   { \"name\": \"STL\", \"children\": [\n",
    "#                                                                                  {\"name\" : \"Frontier\", \"children\" : [\n",
    "#                                                                                                                        { \"None\" : 1 }... ] }, ...] }, ...] }\n",
    "# }"
   ]
  },
  {
   "cell_type": "code",
   "execution_count": 714,
   "metadata": {},
   "outputs": [],
   "source": [
    "key = [key for key in temp3_dict.keys()][0]\n",
    "results_dict = {\"name\" : airport, \"children\" : [ { \"name\" : key, \"children\" : temp3_dict.values() } ]}"
   ]
  },
  {
   "cell_type": "code",
   "execution_count": 944,
   "metadata": {},
   "outputs": [
    {
     "name": "stdout",
     "output_type": "stream",
     "text": [
      "0 {'ABQ': [{'Flexjet': [{'N/A': 2}]}, {'Frontier Airlines': [{'N/A': 3}]}, {'Southwest Airlines': [{'30 ≥ delay ≥ 60': 1}, {'N/A': 14}]}, {'United Airlines': [{'N/A': 24}, {'delay > 60': 1}, {'delay ≤ 30': 3}]}]}\n"
     ]
    }
   ],
   "source": [
    "for index, item in enumerate(*a.values()):\n",
    "    print(index, item)\n",
    "    break"
   ]
  },
  {
   "cell_type": "code",
   "execution_count": 770,
   "metadata": {},
   "outputs": [],
   "source": [
    "temp4_list = [] #{\"name\" : 'a', \"children\" : []}"
   ]
  },
  {
   "cell_type": "code",
   "execution_count": 771,
   "metadata": {},
   "outputs": [],
   "source": [
    "for index, item in enumerate(*temp3_dict.values()):\n",
    "    children = []\n",
    "    for key, value in item.items():\n",
    "        children.append(value)\n",
    "        temp4_list.append({ \"name\" : key, \"children\" : value })"
   ]
  },
  {
   "cell_type": "code",
   "execution_count": 772,
   "metadata": {},
   "outputs": [
    {
     "data": {
      "text/plain": [
       "[{'name': 'ABQ',\n",
       "  'children': [{'Flexjet': [{'N/A': 2}]},\n",
       "   {'Frontier Airlines': [{'N/A': 3}]},\n",
       "   {'Southwest Airlines': [{'30 ≥ delay ≥ 60': 1}, {'N/A': 14}]},\n",
       "   {'United Airlines': [{'N/A': 24}, {'delay > 60': 1}, {'delay ≤ 30': 3}]}]},\n",
       " {'name': 'ANC',\n",
       "  'children': [{'United Airlines': [{'N/A': 8}, {'delay ≤ 30': 2}]}]},\n",
       " {'name': 'ATL',\n",
       "  'children': [{'Delta Air Lines': [{'N/A': 47}, {'delay ≤ 30': 2}]},\n",
       "   {'Frontier Airlines': [{'N/A': 10}, {'delay ≤ 30': 2}]},\n",
       "   {'Southwest Airlines': [{'N/A': 24}, {'delay > 60': 2}, {'delay ≤ 30': 1}]},\n",
       "   {'United Airlines': [{'N/A': 20}, {'delay ≤ 30': 3}]}]},\n",
       " {'name': 'AUS',\n",
       "  'children': [{'Frontier Airlines': [{'N/A': 5}]},\n",
       "   {'Gryphon Airlines': [{'N/A': 1}]},\n",
       "   {'Southwest Airlines': [{'N/A': 32}, {'delay ≤ 30': 2}]},\n",
       "   {'Spirit Airlines': [{'N/A': 6}]},\n",
       "   {'United Airlines': [{'N/A': 24}]}]},\n",
       " {'name': 'BDL',\n",
       "  'children': [{'Frontier Airlines': [{'N/A': 3}]},\n",
       "   {'Southwest Airlines': [{'N/A': 4}]},\n",
       "   {'United Airlines': [{'N/A': 5}]}]}]"
      ]
     },
     "execution_count": 772,
     "metadata": {},
     "output_type": "execute_result"
    }
   ],
   "source": [
    "temp4_list[:5]"
   ]
  },
  {
   "cell_type": "code",
   "execution_count": 882,
   "metadata": {},
   "outputs": [],
   "source": [
    "temp5_list = []"
   ]
  },
  {
   "cell_type": "code",
   "execution_count": 883,
   "metadata": {},
   "outputs": [],
   "source": [
    "for item in temp4_list:  # a dictionary\n",
    "#     for key, value in item.items(): # a dictionary\n",
    "    children = []\n",
    "    for key, value in item.items():\n",
    "        if key == 'name':\n",
    "            temp = { \"name\" : value, \"children\" : [] }   # \"ABQ\"\n",
    "        else: # children\n",
    "            for airline in value: # a dictionary\n",
    "                for k1, v1 in airline.items():\n",
    "                    temp2 = { \"name\" : k1, \"children\" : [] }\n",
    "                    \n",
    "                    for delay in v1:                        \n",
    "                        for k2, v2 in delay.items():\n",
    "                            temp3 = {\"name\" : k2, \"value\" : v2}\n",
    "                            temp2['children'].append(temp3)\n",
    "                    temp['children'].append(temp2)            \n",
    "    temp5_list.append(temp)"
   ]
  },
  {
   "cell_type": "code",
   "execution_count": 884,
   "metadata": {},
   "outputs": [],
   "source": [
    "results_dict = {\"name\" : airport, \"children\" : [ { \"name\" : \"inbound\", \"children\" : temp5_list } ]}"
   ]
  },
  {
   "cell_type": "code",
   "execution_count": null,
   "metadata": {},
   "outputs": [],
   "source": [
    "results_dict"
   ]
  },
  {
   "cell_type": "code",
   "execution_count": null,
   "metadata": {},
   "outputs": [],
   "source": [
    "temp5_list"
   ]
  },
  {
   "cell_type": "code",
   "execution_count": null,
   "metadata": {},
   "outputs": [],
   "source": [
    "temp5_list"
   ]
  },
  {
   "cell_type": "code",
   "execution_count": null,
   "metadata": {},
   "outputs": [],
   "source": [
    "for index, item in enumerate(temp3_dict.values()):\n",
    "    print(index, item)"
   ]
  },
  {
   "cell_type": "code",
   "execution_count": null,
   "metadata": {},
   "outputs": [],
   "source": []
  },
  {
   "cell_type": "code",
   "execution_count": 559,
   "metadata": {},
   "outputs": [],
   "source": [
    "a = defaultdict(list)\n",
    "b = 'dfdfdf'\n",
    "a['b'].append({b : 1 })"
   ]
  },
  {
   "cell_type": "code",
   "execution_count": 560,
   "metadata": {},
   "outputs": [
    {
     "data": {
      "text/plain": [
       "defaultdict(list, {'b': [{'dfdfdf': 1}]})"
      ]
     },
     "execution_count": 560,
     "metadata": {},
     "output_type": "execute_result"
    }
   ],
   "source": [
    "a"
   ]
  },
  {
   "cell_type": "code",
   "execution_count": null,
   "metadata": {},
   "outputs": [],
   "source": [
    "df_mod.to_dict()"
   ]
  },
  {
   "cell_type": "code",
   "execution_count": 525,
   "metadata": {},
   "outputs": [
    {
     "data": {
      "text/plain": [
       "{'a': 1}"
      ]
     },
     "execution_count": 525,
     "metadata": {},
     "output_type": "execute_result"
    }
   ],
   "source": [
    "a = \"a\"\n",
    "b = \n",
    "{a : b}"
   ]
  },
  {
   "cell_type": "code",
   "execution_count": 451,
   "metadata": {},
   "outputs": [
    {
     "name": "stdout",
     "output_type": "stream",
     "text": [
      "('STL', 'Frontier Airlines', None)\n"
     ]
    }
   ],
   "source": [
    "inbound_family = zip(inbound_airlines, inbound_delays)\n",
    "children_of_inbound = []\n",
    "\n",
    "for airport in inbounds:\n",
    "    children_of_inbound = {\"name\" : airport, \"children\" : []}\n",
    "    \n",
    "    delay_dict = {}\n",
    "    airline_dict = {\"name\" : \"\", \"children\" : []}\n",
    "    for airline, delay in inbound_family:\n",
    "        delay_dict[delay] = delay_dict.get(delay, 0) + 1\n",
    "        airline_dict['name'] = airline\n",
    "        airline_dict['children'].append(delay_dict)\n",
    "        \n",
    "        \n",
    "       \n",
    "\n",
    "        "
   ]
  },
  {
   "cell_type": "code",
   "execution_count": 452,
   "metadata": {},
   "outputs": [],
   "source": [
    "# { \"name\": \"DEN\",\n",
    "# \"children\": [\n",
    "#               { \"name\": \"inbound\", \"children\": [ \n",
    "#                                                   { \"name\": \"STL\", \"children\": [\n",
    "#                                                                                  {\"name\" : \"Frontier\", \"children\" : [\n",
    "#                                                                                                                        { \"None\" : 1 }... ] }, ...] }, ...] }\n",
    "# }"
   ]
  },
  {
   "cell_type": "code",
   "execution_count": 468,
   "metadata": {},
   "outputs": [
    {
     "data": {
      "text/plain": [
       "[]"
      ]
     },
     "execution_count": 468,
     "metadata": {},
     "output_type": "execute_result"
    }
   ],
   "source": [
    "inbound_starter = {\"name\" : \"inbound\"}\n",
    "inbound_starter.setdefault(\"children\", [])"
   ]
  },
  {
   "cell_type": "code",
   "execution_count": 469,
   "metadata": {},
   "outputs": [
    {
     "data": {
      "text/plain": [
       "{'name': 'inbound', 'children': []}"
      ]
     },
     "execution_count": 469,
     "metadata": {},
     "output_type": "execute_result"
    }
   ],
   "source": [
    "inbound_starter"
   ]
  },
  {
   "cell_type": "code",
   "execution_count": 470,
   "metadata": {},
   "outputs": [],
   "source": [
    "temp = {\"None\" : 5, \">60\" : 6, \"<60\" : 2}"
   ]
  },
  {
   "cell_type": "code",
   "execution_count": null,
   "metadata": {},
   "outputs": [],
   "source": [
    "outbound_parent = [\"outbound\" for _ in range()]"
   ]
  }
 ],
 "metadata": {
  "kernelspec": {
   "display_name": "Python 3",
   "language": "python",
   "name": "python3"
  },
  "language_info": {
   "codemirror_mode": {
    "name": "ipython",
    "version": 3
   },
   "file_extension": ".py",
   "mimetype": "text/x-python",
   "name": "python",
   "nbconvert_exporter": "python",
   "pygments_lexer": "ipython3",
   "version": "3.7.3"
  }
 },
 "nbformat": 4,
 "nbformat_minor": 2
}
