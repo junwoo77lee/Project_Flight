{
 "cells": [
  {
   "cell_type": "code",
   "execution_count": 156,
   "metadata": {},
   "outputs": [],
   "source": [
    "import os\n",
    "api_key = os.environ.get('FLIGHT_API_KEY', '')\n",
    "from typing import List\n",
    "\n",
    "import requests\n",
    "import pandas as pd\n",
    "\n",
    "from pprint import pprint\n",
    "from datetime import datetime"
   ]
  },
  {
   "cell_type": "code",
   "execution_count": 157,
   "metadata": {},
   "outputs": [
    {
     "data": {
      "text/plain": [
       "'9a7cdb-87fe76'"
      ]
     },
     "execution_count": 157,
     "metadata": {},
     "output_type": "execute_result"
    }
   ],
   "source": [
    "api_key"
   ]
  },
  {
   "cell_type": "markdown",
   "metadata": {},
   "source": [
    "### PLAN:\n",
    "##### 1.\t“ SHOW ME ALL THE FLIGHT SCHEDULE THAT DEPARTS FROM DENVER FOR TODAY ON A MAP (D3.js)”\n",
    "##### 2.\t“AND COMPARE THE SCHEDULE WITH ITS ACTUAL DATA TO DISPLAY PROGRESS ON THE SAME MAP”\n",
    "\n",
    "*\tDisplay the scheduled flight time <code><strong>(/schedule route)</strong></code> and its actual data <strong><code>(/projection route)</code></strong> onto the same map\n",
    "*\tEstimated arrival time using Flight distance API calculation a distance (or time by speed) between flight’s current location and its destination\n",
    "*\tOther possibilities: time skewness (estimated flying time - actual flying time) by airlines as a performance metric\n",
    "\n",
    "### TECHNOLOGIES:\n",
    "* Local development: FLASK + MONGODB\n",
    "* Web deployment: Google Cloud?"
   ]
  },
  {
   "cell_type": "markdown",
   "metadata": {},
   "source": [
    "#### 1. Design for FLIGHT TRACKER API\n",
    "Required fields:\n",
    "* departure - iataCode\n",
    "* arrival - iataCode\n",
    "* flight - iataNumber\n",
    "* aircraft - regNumber, iataCode\n",
    "* geography - altitude, direction, latitude, longitude\n",
    "* speed - horizontal, vertical, isGround\n",
    "* status\n",
    "* system - squawk, updated"
   ]
  },
  {
   "cell_type": "code",
   "execution_count": 195,
   "metadata": {},
   "outputs": [],
   "source": [
    "base_url  = 'http://aviation-edge.com/v2/public/flights'\n",
    "params = { 'key': api_key,\n",
    "           'depIata': 'DEN',\n",
    "#           'depIcao': '',\n",
    "#           'arrIata': '',\n",
    "#           'arrIcao': '',\n",
    "#           'aircraftIcao': '',\n",
    "#           'regNum': '',\n",
    "#           'aircraftIcao24': '',\n",
    "#           'airlineIata': '',\n",
    "#           'airlineIcao': '',\n",
    "#           'flightIata': '',\n",
    "#           'flightIcao': '',\n",
    "#           'flightNum': '',\n",
    "#           'status': '',\n",
    "#           'limit': 100\n",
    "        }\n",
    "\n",
    "resp_flight = requests.get(base_url, params=params).json()"
   ]
  },
  {
   "cell_type": "code",
   "execution_count": 196,
   "metadata": {},
   "outputs": [
    {
     "data": {
      "text/plain": [
       "367"
      ]
     },
     "execution_count": 196,
     "metadata": {},
     "output_type": "execute_result"
    }
   ],
   "source": [
    "len(resp_flight)"
   ]
  },
  {
   "cell_type": "code",
   "execution_count": 197,
   "metadata": {},
   "outputs": [
    {
     "name": "stdout",
     "output_type": "stream",
     "text": [
      "{'aircraft': {'iataCode': 'B738',\n",
      "              'icao24': '',\n",
      "              'icaoCode': 'B738',\n",
      "              'regNumber': 'N76503'},\n",
      " 'airline': {'iataCode': 'UA', 'icaoCode': 'UAL'},\n",
      " 'arrival': {'iataCode': 'LGA', 'icaoCode': 'KLGA'},\n",
      " 'departure': {'iataCode': 'DEN', 'icaoCode': 'KDEN'},\n",
      " 'flight': {'iataNumber': 'UA406', 'icaoNumber': 'UAL406', 'number': '406'},\n",
      " 'geography': {'altitude': 11277.6,\n",
      "               'direction': 88.34,\n",
      "               'latitude': 42.0506,\n",
      "               'longitude': -88.4931},\n",
      " 'speed': {'horizontal': 1024.6, 'isGround': 0, 'vertical': 0},\n",
      " 'status': 'en-route',\n",
      " 'system': {'squawk': '6261', 'updated': '1569454200'}}\n"
     ]
    }
   ],
   "source": [
    "pprint(resp_flight[3])"
   ]
  },
  {
   "cell_type": "markdown",
   "metadata": {},
   "source": [
    "#### 2. Design for AIRPORT DATABASE API\n",
    "Required fields:\n",
    "* codeIataAirport, codeIataCity, codeIso2Country\n",
    "* nameAirport, nameCountry\n",
    "* latitudeAirport, longitudeAirport\n",
    "* timezone(?)"
   ]
  },
  {
   "cell_type": "code",
   "execution_count": 230,
   "metadata": {},
   "outputs": [],
   "source": [
    "base_url = 'https://aviation-edge.com/v2/public/airportDatabase'\n",
    "params = {'key': api_key,\n",
    "          'codeIso2Country': 'US'\n",
    "         }\n",
    "\n",
    "us_airports = requests.get(base_url, params=params).json()"
   ]
  },
  {
   "cell_type": "code",
   "execution_count": 17,
   "metadata": {},
   "outputs": [
    {
     "data": {
      "text/plain": [
       "2336"
      ]
     },
     "execution_count": 17,
     "metadata": {},
     "output_type": "execute_result"
    }
   ],
   "source": [
    "len(us_airports)"
   ]
  },
  {
   "cell_type": "code",
   "execution_count": null,
   "metadata": {},
   "outputs": [],
   "source": [
    "# Display all airport results containing user-defined strings\n",
    "pprint([airport for airport in us_airports if ('denver' in airport.get('timezone').lower()) and ('international' in airport.get('nameAirport').lower())])\n"
   ]
  },
  {
   "cell_type": "code",
   "execution_count": 34,
   "metadata": {},
   "outputs": [],
   "source": [
    "# Sample data\n",
    "\n",
    "# DENVER INTERNATIONAL AIRPORT (DIA)\n",
    "\n",
    "#   'GMT': '-7',\n",
    "#   'airportId': '1746',\n",
    "#   'codeIataAirport': 'DEN',\n",
    "#   'codeIataCity': 'DEN',\n",
    "#   'codeIcaoAirport': 'KDEN',\n",
    "#   'codeIso2Country': 'US',\n",
    "#   'geonameId': '5419401',\n",
    "#   'latitudeAirport': '39.84939',\n",
    "#   'longitudeAirport': '-104.672844',\n",
    "#   'nameAirport': 'Denver International',\n",
    "#   'nameCountry': 'United States',\n",
    "#   'phone': '303-342-2000',\n",
    "#   'timezone': 'America/Denver'},"
   ]
  },
  {
   "cell_type": "markdown",
   "metadata": {},
   "source": [
    "#### 3. Design for TIMETABLE API\n",
    "Required fields ('departure'):\n",
    "* departure - iataCode, scheduledTime, gate, terminal, delay (if delayed)\n",
    "* arrival - iataCode, scheduledTime, gate, terminal, baggage, delay (if delayed)\n",
    "* airline\n",
    "* flight number (iata?)\n",
    "* status"
   ]
  },
  {
   "cell_type": "code",
   "execution_count": 239,
   "metadata": {},
   "outputs": [],
   "source": [
    "base_url = 'http://aviation-edge.com/v2/public/timetable'\n",
    "params = {'key': api_key,\n",
    "          'iataCode': 'DEN',\n",
    "          'type': 'departure'\n",
    "         }\n",
    "\n",
    "resp_timetable = requests.get(base_url, params=params).json()"
   ]
  },
  {
   "cell_type": "code",
   "execution_count": 240,
   "metadata": {},
   "outputs": [
    {
     "data": {
      "text/plain": [
       "748"
      ]
     },
     "execution_count": 240,
     "metadata": {},
     "output_type": "execute_result"
    }
   ],
   "source": [
    "len(resp_timetable)"
   ]
  },
  {
   "cell_type": "code",
   "execution_count": 194,
   "metadata": {},
   "outputs": [
    {
     "data": {
      "text/plain": [
       "{'type': 'departure',\n",
       " 'status': 'active',\n",
       " 'departure': {'iataCode': 'DEN',\n",
       "  'icaoCode': 'KDEN',\n",
       "  'terminal': None,\n",
       "  'gate': 'B29',\n",
       "  'baggage': None,\n",
       "  'delay': None,\n",
       "  'scheduledTime': '2019-09-25T22:50:00.000',\n",
       "  'estimatedTime': '2019-09-25T22:50:00.000',\n",
       "  'actualTime': None,\n",
       "  'estimatedRunway': None,\n",
       "  'actualRunway': None},\n",
       " 'arrival': {'iataCode': 'BOS',\n",
       "  'icaoCode': 'KBOS',\n",
       "  'terminal': 'B',\n",
       "  'gate': 'B27',\n",
       "  'baggage': None,\n",
       "  'delay': None,\n",
       "  'scheduledTime': '2019-09-26T04:46:00.000',\n",
       "  'estimatedTime': None,\n",
       "  'actualTime': None,\n",
       "  'estimatedRunway': None,\n",
       "  'actualRunway': None},\n",
       " 'airline': {'name': 'United Airlines', 'iataCode': 'UA', 'icaoCode': 'UAL'},\n",
       " 'flight': {'number': '1606', 'iataNumber': 'UA1606', 'icaoNumber': 'UAL1606'},\n",
       " 'codeshared': None}"
      ]
     },
     "execution_count": 194,
     "metadata": {},
     "output_type": "execute_result"
    }
   ],
   "source": [
    "resp_timetable[3]"
   ]
  },
  {
   "cell_type": "code",
   "execution_count": 191,
   "metadata": {},
   "outputs": [
    {
     "name": "stdout",
     "output_type": "stream",
     "text": [
      "[{'iataNumber': 'UA3634', 'icaoNumber': 'UAL3634', 'number': '3634'}]\n"
     ]
    }
   ],
   "source": [
    "pprint([schedule['flight'] for schedule in resp if schedule.get('flight').get('iataNumber') == \"UA3634\"])"
   ]
  },
  {
   "cell_type": "code",
   "execution_count": 251,
   "metadata": {},
   "outputs": [
    {
     "name": "stdout",
     "output_type": "stream",
     "text": [
      "[{'aircraft': {'iataCode': 'B752',\n",
      "               'icao24': '4CC268',\n",
      "               'icaoCode': 'B752',\n",
      "               'regNumber': 'TFFIC'},\n",
      "  'airline': {'iataCode': 'FI', 'icaoCode': 'ICE'},\n",
      "  'arrival': {'iataCode': 'KEF', 'icaoCode': 'BIKF'},\n",
      "  'departure': {'iataCode': 'DEN', 'icaoCode': 'KDEN'},\n",
      "  'flight': {'iataNumber': 'FI670', 'icaoNumber': 'ICE670', 'number': '670'},\n",
      "  'geography': {'altitude': 7658.1,\n",
      "                'direction': 44,\n",
      "                'latitude': 40.672,\n",
      "                'longitude': -104.117},\n",
      "  'speed': {'horizontal': 755.616, 'isGround': 1, 'vertical': 8.45312},\n",
      "  'status': 'en-route',\n",
      "  'system': {'squawk': '1445', 'updated': '1569453605'}}]\n"
     ]
    }
   ],
   "source": [
    "pprint([schedule for schedule in resp_flight if schedule.get('speed').get('isGround') != 0])"
   ]
  },
  {
   "cell_type": "code",
   "execution_count": 209,
   "metadata": {},
   "outputs": [],
   "source": [
    "match_count = 0\n",
    "\n",
    "flight_numbers_in_timetable = {flight.get('flight').get('icaoNumber') for flight in resp_timetable}\n",
    "flight_numbers_in_tracker = {flight.get('flight').get('icaoNumber') for flight in resp_flight}\n",
    "\n",
    "for flight in resp_flight:\n",
    "    if flight.get('flight').get('icaoNumber') in flight_numbers_in_timetable:\n",
    "        match_count += 1"
   ]
  },
  {
   "cell_type": "code",
   "execution_count": 210,
   "metadata": {},
   "outputs": [
    {
     "data": {
      "text/plain": [
       "180"
      ]
     },
     "execution_count": 210,
     "metadata": {},
     "output_type": "execute_result"
    }
   ],
   "source": [
    "match_count"
   ]
  },
  {
   "cell_type": "code",
   "execution_count": 206,
   "metadata": {},
   "outputs": [
    {
     "data": {
      "text/plain": [
       "1019"
      ]
     },
     "execution_count": 206,
     "metadata": {},
     "output_type": "execute_result"
    }
   ],
   "source": [
    "len(flight_numbers_in_timetable)"
   ]
  },
  {
   "cell_type": "code",
   "execution_count": 208,
   "metadata": {},
   "outputs": [
    {
     "data": {
      "text/plain": [
       "367"
      ]
     },
     "execution_count": 208,
     "metadata": {},
     "output_type": "execute_result"
    }
   ],
   "source": [
    "len(flight_numbers_in_tracker)"
   ]
  },
  {
   "cell_type": "code",
   "execution_count": 132,
   "metadata": {},
   "outputs": [],
   "source": [
    "def get_info_timetable(airport_code: str ='DEN', airline_code: str =None):\n",
    "    \n",
    "    results = []\n",
    "    \n",
    "    base_url = 'http://aviation-edge.com/v2/public/timetable'\n",
    "    params = {'key': api_key,\n",
    "              'iataCode': airport_code,\n",
    "              'airline_iata': airline_code,\n",
    "              'type': 'departure'\n",
    "             }\n",
    "\n",
    "    if not airline_code: del params['airline_iata']\n",
    "        \n",
    "    schedules = requests.get(base_url, params=params).json()\n",
    "    print(f'Searched data counts: {len(schedules)}')\n",
    "\n",
    "    for schedule in schedules:\n",
    "\n",
    "        # departure info\n",
    "        departure_iatacode = schedule['departure']['iataCode']\n",
    "        departure_scheduledtime = schedule['departure']['scheduledTime']\n",
    "        departure_scheduledtime = datetime.strptime(departure_scheduledtime, '%Y-%m-%dT%H:%M:%S.%f').strftime('%Y-%m-%d %H:%M:%S')\n",
    "        departure_gate = schedule['departure']['gate']\n",
    "        departure_terminal = schedule['departure']['terminal']\n",
    "        departure_delay = schedule['departure']['delay']\n",
    "\n",
    "        # arrival info\n",
    "        arrival_iatacode = schedule['arrival']['iataCode']\n",
    "        arrival_scheduledtime = schedule['arrival']['scheduledTime']\n",
    "        arrival_scheduledtime = datetime.strptime(arrival_scheduledtime, '%Y-%m-%dT%H:%M:%S.%f').strftime('%Y-%m-%d %H:%M:%S')\n",
    "        arrival_gate = schedule['arrival']['gate']\n",
    "        arrival_terminal = schedule['arrival']['terminal']\n",
    "        arrival_baggage = schedule['arrival']['baggage']\n",
    "        arrival_delay = schedule['arrival']['delay']\n",
    "\n",
    "        # airline info\n",
    "        airline_iatacode = schedule['airline']['iataCode']\n",
    "        airline_name = schedule['airline']['name']\n",
    "\n",
    "        # flight info\n",
    "        flight_iatanumber = schedule['flight']['iataNumber']\n",
    "        flight_status = schedule['status']\n",
    "        \n",
    "        results.append(\n",
    "             {\n",
    "              'departure_iatacode': departure_iatacode,\n",
    "              'departure_scheduledtime': departure_scheduledtime,\n",
    "              'departure_gate': departure_gate,\n",
    "              'departure_terminal': departure_terminal,\n",
    "              'departure_delay': departure_delay,\n",
    "              'arrival_iatacode': arrival_iatacode,\n",
    "              'arrival_scheduledtime': arrival_scheduledtime,\n",
    "              'arrival_gate': arrival_gate,\n",
    "              'arrival_terminal': arrival_terminal,\n",
    "              'arrival_baggage': arrival_baggage,\n",
    "              'arrival_delay': arrival_delay,\n",
    "              'airline_iatacode': airline_iatacode,\n",
    "              'airline_name': airline_name,\n",
    "              'flight_iatanumber': flight_iatanumber,\n",
    "              'flight_status': flight_status  \n",
    "            }\n",
    "        )\n",
    "\n",
    "    return results\n"
   ]
  },
  {
   "cell_type": "code",
   "execution_count": 133,
   "metadata": {},
   "outputs": [
    {
     "name": "stdout",
     "output_type": "stream",
     "text": [
      "Searched data counts: 602\n"
     ]
    }
   ],
   "source": [
    "results = get_info_timetable('DEN')"
   ]
  },
  {
   "cell_type": "code",
   "execution_count": 149,
   "metadata": {},
   "outputs": [],
   "source": [
    "schedule_df = pd.DataFrame.from_records(results)"
   ]
  },
  {
   "cell_type": "code",
   "execution_count": 151,
   "metadata": {},
   "outputs": [
    {
     "data": {
      "text/html": [
       "<div>\n",
       "<style scoped>\n",
       "    .dataframe tbody tr th:only-of-type {\n",
       "        vertical-align: middle;\n",
       "    }\n",
       "\n",
       "    .dataframe tbody tr th {\n",
       "        vertical-align: top;\n",
       "    }\n",
       "\n",
       "    .dataframe thead th {\n",
       "        text-align: right;\n",
       "    }\n",
       "</style>\n",
       "<table border=\"1\" class=\"dataframe\">\n",
       "  <thead>\n",
       "    <tr style=\"text-align: right;\">\n",
       "      <th></th>\n",
       "      <th>airline_iatacode</th>\n",
       "      <th>airline_name</th>\n",
       "      <th>arrival_baggage</th>\n",
       "      <th>arrival_delay</th>\n",
       "      <th>arrival_gate</th>\n",
       "      <th>arrival_iatacode</th>\n",
       "      <th>arrival_scheduledtime</th>\n",
       "      <th>arrival_terminal</th>\n",
       "      <th>departure_delay</th>\n",
       "      <th>departure_gate</th>\n",
       "      <th>departure_iatacode</th>\n",
       "      <th>departure_scheduledtime</th>\n",
       "      <th>departure_terminal</th>\n",
       "      <th>flight_iatanumber</th>\n",
       "      <th>flight_status</th>\n",
       "    </tr>\n",
       "  </thead>\n",
       "  <tbody>\n",
       "    <tr>\n",
       "      <th>49</th>\n",
       "      <td>WN</td>\n",
       "      <td>Southwest Airlines</td>\n",
       "      <td>None</td>\n",
       "      <td>None</td>\n",
       "      <td>406</td>\n",
       "      <td>ONT</td>\n",
       "      <td>2019-09-24 22:35:00</td>\n",
       "      <td>4</td>\n",
       "      <td>35</td>\n",
       "      <td>C37</td>\n",
       "      <td>DEN</td>\n",
       "      <td>2019-09-24 21:25:00</td>\n",
       "      <td>None</td>\n",
       "      <td>WN150</td>\n",
       "      <td>active</td>\n",
       "    </tr>\n",
       "  </tbody>\n",
       "</table>\n",
       "</div>"
      ],
      "text/plain": [
       "   airline_iatacode        airline_name arrival_baggage arrival_delay  \\\n",
       "49               WN  Southwest Airlines            None          None   \n",
       "\n",
       "   arrival_gate arrival_iatacode arrival_scheduledtime arrival_terminal  \\\n",
       "49          406              ONT   2019-09-24 22:35:00                4   \n",
       "\n",
       "   departure_delay departure_gate departure_iatacode departure_scheduledtime  \\\n",
       "49              35            C37                DEN     2019-09-24 21:25:00   \n",
       "\n",
       "   departure_terminal flight_iatanumber flight_status  \n",
       "49               None             WN150        active  "
      ]
     },
     "execution_count": 151,
     "metadata": {},
     "output_type": "execute_result"
    }
   ],
   "source": [
    "schedule_df.query(\"flight_iatanumber == 'WN150'\")"
   ]
  },
  {
   "cell_type": "markdown",
   "metadata": {},
   "source": [
    "#### Airport Database\n",
    "Required fields ('departure'):"
   ]
  },
  {
   "cell_type": "code",
   "execution_count": 228,
   "metadata": {},
   "outputs": [],
   "source": [
    "base_url = 'https://aviation-edge.com/v2/public/airportDatabase'\n",
    "params = {'key': api_key}\n",
    "\n",
    "airport_db = requests.get(base_url, params=params).json()"
   ]
  },
  {
   "cell_type": "code",
   "execution_count": 215,
   "metadata": {},
   "outputs": [
    {
     "data": {
      "text/plain": [
       "{'airportId': '5',\n",
       " 'nameAirport': 'Apalachicola Regional',\n",
       " 'codeIataAirport': 'AAF',\n",
       " 'codeIcaoAirport': 'KAAF',\n",
       " 'latitudeAirport': '29.733334',\n",
       " 'longitudeAirport': '-84.98333',\n",
       " 'geonameId': '4146153',\n",
       " 'timezone': 'America/New_York',\n",
       " 'GMT': '-5',\n",
       " 'phone': '',\n",
       " 'nameCountry': 'United States',\n",
       " 'codeIso2Country': 'US',\n",
       " 'codeIataCity': 'AAF'}"
      ]
     },
     "execution_count": 215,
     "metadata": {},
     "output_type": "execute_result"
    }
   ],
   "source": [
    "airport_db[4]"
   ]
  },
  {
   "cell_type": "code",
   "execution_count": 113,
   "metadata": {},
   "outputs": [
    {
     "data": {
      "text/html": [
       "<div>\n",
       "<style scoped>\n",
       "    .dataframe tbody tr th:only-of-type {\n",
       "        vertical-align: middle;\n",
       "    }\n",
       "\n",
       "    .dataframe tbody tr th {\n",
       "        vertical-align: top;\n",
       "    }\n",
       "\n",
       "    .dataframe thead th {\n",
       "        text-align: right;\n",
       "    }\n",
       "</style>\n",
       "<table border=\"1\" class=\"dataframe\">\n",
       "  <thead>\n",
       "    <tr style=\"text-align: right;\">\n",
       "      <th></th>\n",
       "      <th>GMT</th>\n",
       "      <th>airportId</th>\n",
       "      <th>codeIataAirport</th>\n",
       "      <th>codeIataCity</th>\n",
       "      <th>codeIcaoAirport</th>\n",
       "      <th>codeIso2Country</th>\n",
       "      <th>geonameId</th>\n",
       "      <th>latitudeAirport</th>\n",
       "      <th>longitudeAirport</th>\n",
       "      <th>nameAirport</th>\n",
       "      <th>nameCountry</th>\n",
       "      <th>phone</th>\n",
       "      <th>timezone</th>\n",
       "    </tr>\n",
       "  </thead>\n",
       "  <tbody>\n",
       "    <tr>\n",
       "      <th>0</th>\n",
       "      <td>-10</td>\n",
       "      <td>1</td>\n",
       "      <td>AAA</td>\n",
       "      <td>AAA</td>\n",
       "      <td>NTGA</td>\n",
       "      <td>PF</td>\n",
       "      <td>6947726</td>\n",
       "      <td>-17.05</td>\n",
       "      <td>-145.41667</td>\n",
       "      <td>Anaa</td>\n",
       "      <td>French Polynesia</td>\n",
       "      <td></td>\n",
       "      <td>Pacific/Tahiti</td>\n",
       "    </tr>\n",
       "    <tr>\n",
       "      <th>1</th>\n",
       "      <td>10</td>\n",
       "      <td>2</td>\n",
       "      <td>AAB</td>\n",
       "      <td>AAB</td>\n",
       "      <td>YARY</td>\n",
       "      <td>AU</td>\n",
       "      <td>7730796</td>\n",
       "      <td>-26.7</td>\n",
       "      <td>141.04167</td>\n",
       "      <td>Arrabury</td>\n",
       "      <td>Australia</td>\n",
       "      <td></td>\n",
       "      <td>Australia/Brisbane</td>\n",
       "    </tr>\n",
       "    <tr>\n",
       "      <th>2</th>\n",
       "      <td>2</td>\n",
       "      <td>3</td>\n",
       "      <td>AAC</td>\n",
       "      <td>AAC</td>\n",
       "      <td>HEAR</td>\n",
       "      <td>EG</td>\n",
       "      <td>6297289</td>\n",
       "      <td>31.133333</td>\n",
       "      <td>33.75</td>\n",
       "      <td>El Arish International Airport</td>\n",
       "      <td>Egypt</td>\n",
       "      <td></td>\n",
       "      <td>Africa/Cairo</td>\n",
       "    </tr>\n",
       "    <tr>\n",
       "      <th>3</th>\n",
       "      <td>1</td>\n",
       "      <td>4</td>\n",
       "      <td>AAE</td>\n",
       "      <td>AAE</td>\n",
       "      <td>DABB</td>\n",
       "      <td>DZ</td>\n",
       "      <td>2570559</td>\n",
       "      <td>36.821392</td>\n",
       "      <td>7.811857</td>\n",
       "      <td>Les Salines</td>\n",
       "      <td></td>\n",
       "      <td></td>\n",
       "      <td>Africa/Algiers</td>\n",
       "    </tr>\n",
       "    <tr>\n",
       "      <th>4</th>\n",
       "      <td>-5</td>\n",
       "      <td>5</td>\n",
       "      <td>AAF</td>\n",
       "      <td>AAF</td>\n",
       "      <td>KAAF</td>\n",
       "      <td>US</td>\n",
       "      <td>4146153</td>\n",
       "      <td>29.733334</td>\n",
       "      <td>-84.98333</td>\n",
       "      <td>Apalachicola Regional</td>\n",
       "      <td>United States</td>\n",
       "      <td></td>\n",
       "      <td>America/New_York</td>\n",
       "    </tr>\n",
       "  </tbody>\n",
       "</table>\n",
       "</div>"
      ],
      "text/plain": [
       "   GMT airportId codeIataAirport codeIataCity codeIcaoAirport codeIso2Country  \\\n",
       "0  -10         1             AAA          AAA            NTGA              PF   \n",
       "1   10         2             AAB          AAB            YARY              AU   \n",
       "2    2         3             AAC          AAC            HEAR              EG   \n",
       "3    1         4             AAE          AAE            DABB              DZ   \n",
       "4   -5         5             AAF          AAF            KAAF              US   \n",
       "\n",
       "  geonameId latitudeAirport longitudeAirport                     nameAirport  \\\n",
       "0   6947726          -17.05       -145.41667                            Anaa   \n",
       "1   7730796           -26.7        141.04167                        Arrabury   \n",
       "2   6297289       31.133333            33.75  El Arish International Airport   \n",
       "3   2570559       36.821392         7.811857                     Les Salines   \n",
       "4   4146153       29.733334        -84.98333           Apalachicola Regional   \n",
       "\n",
       "        nameCountry phone            timezone  \n",
       "0  French Polynesia            Pacific/Tahiti  \n",
       "1         Australia        Australia/Brisbane  \n",
       "2             Egypt              Africa/Cairo  \n",
       "3                              Africa/Algiers  \n",
       "4     United States          America/New_York  "
      ]
     },
     "execution_count": 113,
     "metadata": {},
     "output_type": "execute_result"
    }
   ],
   "source": [
    "df_airport = pd.DataFrame.from_records(airport_db)\n",
    "df_airport.head()"
   ]
  },
  {
   "cell_type": "code",
   "execution_count": 115,
   "metadata": {},
   "outputs": [],
   "source": [
    "from sqlalchemy import create_engine\n",
    "\n",
    "engine = create_engine('sqlite:///airport.db', echo=True)"
   ]
  },
  {
   "cell_type": "code",
   "execution_count": 116,
   "metadata": {},
   "outputs": [
    {
     "name": "stdout",
     "output_type": "stream",
     "text": [
      "2019-09-21 16:17:17,190 INFO sqlalchemy.engine.base.Engine SELECT CAST('test plain returns' AS VARCHAR(60)) AS anon_1\n",
      "2019-09-21 16:17:17,190 INFO sqlalchemy.engine.base.Engine ()\n",
      "2019-09-21 16:17:17,191 INFO sqlalchemy.engine.base.Engine SELECT CAST('test unicode returns' AS VARCHAR(60)) AS anon_1\n",
      "2019-09-21 16:17:17,192 INFO sqlalchemy.engine.base.Engine ()\n",
      "2019-09-21 16:17:17,193 INFO sqlalchemy.engine.base.Engine PRAGMA table_info(\"airports\")\n",
      "2019-09-21 16:17:17,193 INFO sqlalchemy.engine.base.Engine ()\n",
      "2019-09-21 16:17:17,196 INFO sqlalchemy.engine.base.Engine \n",
      "CREATE TABLE airports (\n",
      "\t\"index\" BIGINT, \n",
      "\t\"GMT\" TEXT, \n",
      "\t\"airportId\" TEXT, \n",
      "\t\"codeIataAirport\" TEXT, \n",
      "\t\"codeIataCity\" TEXT, \n",
      "\t\"codeIcaoAirport\" TEXT, \n",
      "\t\"codeIso2Country\" TEXT, \n",
      "\t\"geonameId\" TEXT, \n",
      "\t\"latitudeAirport\" TEXT, \n",
      "\t\"longitudeAirport\" TEXT, \n",
      "\t\"nameAirport\" TEXT, \n",
      "\t\"nameCountry\" TEXT, \n",
      "\tphone TEXT, \n",
      "\ttimezone TEXT\n",
      ")\n",
      "\n",
      "\n",
      "2019-09-21 16:17:17,197 INFO sqlalchemy.engine.base.Engine ()\n",
      "2019-09-21 16:17:17,199 INFO sqlalchemy.engine.base.Engine COMMIT\n",
      "2019-09-21 16:17:17,199 INFO sqlalchemy.engine.base.Engine CREATE INDEX ix_airports_index ON airports (\"index\")\n",
      "2019-09-21 16:17:17,200 INFO sqlalchemy.engine.base.Engine ()\n",
      "2019-09-21 16:17:17,201 INFO sqlalchemy.engine.base.Engine COMMIT\n",
      "2019-09-21 16:17:17,224 INFO sqlalchemy.engine.base.Engine BEGIN (implicit)\n",
      "2019-09-21 16:17:17,322 INFO sqlalchemy.engine.base.Engine INSERT INTO airports (\"index\", \"GMT\", \"airportId\", \"codeIataAirport\", \"codeIataCity\", \"codeIcaoAirport\", \"codeIso2Country\", \"geonameId\", \"latitudeAirport\", \"longitudeAirport\", \"nameAirport\", \"nameCountry\", phone, timezone) VALUES (?, ?, ?, ?, ?, ?, ?, ?, ?, ?, ?, ?, ?, ?)\n",
      "2019-09-21 16:17:17,322 INFO sqlalchemy.engine.base.Engine ((0, '-10', '1', 'AAA', 'AAA', 'NTGA', 'PF', '6947726', '-17.05', '-145.41667', 'Anaa', 'French Polynesia', '', 'Pacific/Tahiti'), (1, '10', '2', 'AAB', 'AAB', 'YARY', 'AU', '7730796', '-26.7', '141.04167', 'Arrabury', 'Australia', '', 'Australia/Brisbane'), (2, '2', '3', 'AAC', 'AAC', 'HEAR', 'EG', '6297289', '31.133333', '33.75', 'El Arish International Airport', 'Egypt', '', 'Africa/Cairo'), (3, '1', '4', 'AAE', 'AAE', 'DABB', 'DZ', '2570559', '36.821392', '7.811857', 'Les Salines', '', '', 'Africa/Algiers'), (4, '-5', '5', 'AAF', 'AAF', 'KAAF', 'US', '4146153', '29.733334', '-84.98333', 'Apalachicola Regional', 'United States', '', 'America/New_York'), (5, '-3', '6', 'AAG', 'AAG', 'SSYA', 'BR', '3471795', '-24.103611', '-49.79', 'Arapoti', 'Brazil', '', 'America/Sao_Paulo'), (6, '1', '7', 'AAH', 'AAH', 'EDKA', 'DE', '3247449', '50.75', '6.133333', 'Aachen/Merzbruck', 'Germany', '', 'Europe/Berlin'), (7, '-3', '8', 'AAI', 'AAI', 'SWRA', 'BR', '7668483', '-12.916667', '-46.933334', 'Arraias', 'Brazil', '', 'America/Araguaina')  ... displaying 10 of 10051 total bound parameter sets ...  (10049, '2', '10050', 'ZZU', 'ZZU', 'FWUU', 'MW', '6297127', '-11.442778', '34.01278', 'Mzuzu', 'Malawi', '', 'Africa/Blantyre'), (10050, '-5', '10051', 'ZZV', 'ZZV', 'KZZV', 'US', '4528929', '39.933334', '-82.01667', 'Zanesville', 'United States', '', 'America/New_York'))\n",
      "2019-09-21 16:17:17,360 INFO sqlalchemy.engine.base.Engine COMMIT\n"
     ]
    }
   ],
   "source": [
    "df_airport.to_sql('airports', con=engine)"
   ]
  },
  {
   "cell_type": "code",
   "execution_count": 119,
   "metadata": {},
   "outputs": [],
   "source": [
    "%%bash\n",
    "open ."
   ]
  },
  {
   "cell_type": "code",
   "execution_count": null,
   "metadata": {},
   "outputs": [],
   "source": [
    "engine.execute('SELECT * FROM airports').fetchall()"
   ]
  },
  {
   "cell_type": "code",
   "execution_count": 120,
   "metadata": {},
   "outputs": [
    {
     "name": "stdout",
     "output_type": "stream",
     "text": [
      "2019-09-21 23:30:34,822 INFO sqlalchemy.engine.base.Engine SELECT * FROM airports\n",
      "2019-09-21 23:30:34,822 INFO sqlalchemy.engine.base.Engine ()\n"
     ]
    }
   ],
   "source": [
    "df = pd.read_sql_query('SELECT * FROM airports', engine)"
   ]
  },
  {
   "cell_type": "code",
   "execution_count": null,
   "metadata": {},
   "outputs": [],
   "source": [
    "df"
   ]
  },
  {
   "cell_type": "code",
   "execution_count": 218,
   "metadata": {},
   "outputs": [],
   "source": [
    "base_url = \"http://aviation-edge.com/v2/public/routes\"\n",
    "params = {\"key\": api_key}\n",
    "\n",
    "resp_route = requests.get(base_url, params=params).json()"
   ]
  },
  {
   "cell_type": "code",
   "execution_count": 219,
   "metadata": {},
   "outputs": [
    {
     "data": {
      "text/plain": [
       "300"
      ]
     },
     "execution_count": 219,
     "metadata": {},
     "output_type": "execute_result"
    }
   ],
   "source": [
    "len(resp_route)"
   ]
  },
  {
   "cell_type": "code",
   "execution_count": null,
   "metadata": {},
   "outputs": [],
   "source": [
    "den_route = [route for route in resp_route if route.get('departureIata') == \"OTP\" ]\n",
    "den_route"
   ]
  },
  {
   "cell_type": "code",
   "execution_count": null,
   "metadata": {},
   "outputs": [],
   "source": []
  }
 ],
 "metadata": {
  "kernelspec": {
   "display_name": "Python 3",
   "language": "python",
   "name": "python3"
  },
  "language_info": {
   "codemirror_mode": {
    "name": "ipython",
    "version": 3
   },
   "file_extension": ".py",
   "mimetype": "text/x-python",
   "name": "python",
   "nbconvert_exporter": "python",
   "pygments_lexer": "ipython3",
   "version": "3.7.3"
  }
 },
 "nbformat": 4,
 "nbformat_minor": 2
}
